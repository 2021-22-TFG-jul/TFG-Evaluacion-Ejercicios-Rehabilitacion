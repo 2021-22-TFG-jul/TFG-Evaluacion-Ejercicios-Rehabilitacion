{
 "cells": [
  {
   "cell_type": "markdown",
   "id": "412b0a76",
   "metadata": {},
   "source": [
    "# Identificación de ejercicios sobre extremidades superiores e inferiores\n",
    "\n",
    "### Autora: Lucía Núñez Calvo\n",
    "\n",
    "#### Fecha: 6 de Junio de 2022"
   ]
  },
  {
   "cell_type": "markdown",
   "id": "e6cf1462",
   "metadata": {},
   "source": [
    "En este cuaderno se van a plantear unas posibles soluciones para investigar en líneas futuras sobre como detectar si un ejercicio corresponde a la parte superior o inferior del cuertpo, es decir, si el paciente mueve las extremidades superiores o inferiores. Una vez localizado esto, se podrá ampliar con clasificarlos como movimientos de cuello, cadera, brazos etc. \n",
    "\n",
    "Como primera opción se va a usar la desviación típica o estandar. Este valor indica como de dispersos están los datos, cuanto más alto sea, más dispersos estarán. Por ejemplo, vamos a plantear dos secuencias de números, una muy similar y otra con datos totalmente dispersos."
   ]
  },
  {
   "cell_type": "code",
   "execution_count": 1,
   "id": "ffbe6514",
   "metadata": {},
   "outputs": [
    {
     "name": "stdout",
     "output_type": "stream",
     "text": [
      "Desviación típica de 'a':  0.4969039949999533 \n",
      "Desviación típica de 'b':  200.07578810954195\n"
     ]
    }
   ],
   "source": [
    "import numpy as np \n",
    "\n",
    "a=[1,2,1,2,1,2,1,2,2]\n",
    "b=[34,43,41,21,3,440,556,7,8]\n",
    "\n",
    "print(\"Desviación típica de 'a': \",np.array(a).std(),\"\\nDesviación típica de 'b': \",np.array(b).std(),)"
   ]
  },
  {
   "cell_type": "markdown",
   "id": "ebb946e7",
   "metadata": {},
   "source": [
    "Como se puede observar en el ejemplo anterior, el valor de la desviación típica de 'a' es mucho menor que el de 'b'. Esto quiere decir que los valores que contiene 'a' son bastante similares.\n",
    "Habiendo comprendido este concepto, es muy fácil aplicarlo a nuestro problema. Si una persona permanece sentada realizando ejercicios en las extremidades superiores, éstas cambiarán constantemente de posición, haciendo que los valores que almacene el algoritmo sean muy dispersos. De la misma manera, mientras realiza esos mismos ejercicios, las piernas permanecerán inmóbiles, por lo que la dispersión en esos datos será mínima. "
   ]
  },
  {
   "cell_type": "markdown",
   "id": "3fdbd602",
   "metadata": {},
   "source": [
    "<div class=\"alert alert-block alert-warning\">\n",
    "    <b>Nota: </b> Se han creado nuevos ficheros con extensión .pickle separando los ejercicios de las parte superior del cuerpo de la inferior. \n",
    "    \n",
    "-     Como partes superiores se han considerado: nariz, hombroI,s hombroD, cuello, angCuelloSupI, angCuelloSupD, codoI, codoD, manoI, manoD, angCodoI, angCodoD, angHombroI, angHombroD.\n",
    "    \n",
    "-     Como partes inferiores se han considerado: caderaI, caderaD, rodillaI, rodillaD, angCaderaI, angCaderaD,0], tobilloI, tobilloD, angRodillaI, angRodillaD.\n",
    "\n",
    "</div>"
   ]
  },
  {
   "cell_type": "code",
   "execution_count": 2,
   "id": "1425eaba",
   "metadata": {},
   "outputs": [],
   "source": [
    "import pickle\n",
    "\n",
    "def extrat_pickle(file):\n",
    "    pos=[]\n",
    "    with open(\"./Pickle/\"+file, \"rb\") as f:\n",
    "        while True: \n",
    "            try:\n",
    "                current_id=pickle.load(f)\n",
    "                pos.append(current_id)\n",
    "            except EOFError:\n",
    "                break\n",
    "    return pos"
   ]
  },
  {
   "cell_type": "code",
   "execution_count": 3,
   "id": "5d83a07c",
   "metadata": {},
   "outputs": [],
   "source": [
    "files_sup = [\"pos_superiores_ej1.pickle\", \"pos_superiores_ej2.pickle\", \"pos_superiores_ej3.pickle\", \n",
    "         \"pos_superiores_ej4.pickle\", \"pos_superiores_ej5.pickle\", \"pos_superiores_ej6.pickle\",\n",
    "        \"pos_superiores_ej7.pickle\", \"pos_superiores_ej8.pickle\", \"pos_superiores_ej9.pickle\", \n",
    "        \"pos_superiores_ej10.pickle\", \"pos_superiores_ej11.pickle\", \"pos_superiores_ej12.pickle\", \n",
    "        \"pos_superiores_ej13.pickle\", \"pos_superiores_ej14.pickle\"]\n",
    "\n",
    "for i,f in enumerate(files_sup,1):\n",
    "    locals()[\"pos_sup_ej\" + str(i)] = extrat_pickle(f)\n",
    "    \n",
    "files_inf = [\"pos_inferiores_ej1.pickle\", \"pos_inferiores_ej2.pickle\", \"pos_inferiores_ej3.pickle\", \n",
    "         \"pos_inferiores_ej4.pickle\", \"pos_inferiores_ej5.pickle\", \"pos_inferiores_ej6.pickle\",\n",
    "        \"pos_inferiores_ej7.pickle\", \"pos_inferiores_ej8.pickle\", \"pos_inferiores_ej9.pickle\", \n",
    "        \"pos_inferiores_ej10.pickle\", \"pos_inferiores_ej11.pickle\", \"pos_inferiores_ej12.pickle\", \n",
    "        \"pos_inferiores_ej13.pickle\", \"pos_inferiores_ej14.pickle\"]\n",
    "\n",
    "for i,f in enumerate(files_inf,1):\n",
    "    locals()[\"pos_inf_ej\" + str(i)] = extrat_pickle(f)"
   ]
  },
  {
   "cell_type": "markdown",
   "id": "76f52e16",
   "metadata": {},
   "source": [
    "Para realizar estas pruebas hay que tener en cuenta que tipo de ejercicio se realiza en cada vídeo:\n",
    "- Ejercicio <font color='Magenta'>1</font> : Movimientos con sobre las extremidades <font color='Magenta'>SUPERIORES</font>\n",
    "- Ejercicio <font color='olive'>2</font> : Movimientos con sobre las extremidades <font color='olive'>INFERIORES</font> \n",
    "- Ejercicio <font color='Magenta'>3</font> : Movimientos con sobre las extremidades <font color='Magenta'>SUPERIORES</font>\n",
    "- Ejercicio <font color='Magenta'>4</font> : Movimientos con sobre las extremidades <font color='Magenta'>SUPERIORES</font>\n",
    "- Ejercicio <font color='olive'>5</font> : Movimientos con sobre las extremidades <font color='olive'>INFERIORES</font>\n",
    "- Ejercicio <font color='olive'>6</font> : Movimientos con sobre las extremidades <font color='olive'>INFERIORES</font>\n",
    "- Ejercicio <font color='olive'>7</font> : Movimientos con sobre las extremidades <font color='olive'>INFERIORES</font>\n",
    "- Ejercicio <font color='olive'>8</font> : Movimientos con sobre las extremidades <font color='olive'>INFERIORES</font>\n",
    "- Ejercicio <font color='Magenta'>9</font> : Movimientos con sobre las extremidades <font color='Magenta'>SUPERIORES</font>\n",
    "- Ejercicio <font color='Magenta'>10</font> : Movimientos con sobre las extremidades <font color='Magenta'>SUPERIORES</font>\n",
    "- Ejercicio <font color='Magenta'>11</font> : Movimientos con sobre las extremidades <font color='Magenta'>SUPERIORES</font>\n",
    "- Ejercicio <font color='Magenta'>12</font> : Movimientos con sobre las extremidades <font color='Magenta'>SUPERIORES</font>\n",
    "- Ejercicio <font color='Magenta'>13</font> : Movimientos con sobre las extremidades <font color='Magenta'>SUPERIORES</font>\n",
    "- Ejercicio <font color='Magenta'>14</font> : Movimientos con sobre las extremidades <font color='Magenta'>SUPERIORES</font>\n"
   ]
  },
  {
   "cell_type": "markdown",
   "id": "9f87710b",
   "metadata": {},
   "source": [
    "Los vídeos no se han mostrado en este cuaderno porque hace que la carga del cuaderno sea demasiado lenta, pero si se quiere comprobar la clasificación anterior se puede realizar de la siguiente manera:"
   ]
  },
  {
   "cell_type": "code",
   "execution_count": 17,
   "id": "3e541dd9",
   "metadata": {},
   "outputs": [],
   "source": [
    "from IPython.display import Video\n",
    "\n",
    "Video(\"./Videos/Ejercicio1.mp4\",embed=True,width=200)"
   ]
  },
  {
   "cell_type": "markdown",
   "id": "8ecaea63",
   "metadata": {},
   "source": [
    "El objetivo que se persigue con esta investigación es el siguiente, al obtener una desviación típica sobre las partes superiores e inferiores del cuerpo y compararla, si la desviación típica de la parte superior es menor que la de la parte inferior, quiere decir que ha movido menos la parte superior del cuerpo. Por el contrario si la desviación típica menor se encuentra en los movimientos inferiores, quiere decir que se trata de un ejercicio sobre la parte superior del cuerpo."
   ]
  },
  {
   "cell_type": "markdown",
   "id": "c6e54ec5",
   "metadata": {},
   "source": [
    "### Pruebas sobre las posiciones completas"
   ]
  },
  {
   "cell_type": "code",
   "execution_count": 5,
   "id": "2c131f80",
   "metadata": {},
   "outputs": [
    {
     "name": "stdout",
     "output_type": "stream",
     "text": [
      "\n",
      "Superiores Ejercicio 1:  312.5586083023373 \n",
      "Inferiores Ejercicio 1:  510.2136421161995\n",
      "\n",
      "Superiores Ejercicio 2:  317.73491364432135 \n",
      "Inferiores Ejercicio 2:  478.92853165027213\n",
      "\n",
      "Superiores Ejercicio 3:  350.6941755631945 \n",
      "Inferiores Ejercicio 3:  497.06632434690425\n",
      "\n",
      "Superiores Ejercicio 4:  313.8993710636264 \n",
      "Inferiores Ejercicio 4:  525.4525629248768\n",
      "\n",
      "Superiores Ejercicio 5:  316.1910147433228 \n",
      "Inferiores Ejercicio 5:  397.6709124086094\n",
      "\n",
      "Superiores Ejercicio 6:  295.8851154202825 \n",
      "Inferiores Ejercicio 6:  463.6342608107552\n",
      "\n",
      "Superiores Ejercicio 7:  352.7614165202299 \n",
      "Inferiores Ejercicio 7:  427.26342656537025\n",
      "\n",
      "Superiores Ejercicio 8:  333.64660290508675 \n",
      "Inferiores Ejercicio 8:  411.6068914960573\n",
      "\n",
      "Superiores Ejercicio 9:  334.5604892058636 \n",
      "Inferiores Ejercicio 9:  454.84117561669245\n",
      "\n",
      "Superiores Ejercicio 10:  322.3169025021562 \n",
      "Inferiores Ejercicio 10:  516.376914496461\n",
      "\n",
      "Superiores Ejercicio 11:  382.39450011959707 \n",
      "Inferiores Ejercicio 11:  506.92116983823473\n",
      "\n",
      "Superiores Ejercicio 12:  301.99663542327545 \n",
      "Inferiores Ejercicio 12:  458.7666170695263\n",
      "\n",
      "Superiores Ejercicio 13:  340.52548336919494 \n",
      "Inferiores Ejercicio 13:  503.84768176205006\n",
      "\n",
      "Superiores Ejercicio 14:  336.46764537645237 \n",
      "Inferiores Ejercicio 14:  442.1556788500121\n"
     ]
    }
   ],
   "source": [
    "import statistics\n",
    "\n",
    "pos = [(pos_sup_ej1, pos_inf_ej1), (pos_sup_ej2, pos_inf_ej2), (pos_sup_ej3, pos_inf_ej3),\n",
    "      (pos_sup_ej4, pos_inf_ej4), (pos_sup_ej5, pos_inf_ej5), (pos_sup_ej6, pos_inf_ej6),\n",
    "      (pos_sup_ej7, pos_inf_ej7), (pos_sup_ej8, pos_inf_ej8), (pos_sup_ej9, pos_inf_ej9),\n",
    "      (pos_sup_ej10, pos_inf_ej10), (pos_sup_ej11, pos_inf_ej11), (pos_sup_ej12, pos_inf_ej12),\n",
    "      (pos_sup_ej13, pos_inf_ej13), (pos_sup_ej14, pos_inf_ej14)]\n",
    "\n",
    "for i, p in enumerate(pos,1):\n",
    "    print(\"\\nSuperiores Ejercicio \"+str(i)+\": \",np.array(p[0]).flatten().std(),\n",
    "      \"\\nInferiores Ejercicio \"+str(i)+\": \",np.array(p[1]).flatten().std())"
   ]
  },
  {
   "cell_type": "markdown",
   "id": "addfb021",
   "metadata": {},
   "source": [
    "<div class=\"alert alert-block alert-danger\">\n",
    "    Como se puede observar, el resultado no es lo que se esperaba. En todos los ejercicios muestra una desviación típica mucho menor en los movimientos superiores \n",
    "</div>"
   ]
  },
  {
   "cell_type": "markdown",
   "id": "60c530fc",
   "metadata": {},
   "source": [
    "#### Análisis de resultados"
   ]
  },
  {
   "cell_type": "markdown",
   "id": "3a15b0b0",
   "metadata": {},
   "source": [
    "Una de las posibles razones por las que puede estar fallando el algoritmo es por la diferencia entre las dimensiones. Si escogemos una poscición cualquiera de todas las obtenidas podremos observar lo siguiente:"
   ]
  },
  {
   "cell_type": "code",
   "execution_count": 101,
   "id": "6614327a",
   "metadata": {},
   "outputs": [
    {
     "name": "stdout",
     "output_type": "stream",
     "text": [
      "[453.41833, 1030.679] \n",
      " [458.34384, 1056.7941] \n",
      " [459.32187, 1063.9482] \n",
      " [460.7943, 1056.4639] \n",
      " [454.8593, 983.5553] \n",
      " [455.0474, 1048.6957] \n",
      " [450.57803, 1032.291] \n",
      " [451.0298, 1028.2092]\n"
     ]
    }
   ],
   "source": [
    "print(pos_inf_ej1[0][1],\"\\n\",pos_inf_ej1[1][1],\"\\n\",pos_inf_ej1[2][1],\"\\n\",pos_inf_ej1[3][1],\n",
    "      \"\\n\",pos_inf_ej1[4][1],\"\\n\",pos_inf_ej1[5][1],\"\\n\",pos_inf_ej1[6][1],\"\\n\",pos_inf_ej1[7][1],)"
   ]
  },
  {
   "cell_type": "markdown",
   "id": "bdcca7fb",
   "metadata": {},
   "source": [
    "Como se puede observar éste se trata de un ejercicio inferior seguramente ya que a lo largo de los movimientos la parte inferior casi no se mueve. Al escoger el elemento 1 de cada posición estamos mirando la caderaD. Pero el problema está en que los datos entre el eje x y el eje y si que están demasiado dispersos por lo que esto puede ser un problema. Por esa razón se va a proceder a separar los ejes. "
   ]
  },
  {
   "cell_type": "markdown",
   "id": "0bb3f4f9",
   "metadata": {},
   "source": [
    "### Dimensión X\n",
    "\n",
    "Se va a probar a realizar pruebas solo sobre la dimensión x de las posiciones superiores e inferiores"
   ]
  },
  {
   "cell_type": "code",
   "execution_count": 18,
   "id": "86e03167",
   "metadata": {},
   "outputs": [],
   "source": [
    "def dim_x(array):\n",
    "    x=[]\n",
    "    for i in range(len(array)):\n",
    "        x.append(np.array(array)[i][:,0])\n",
    "    return x"
   ]
  },
  {
   "cell_type": "code",
   "execution_count": 19,
   "id": "3a0a8a4d",
   "metadata": {},
   "outputs": [
    {
     "name": "stdout",
     "output_type": "stream",
     "text": [
      "\n",
      "Superiores Ejercicio 1:  219.23597959793918 \n",
      "Inferiores Ejercicio 1:  170.6458444061509\n",
      "\n",
      "Superiores Ejercicio 2:  198.50738398854358 \n",
      "Inferiores Ejercicio 2:  172.03672648909557\n",
      "\n",
      "Superiores Ejercicio 3:  217.49069152791134 \n",
      "Inferiores Ejercicio 3:  163.3575414993367\n",
      "\n",
      "Superiores Ejercicio 4:  205.92900656107562 \n",
      "Inferiores Ejercicio 4:  169.7051075423748\n",
      "\n",
      "Superiores Ejercicio 5:  218.98570247490102 \n",
      "Inferiores Ejercicio 5:  190.471589404739\n",
      "\n",
      "Superiores Ejercicio 6:  202.11674097772675 \n",
      "Inferiores Ejercicio 6:  160.63404446897655\n",
      "\n",
      "Superiores Ejercicio 7:  216.8093324631399 \n",
      "Inferiores Ejercicio 7:  182.47509606883017\n",
      "\n",
      "Superiores Ejercicio 8:  204.75495718539995 \n",
      "Inferiores Ejercicio 8:  170.92244113473615\n",
      "\n",
      "Superiores Ejercicio 9:  200.10019803159074 \n",
      "Inferiores Ejercicio 9:  159.63833818573394\n",
      "\n",
      "Superiores Ejercicio 10:  200.59408261187525 \n",
      "Inferiores Ejercicio 10:  152.64477872388036\n",
      "\n",
      "Superiores Ejercicio 11:  221.7033665463384 \n",
      "Inferiores Ejercicio 11:  170.0649380966743\n",
      "\n",
      "Superiores Ejercicio 12:  234.21380607790405 \n",
      "Inferiores Ejercicio 12:  178.93161259493922\n",
      "\n",
      "Superiores Ejercicio 13:  231.38578527288394 \n",
      "Inferiores Ejercicio 13:  174.86379228483014\n",
      "\n",
      "Superiores Ejercicio 14:  229.2033596842374 \n",
      "Inferiores Ejercicio 14:  175.6716009721534\n"
     ]
    }
   ],
   "source": [
    "for i, p in enumerate(pos,1):\n",
    "    print(\"\\nSuperiores Ejercicio \"+str(i)+\": \",np.array(dim_x(p[0])).flatten().std(),\n",
    "      \"\\nInferiores Ejercicio \"+str(i)+\": \",np.array(dim_x(p[1])).flatten().std())"
   ]
  },
  {
   "cell_type": "markdown",
   "id": "a6b5eab9",
   "metadata": {},
   "source": [
    "<div class=\"alert alert-block alert-danger\">\n",
    "    En esta dimensión se puede observar que los datos siguen siendo muy parecidos al resultado anterior.\n",
    "</div>"
   ]
  },
  {
   "cell_type": "markdown",
   "id": "cca621f8",
   "metadata": {},
   "source": [
    "### Dimensión Y\n",
    "Se va a probar a realizar pruebas solo sobre la dimensión y de las posiciones superiores e inferiores"
   ]
  },
  {
   "cell_type": "code",
   "execution_count": 20,
   "id": "4543af7b",
   "metadata": {},
   "outputs": [],
   "source": [
    "def dim_y(array):\n",
    "    y=[]\n",
    "    for i in range(len(array)):\n",
    "        y.append(np.array(array)[i][:,1])\n",
    "    return y"
   ]
  },
  {
   "cell_type": "code",
   "execution_count": 21,
   "id": "f7e3d2c9",
   "metadata": {},
   "outputs": [
    {
     "name": "stdout",
     "output_type": "stream",
     "text": [
      "\n",
      "Superiores Ejercicio 1:  382.5475688778957 \n",
      "Inferiores Ejercicio 1:  655.3925856198273\n",
      "\n",
      "Superiores Ejercicio 2:  400.8172432618829 \n",
      "Inferiores Ejercicio 2:  616.6935219697928\n",
      "\n",
      "Superiores Ejercicio 3:  441.4292552701101 \n",
      "Inferiores Ejercicio 3:  638.4665150751728\n",
      "\n",
      "Superiores Ejercicio 4:  389.40329732500555 \n",
      "Inferiores Ejercicio 4:  671.7897584274046\n",
      "\n",
      "Superiores Ejercicio 5:  389.038914601554 \n",
      "Inferiores Ejercicio 5:  512.7883039528423\n",
      "\n",
      "Superiores Ejercicio 6:  365.9395169318461 \n",
      "Inferiores Ejercicio 6:  600.1674447284151\n",
      "\n",
      "Superiores Ejercicio 7:  442.8032070902523 \n",
      "Inferiores Ejercicio 7:  549.9514909217698\n",
      "\n",
      "Superiores Ejercicio 8:  420.0072216803162 \n",
      "Inferiores Ejercicio 8:  532.5672024977005\n",
      "\n",
      "Superiores Ejercicio 9:  422.5434678819282 \n",
      "Inferiores Ejercicio 9:  586.5069577234417\n",
      "\n",
      "Superiores Ejercicio 10:  405.54451720467796 \n",
      "Inferiores Ejercicio 10:  659.0900211021441\n",
      "\n",
      "Superiores Ejercicio 11:  483.9443792509266 \n",
      "Inferiores Ejercicio 11:  648.4477430097345\n",
      "\n",
      "Superiores Ejercicio 12:  356.0870113524536 \n",
      "Inferiores Ejercicio 12:  591.5188117393933\n",
      "\n",
      "Superiores Ejercicio 13:  418.613821354763 \n",
      "Inferiores Ejercicio 13:  646.2714063113417\n",
      "\n",
      "Superiores Ejercicio 14:  413.2012175012678 \n",
      "Inferiores Ejercicio 14:  571.7638215796864\n"
     ]
    }
   ],
   "source": [
    "for i, p in enumerate(pos,1):\n",
    "    print(\"\\nSuperiores Ejercicio \"+str(i)+\": \",np.array(dim_y(p[0])).flatten().std(),\n",
    "      \"\\nInferiores Ejercicio \"+str(i)+\": \",np.array(dim_y(p[1])).flatten().std())"
   ]
  },
  {
   "cell_type": "markdown",
   "id": "0724722c",
   "metadata": {},
   "source": [
    "<div class=\"alert alert-block alert-danger\">\n",
    "    Finalmente podemos ver como con ninguna de las tres opciones expuestas se consiguen datos relevantes para poder clasificar un ejercicio.\n",
    "</div>"
   ]
  },
  {
   "cell_type": "markdown",
   "id": "95d6b5cd",
   "metadata": {},
   "source": [
    "#### Análisis de resultados"
   ]
  },
  {
   "cell_type": "markdown",
   "id": "7d66776b",
   "metadata": {},
   "source": [
    "En este caso se han separado las dimensiones y se sigue viendo que los resultados son muy desfavorables.\n",
    "La razón de que fallase no es únicamente de las dimensiones. Es correcto separar las dimensiones por lo explicado anteriormente pero siguiendo en esa misma línea hay que indagar un poco más sobre los resultados. En este caso se están comparando todas las posiciones de los distintos ejes. Con todas las posiciones estamos comparando tanto rodillas, como tobillos como caderas. Esto quiere decir que aunque a lo largo de las ejecuciones la combinación de los diferentes puntos no varíe demasiado, entre ellos varía lo suficiente como para que la desviación típica arroje un resultado desfavorable. \n"
   ]
  },
  {
   "cell_type": "markdown",
   "id": "4002db1a",
   "metadata": {},
   "source": [
    "### Pruebas sobre posiciones concretas"
   ]
  },
  {
   "cell_type": "markdown",
   "id": "9f9ab4c1",
   "metadata": {},
   "source": [
    "Tras los resultados anteriores, lo más acertado puede ser realizar pruebas sobre una parte del cuerpo. Por ejemplo, si un paciente realiza ejercicios sobre sus extremidades superiores, es lógico pensar que algo que va a mover son las manos y si se trata de un ejercicio sobre las extremidades inferiores acabará moviendo las rodillas o los tobillos.\n",
    "\n",
    "Plantearlo de esta forma es muy interesante a la hora de detectar ejercicios más concretos, por ejemplo, moviemientos de cuello."
   ]
  },
  {
   "cell_type": "markdown",
   "id": "2fb8cdf3",
   "metadata": {},
   "source": [
    "Al igual que en el caso anterior, se van a separar las dimensiones. "
   ]
  },
  {
   "cell_type": "code",
   "execution_count": 6,
   "id": "abc81972",
   "metadata": {},
   "outputs": [],
   "source": [
    "from termcolor import colored\n",
    "\n",
    "def parte(array,p,x_y):\n",
    "    \"\"\"\n",
    "    Esta función descompone cada una de las posiciones que se le pasa\n",
    "    Entrada\n",
    "        array: posición de un esqueleto\n",
    "        p: parte del cuerpo de la que se quiere obtener el resultado\n",
    "        x_y: Dimensión sobre la que se quiere obtener el resultado\n",
    "    \"\"\"\n",
    "    r=[]\n",
    "    for i in range(len(array)):\n",
    "        r.append(array[i][p][x_y]) \n",
    "    return r"
   ]
  },
  {
   "cell_type": "markdown",
   "id": "272ad287",
   "metadata": {},
   "source": [
    "Las partes del cuerpo están clasificadas de la siguiente forma:\n",
    "- Partes superiores: \n",
    "    - 0 - nariz\n",
    "    - 1 - hombroI\n",
    "    - 2 - hombroD\n",
    "    - 3 - cuello\n",
    "    - 4 - angCuelloSupI\n",
    "    - 5 - angCuelloSupD\n",
    "    - 6 - codoI\n",
    "    - 7 - codoD\n",
    "    - 8 - manoI\n",
    "    - 9 - manoD\n",
    "    - 10 - angCodoI\n",
    "    - 11 - angCodoD\n",
    "    - 12 - angHombroI\n",
    "    - 13 - angHombroD\n",
    "- Partes inferiores: \n",
    "    - 0 - caderaI\n",
    "    - 1 - caderaD\n",
    "    - 2 - rodillaI\n",
    "    - 3 - rodillaD\n",
    "    - 4 - angCaderaI\n",
    "    - 5 - angCaderaD\n",
    "    - 6 - tobilloI\n",
    "    - 7 - tobilloD\n",
    "    - 8 - angRodillaI\n",
    "    - 9 - angRodillaD\n",
    "\n"
   ]
  },
  {
   "cell_type": "markdown",
   "id": "8b7373ae",
   "metadata": {},
   "source": [
    "- <font color='blue'>En azul se representarán las desviaciones típicas menores</font>\n",
    "- <font color='green'>En verde se representarán las desviaciones típicas mayores</font>\n",
    "\n",
    "En estos casos el número que aparece controlando el if es simplemente para mostrar al usuario en diferente color y de una manera rápida los valores más pequeños. Para su posterior calsificación se analizarán distintas opciones de clasificación con percentiles o cuartiles."
   ]
  },
  {
   "cell_type": "markdown",
   "id": "10374511",
   "metadata": {},
   "source": [
    "#### Extracción de las manos"
   ]
  },
  {
   "cell_type": "code",
   "execution_count": 18,
   "id": "b49df629",
   "metadata": {},
   "outputs": [
    {
     "name": "stdout",
     "output_type": "stream",
     "text": [
      "Posicion de la mano izquierda en el eje x dentro del Ejercicio1:  \u001b[32m35.04776\u001b[0m\n",
      "Posicion de la mano izquierda en el eje x dentro del Ejercicio2:  \u001b[34m19.389175\u001b[0m\n",
      "Posicion de la mano izquierda en el eje x dentro del Ejercicio3:  \u001b[32m43.103123\u001b[0m\n",
      "Posicion de la mano izquierda en el eje x dentro del Ejercicio4:  \u001b[34m14.085854\u001b[0m\n",
      "Posicion de la mano izquierda en el eje x dentro del Ejercicio5:  \u001b[34m10.171761\u001b[0m\n",
      "Posicion de la mano izquierda en el eje x dentro del Ejercicio6:  \u001b[32m31.313402\u001b[0m\n",
      "Posicion de la mano izquierda en el eje x dentro del Ejercicio7:  \u001b[34m15.493505\u001b[0m\n",
      "Posicion de la mano izquierda en el eje x dentro del Ejercicio8:  \u001b[34m14.211386\u001b[0m\n",
      "Posicion de la mano izquierda en el eje x dentro del Ejercicio9:  \u001b[34m15.652225\u001b[0m\n",
      "Posicion de la mano izquierda en el eje x dentro del Ejercicio10:  \u001b[32m48.856632\u001b[0m\n",
      "Posicion de la mano izquierda en el eje x dentro del Ejercicio11:  \u001b[32m42.850727\u001b[0m\n",
      "Posicion de la mano izquierda en el eje x dentro del Ejercicio12:  \u001b[32m20.068613\u001b[0m\n",
      "Posicion de la mano izquierda en el eje x dentro del Ejercicio13:  \u001b[32m105.52615\u001b[0m\n",
      "Posicion de la mano izquierda en el eje x dentro del Ejercicio14:  \u001b[32m120.6796\u001b[0m\n"
     ]
    }
   ],
   "source": [
    "for i, p in enumerate(pos,1):\n",
    "    sigma=np.array(parte(p[0],8,0)).flatten().std()\n",
    "    if sigma < 20:\n",
    "        print(\"Posicion de la mano izquierda en el eje x dentro del Ejercicio\"+str(i)+\": \",colored(sigma, \"blue\"))\n",
    "    else:\n",
    "        print(\"Posicion de la mano izquierda en el eje x dentro del Ejercicio\"+str(i)+\": \",colored(sigma, \"green\"))"
   ]
  },
  {
   "cell_type": "code",
   "execution_count": 20,
   "id": "3f95d545",
   "metadata": {},
   "outputs": [
    {
     "name": "stdout",
     "output_type": "stream",
     "text": [
      "Posicion de la mano derecha en el eje x dentro del Ejercicio 1:  \u001b[32m30.789612\u001b[0m\n",
      "Posicion de la mano derecha en el eje x dentro del Ejercicio 2:  \u001b[34m14.736181\u001b[0m\n",
      "Posicion de la mano derecha en el eje x dentro del Ejercicio 3:  \u001b[32m31.611456\u001b[0m\n",
      "Posicion de la mano derecha en el eje x dentro del Ejercicio 4:  \u001b[32m22.500746\u001b[0m\n",
      "Posicion de la mano derecha en el eje x dentro del Ejercicio 5:  \u001b[34m10.253244\u001b[0m\n",
      "Posicion de la mano derecha en el eje x dentro del Ejercicio 6:  \u001b[32m43.28363\u001b[0m\n",
      "Posicion de la mano derecha en el eje x dentro del Ejercicio 7:  \u001b[34m14.770084\u001b[0m\n",
      "Posicion de la mano derecha en el eje x dentro del Ejercicio 8:  \u001b[34m13.73629\u001b[0m\n",
      "Posicion de la mano derecha en el eje x dentro del Ejercicio 9:  \u001b[32m34.258717\u001b[0m\n",
      "Posicion de la mano derecha en el eje x dentro del Ejercicio 10:  \u001b[32m53.48598\u001b[0m\n",
      "Posicion de la mano derecha en el eje x dentro del Ejercicio 11:  \u001b[32m29.94946\u001b[0m\n",
      "Posicion de la mano derecha en el eje x dentro del Ejercicio 12:  \u001b[32m26.811087\u001b[0m\n",
      "Posicion de la mano derecha en el eje x dentro del Ejercicio 13:  \u001b[32m108.94277\u001b[0m\n",
      "Posicion de la mano derecha en el eje x dentro del Ejercicio 14:  \u001b[32m118.30237\u001b[0m\n"
     ]
    }
   ],
   "source": [
    "for i, p in enumerate(pos,1):\n",
    "    sigma=np.array(parte(p[0],9,0)).flatten().std()\n",
    "    if sigma < 20:\n",
    "        print(\"Posicion de la mano derecha en el eje x dentro del Ejercicio \"+str(i)+\": \",colored(sigma, \"blue\"))\n",
    "    else:\n",
    "        print(\"Posicion de la mano derecha en el eje x dentro del Ejercicio \"+str(i)+\": \",colored(sigma, \"green\"))"
   ]
  },
  {
   "cell_type": "code",
   "execution_count": 21,
   "id": "93066683",
   "metadata": {},
   "outputs": [
    {
     "name": "stdout",
     "output_type": "stream",
     "text": [
      "Posicion de la mano izquierda en el eje y dentro del Ejercicio 1:  \u001b[32m248.933\u001b[0m\n",
      "Posicion de la mano izquierda en el eje y dentro del Ejercicio 2:  \u001b[34m39.393997\u001b[0m\n",
      "Posicion de la mano izquierda en el eje y dentro del Ejercicio 3:  \u001b[32m388.06494\u001b[0m\n",
      "Posicion de la mano izquierda en el eje y dentro del Ejercicio 4:  \u001b[32m121.53408\u001b[0m\n",
      "Posicion de la mano izquierda en el eje y dentro del Ejercicio 5:  \u001b[34m8.463572\u001b[0m\n",
      "Posicion de la mano izquierda en el eje y dentro del Ejercicio 6:  \u001b[34m13.453937\u001b[0m\n",
      "Posicion de la mano izquierda en el eje y dentro del Ejercicio 7:  \u001b[34m8.549425\u001b[0m\n",
      "Posicion de la mano izquierda en el eje y dentro del Ejercicio 8:  \u001b[34m13.421763\u001b[0m\n",
      "Posicion de la mano izquierda en el eje y dentro del Ejercicio 9:  \u001b[32m243.50641\u001b[0m\n",
      "Posicion de la mano izquierda en el eje y dentro del Ejercicio 10:  \u001b[32m301.01712\u001b[0m\n",
      "Posicion de la mano izquierda en el eje y dentro del Ejercicio 11:  \u001b[32m423.97556\u001b[0m\n",
      "Posicion de la mano izquierda en el eje y dentro del Ejercicio 12:  \u001b[32m121.590126\u001b[0m\n",
      "Posicion de la mano izquierda en el eje y dentro del Ejercicio 13:  \u001b[32m56.97923\u001b[0m\n",
      "Posicion de la mano izquierda en el eje y dentro del Ejercicio 14:  \u001b[32m56.391243\u001b[0m\n"
     ]
    }
   ],
   "source": [
    "for i, p in enumerate(pos,1):\n",
    "    sigma=np.array(parte(p[0],8,1)).flatten().std()\n",
    "    if sigma < 40:\n",
    "        print(\"Posicion de la mano izquierda en el eje y dentro del Ejercicio \"+str(i)+\": \",colored(sigma, \"blue\"))\n",
    "    else:\n",
    "        print(\"Posicion de la mano izquierda en el eje y dentro del Ejercicio \"+str(i)+\": \",colored(sigma, \"green\"))"
   ]
  },
  {
   "cell_type": "code",
   "execution_count": 57,
   "id": "978bc01f",
   "metadata": {},
   "outputs": [
    {
     "name": "stdout",
     "output_type": "stream",
     "text": [
      "Posicion de la mano derecha en el eje y dentro del Ejercicio 1:  \u001b[32m296.5888\u001b[0m\n",
      "Posicion de la mano derecha en el eje y dentro del Ejercicio 2:  \u001b[34m33.02471\u001b[0m\n",
      "Posicion de la mano derecha en el eje y dentro del Ejercicio 3:  \u001b[32m399.5404\u001b[0m\n",
      "Posicion de la mano derecha en el eje y dentro del Ejercicio 4:  \u001b[32m120.49732\u001b[0m\n",
      "Posicion de la mano derecha en el eje y dentro del Ejercicio 5:  \u001b[34m7.999684\u001b[0m\n",
      "Posicion de la mano derecha en el eje y dentro del Ejercicio 6:  \u001b[34m12.561245\u001b[0m\n",
      "Posicion de la mano derecha en el eje y dentro del Ejercicio 7:  \u001b[34m9.672473\u001b[0m\n",
      "Posicion de la mano derecha en el eje y dentro del Ejercicio 8:  \u001b[34m18.610743\u001b[0m\n",
      "Posicion de la mano derecha en el eje y dentro del Ejercicio 9:  \u001b[32m231.05264\u001b[0m\n",
      "Posicion de la mano derecha en el eje y dentro del Ejercicio 10:  \u001b[32m297.32397\u001b[0m\n",
      "Posicion de la mano derecha en el eje y dentro del Ejercicio 11:  \u001b[32m420.4826\u001b[0m\n",
      "Posicion de la mano derecha en el eje y dentro del Ejercicio 12:  \u001b[32m124.268166\u001b[0m\n",
      "Posicion de la mano derecha en el eje y dentro del Ejercicio 13:  \u001b[32m59.043007\u001b[0m\n",
      "Posicion de la mano derecha en el eje y dentro del Ejercicio 14:  \u001b[32m53.632755\u001b[0m\n"
     ]
    }
   ],
   "source": [
    "for i, p in enumerate(pos,1):\n",
    "    sigma=np.array(parte(p[0],9,1)).flatten().std()\n",
    "    if sigma < 40:\n",
    "        print(\"Posicion de la mano derecha en el eje y dentro del Ejercicio \"+str(i)+\": \",colored(sigma, \"blue\"))\n",
    "    else:\n",
    "        print(\"Posicion de la mano derecha en el eje y dentro del Ejercicio \"+str(i)+\": \",colored(sigma, \"green\"))"
   ]
  },
  {
   "cell_type": "markdown",
   "id": "d2dfabcb",
   "metadata": {},
   "source": [
    "#### Extracción de los codos"
   ]
  },
  {
   "cell_type": "code",
   "execution_count": 58,
   "id": "8b242960",
   "metadata": {},
   "outputs": [
    {
     "name": "stdout",
     "output_type": "stream",
     "text": [
      "Posicion ángulo del codo izquierdo dentro del Ejercicio 1:  \u001b[32m83.47592334942935\u001b[0m\n",
      "Posicion ángulo del codo izquierdo dentro del Ejercicio 2:  \u001b[34m16.18230339167514\u001b[0m\n",
      "Posicion ángulo del codo izquierdo dentro del Ejercicio 3:  \u001b[32m67.77218096733516\u001b[0m\n",
      "Posicion ángulo del codo izquierdo dentro del Ejercicio 4:  \u001b[32m118.05888885197976\u001b[0m\n",
      "Posicion ángulo del codo izquierdo dentro del Ejercicio 5:  \u001b[34m3.059813112404422\u001b[0m\n",
      "Posicion ángulo del codo izquierdo dentro del Ejercicio 6:  \u001b[34m3.4066411851481053\u001b[0m\n",
      "Posicion ángulo del codo izquierdo dentro del Ejercicio 7:  \u001b[34m3.0557557805129805\u001b[0m\n",
      "Posicion ángulo del codo izquierdo dentro del Ejercicio 8:  \u001b[34m2.0673297376247235\u001b[0m\n",
      "Posicion ángulo del codo izquierdo dentro del Ejercicio 9:  \u001b[32m51.359514989789325\u001b[0m\n",
      "Posicion ángulo del codo izquierdo dentro del Ejercicio 10:  \u001b[32m36.50330163158551\u001b[0m\n",
      "Posicion ángulo del codo izquierdo dentro del Ejercicio 11:  \u001b[32m51.0428771020675\u001b[0m\n",
      "Posicion ángulo del codo izquierdo dentro del Ejercicio 12:  \u001b[32m68.19544114893299\u001b[0m\n",
      "Posicion ángulo del codo izquierdo dentro del Ejercicio 13:  \u001b[32m110.85303467627587\u001b[0m\n",
      "Posicion ángulo del codo izquierdo dentro del Ejercicio 14:  \u001b[32m112.99166128086776\u001b[0m\n"
     ]
    }
   ],
   "source": [
    "for i, p in enumerate(pos,1):\n",
    "    sigma=np.array(parte(p[0],10,0)).flatten().std()\n",
    "    if sigma < 30:\n",
    "        print(\"Posicion ángulo del codo izquierdo dentro del Ejercicio \"+str(i)+\": \",colored(sigma, \"blue\"))\n",
    "    else:\n",
    "        print(\"Posicion ángulo del codo izquierdo dentro del Ejercicio \"+str(i)+\": \",colored(sigma, \"green\"))"
   ]
  },
  {
   "cell_type": "code",
   "execution_count": 59,
   "id": "de7ace2e",
   "metadata": {},
   "outputs": [
    {
     "name": "stdout",
     "output_type": "stream",
     "text": [
      "Posicion ángulo del codo derecho dentro del Ejercicio  1:  \u001b[32m85.25224181528428\u001b[0m\n",
      "Posicion ángulo del codo derecho dentro del Ejercicio  2:  \u001b[34m15.125709453717702\u001b[0m\n",
      "Posicion ángulo del codo derecho dentro del Ejercicio  3:  \u001b[32m71.21521309394882\u001b[0m\n",
      "Posicion ángulo del codo derecho dentro del Ejercicio  4:  \u001b[32m116.98337624451523\u001b[0m\n",
      "Posicion ángulo del codo derecho dentro del Ejercicio  5:  \u001b[34m2.0345184104188867\u001b[0m\n",
      "Posicion ángulo del codo derecho dentro del Ejercicio  6:  \u001b[34m3.9704060960416294\u001b[0m\n",
      "Posicion ángulo del codo derecho dentro del Ejercicio  7:  \u001b[34m1.953338934357329\u001b[0m\n",
      "Posicion ángulo del codo derecho dentro del Ejercicio  8:  \u001b[34m2.0157281436655436\u001b[0m\n",
      "Posicion ángulo del codo derecho dentro del Ejercicio  9:  \u001b[32m61.52601612427234\u001b[0m\n",
      "Posicion ángulo del codo derecho dentro del Ejercicio  10:  \u001b[32m38.66153236368584\u001b[0m\n",
      "Posicion ángulo del codo derecho dentro del Ejercicio  11:  \u001b[32m54.72271065495049\u001b[0m\n",
      "Posicion ángulo del codo derecho dentro del Ejercicio  12:  \u001b[32m68.66923612687557\u001b[0m\n",
      "Posicion ángulo del codo derecho dentro del Ejercicio  13:  \u001b[32m116.35419281901424\u001b[0m\n",
      "Posicion ángulo del codo derecho dentro del Ejercicio  14:  \u001b[32m118.2960634108614\u001b[0m\n"
     ]
    }
   ],
   "source": [
    "for i, p in enumerate(pos,1):\n",
    "    sigma=np.array(parte(p[0],11,0)).flatten().std()\n",
    "    if sigma < 20:\n",
    "        print(\"Posicion ángulo del codo derecho dentro del Ejercicio  \"+str(i)+\": \",colored(sigma, \"blue\"))\n",
    "    else:\n",
    "        print(\"Posicion ángulo del codo derecho dentro del Ejercicio  \"+str(i)+\": \",colored(sigma, \"green\"))"
   ]
  },
  {
   "cell_type": "markdown",
   "id": "5297a8b6",
   "metadata": {},
   "source": [
    "<div class=\"alert alert-block alert-info\">\n",
    "En los casos anteriores se puede ver que las desviaciones típicas menores suelen coincidir con los ejercicios de partes inferiores del cuerpo. Esto es correcto y es lo que se esperaba ya que en movimientos en los que únicamente se mueven las partes superiores del cuerpo no tiene sentido que la desviación típica de las partes inferiores sea alta. Las que mejor lo han clasificado han sido:\n",
    "    \n",
    "  -  Eje y mano derecha\n",
    "  -  Ángulo codo izquierdo\n",
    "  -  Ángulo codo derecho\n",
    "    \n",
    "</div>"
   ]
  },
  {
   "cell_type": "markdown",
   "id": "84d2005d",
   "metadata": {},
   "source": [
    "#### Extracción de las rodillas "
   ]
  },
  {
   "cell_type": "code",
   "execution_count": 22,
   "id": "4a0ac4fe",
   "metadata": {},
   "outputs": [
    {
     "name": "stdout",
     "output_type": "stream",
     "text": [
      "Posicion de la rodilla izquierda en el eje x dentro del Ejercicio 1:  \u001b[34m4.66491\u001b[0m\n",
      "Posicion de la rodilla izquierda en el eje x dentro del Ejercicio 2:  \u001b[32m23.421787\u001b[0m\n",
      "Posicion de la rodilla izquierda en el eje x dentro del Ejercicio 3:  \u001b[34m14.591307\u001b[0m\n",
      "Posicion de la rodilla izquierda en el eje x dentro del Ejercicio 4:  \u001b[32m17.805153\u001b[0m\n",
      "Posicion de la rodilla izquierda en el eje x dentro del Ejercicio 5:  \u001b[32m48.358467\u001b[0m\n",
      "Posicion de la rodilla izquierda en el eje x dentro del Ejercicio 6:  \u001b[32m24.619677\u001b[0m\n",
      "Posicion de la rodilla izquierda en el eje x dentro del Ejercicio 7:  \u001b[34m16.433817\u001b[0m\n",
      "Posicion de la rodilla izquierda en el eje x dentro del Ejercicio 8:  \u001b[32m20.34498\u001b[0m\n",
      "Posicion de la rodilla izquierda en el eje x dentro del Ejercicio 9:  \u001b[34m10.26627\u001b[0m\n",
      "Posicion de la rodilla izquierda en el eje x dentro del Ejercicio 10:  \u001b[34m9.493313\u001b[0m\n",
      "Posicion de la rodilla izquierda en el eje x dentro del Ejercicio 11:  \u001b[34m16.252707\u001b[0m\n",
      "Posicion de la rodilla izquierda en el eje x dentro del Ejercicio 12:  \u001b[32m18.7271\u001b[0m\n",
      "Posicion de la rodilla izquierda en el eje x dentro del Ejercicio 13:  \u001b[34m16.72748\u001b[0m\n",
      "Posicion de la rodilla izquierda en el eje x dentro del Ejercicio 14:  \u001b[34m7.0303593\u001b[0m\n"
     ]
    }
   ],
   "source": [
    "for i, p in enumerate(pos,1):\n",
    "    sigma=np.array(parte(p[1],2,0)).flatten().std()\n",
    "    if sigma < 17:\n",
    "        print(\"Posicion de la rodilla izquierda en el eje x dentro del Ejercicio \"+str(i)+\": \",colored(sigma, \"blue\"))\n",
    "    else:\n",
    "        print(\"Posicion de la rodilla izquierda en el eje x dentro del Ejercicio \"+str(i)+\": \",colored(sigma, \"green\"))"
   ]
  },
  {
   "cell_type": "code",
   "execution_count": 23,
   "id": "6080fa1f",
   "metadata": {},
   "outputs": [
    {
     "name": "stdout",
     "output_type": "stream",
     "text": [
      "Posicion de la rodilla derecha en el eje x dentro del Ejercicio 1:  \u001b[34m3.3678086\u001b[0m\n",
      "Posicion de la rodilla derecha en el eje x dentro del Ejercicio 2:  \u001b[32m21.441753\u001b[0m\n",
      "Posicion de la rodilla derecha en el eje x dentro del Ejercicio 3:  \u001b[34m14.506314\u001b[0m\n",
      "Posicion de la rodilla derecha en el eje x dentro del Ejercicio 4:  \u001b[32m16.80994\u001b[0m\n",
      "Posicion de la rodilla derecha en el eje x dentro del Ejercicio 5:  \u001b[34m15.308978\u001b[0m\n",
      "Posicion de la rodilla derecha en el eje x dentro del Ejercicio 6:  \u001b[32m22.185472\u001b[0m\n",
      "Posicion de la rodilla derecha en el eje x dentro del Ejercicio 7:  \u001b[34m15.933108\u001b[0m\n",
      "Posicion de la rodilla derecha en el eje x dentro del Ejercicio 8:  \u001b[32m18.322994\u001b[0m\n",
      "Posicion de la rodilla derecha en el eje x dentro del Ejercicio 9:  \u001b[34m10.558847\u001b[0m\n",
      "Posicion de la rodilla derecha en el eje x dentro del Ejercicio 10:  \u001b[34m9.417163\u001b[0m\n",
      "Posicion de la rodilla derecha en el eje x dentro del Ejercicio 11:  \u001b[32m19.466957\u001b[0m\n",
      "Posicion de la rodilla derecha en el eje x dentro del Ejercicio 12:  \u001b[32m18.643589\u001b[0m\n",
      "Posicion de la rodilla derecha en el eje x dentro del Ejercicio 13:  \u001b[32m17.057781\u001b[0m\n",
      "Posicion de la rodilla derecha en el eje x dentro del Ejercicio 14:  \u001b[34m6.6726017\u001b[0m\n"
     ]
    }
   ],
   "source": [
    "for i, p in enumerate(pos,1):\n",
    "    sigma=np.array(parte(p[1],3,0)).flatten().std()\n",
    "    if sigma < 16:\n",
    "        print(\"Posicion de la rodilla derecha en el eje x dentro del Ejercicio \"+str(i)+\": \",colored(sigma, \"blue\"))\n",
    "    else:\n",
    "        print(\"Posicion de la rodilla derecha en el eje x dentro del Ejercicio \"+str(i)+\": \",colored(sigma, \"green\"))"
   ]
  },
  {
   "cell_type": "code",
   "execution_count": 60,
   "id": "b35f0b66",
   "metadata": {},
   "outputs": [
    {
     "name": "stdout",
     "output_type": "stream",
     "text": [
      "Posicion de la rodilla izquierda en el eje y dentro del Ejercicio 1:  \u001b[34m16.040947\u001b[0m\n",
      "Posicion de la rodilla izquierda en el eje y dentro del Ejercicio 2:  \u001b[32m104.72785\u001b[0m\n",
      "Posicion de la rodilla izquierda en el eje y dentro del Ejercicio 3:  \u001b[34m23.911211\u001b[0m\n",
      "Posicion de la rodilla izquierda en el eje y dentro del Ejercicio 4:  \u001b[34m14.701019\u001b[0m\n",
      "Posicion de la rodilla izquierda en el eje y dentro del Ejercicio 5:  \u001b[32m81.23107\u001b[0m\n",
      "Posicion de la rodilla izquierda en el eje y dentro del Ejercicio 6:  \u001b[32m138.62482\u001b[0m\n",
      "Posicion de la rodilla izquierda en el eje y dentro del Ejercicio 7:  \u001b[32m96.47382\u001b[0m\n",
      "Posicion de la rodilla izquierda en el eje y dentro del Ejercicio 8:  \u001b[32m109.68346\u001b[0m\n",
      "Posicion de la rodilla izquierda en el eje y dentro del Ejercicio 9:  \u001b[34m16.373013\u001b[0m\n",
      "Posicion de la rodilla izquierda en el eje y dentro del Ejercicio 10:  \u001b[34m10.783459\u001b[0m\n",
      "Posicion de la rodilla izquierda en el eje y dentro del Ejercicio 11:  \u001b[34m23.841154\u001b[0m\n",
      "Posicion de la rodilla izquierda en el eje y dentro del Ejercicio 12:  \u001b[34m19.81529\u001b[0m\n",
      "Posicion de la rodilla izquierda en el eje y dentro del Ejercicio 13:  \u001b[34m25.554098\u001b[0m\n",
      "Posicion de la rodilla izquierda en el eje y dentro del Ejercicio 14:  \u001b[34m25.877493\u001b[0m\n"
     ]
    }
   ],
   "source": [
    "for i, p in enumerate(pos,1):\n",
    "    sigma=np.array(parte(p[1],2,1)).flatten().std()\n",
    "    if sigma < 30:\n",
    "        print(\"Posicion de la rodilla izquierda en el eje y dentro del Ejercicio \"+str(i)+\": \",colored(sigma, \"blue\"))\n",
    "    else:\n",
    "        print(\"Posicion de la rodilla izquierda en el eje y dentro del Ejercicio \"+str(i)+\": \",colored(sigma, \"green\"))"
   ]
  },
  {
   "cell_type": "code",
   "execution_count": 61,
   "id": "b02daa94",
   "metadata": {},
   "outputs": [
    {
     "name": "stdout",
     "output_type": "stream",
     "text": [
      "Posicion de la rodilla derecha en el eje y dentro del Ejercicio 1:  \u001b[34m14.992826\u001b[0m\n",
      "Posicion de la rodilla derecha en el eje y dentro del Ejercicio 2:  \u001b[32m105.745804\u001b[0m\n",
      "Posicion de la rodilla derecha en el eje y dentro del Ejercicio 3:  \u001b[34m25.193604\u001b[0m\n",
      "Posicion de la rodilla derecha en el eje y dentro del Ejercicio 4:  \u001b[34m15.23253\u001b[0m\n",
      "Posicion de la rodilla derecha en el eje y dentro del Ejercicio 5:  \u001b[32m71.477486\u001b[0m\n",
      "Posicion de la rodilla derecha en el eje y dentro del Ejercicio 6:  \u001b[32m134.29553\u001b[0m\n",
      "Posicion de la rodilla derecha en el eje y dentro del Ejercicio 7:  \u001b[32m97.012566\u001b[0m\n",
      "Posicion de la rodilla derecha en el eje y dentro del Ejercicio 8:  \u001b[32m97.086334\u001b[0m\n",
      "Posicion de la rodilla derecha en el eje y dentro del Ejercicio 9:  \u001b[34m13.709168\u001b[0m\n",
      "Posicion de la rodilla derecha en el eje y dentro del Ejercicio 10:  \u001b[34m11.662367\u001b[0m\n",
      "Posicion de la rodilla derecha en el eje y dentro del Ejercicio 11:  \u001b[34m23.765797\u001b[0m\n",
      "Posicion de la rodilla derecha en el eje y dentro del Ejercicio 12:  \u001b[34m17.218292\u001b[0m\n",
      "Posicion de la rodilla derecha en el eje y dentro del Ejercicio 13:  \u001b[34m25.337639\u001b[0m\n",
      "Posicion de la rodilla derecha en el eje y dentro del Ejercicio 14:  \u001b[34m26.962223\u001b[0m\n"
     ]
    }
   ],
   "source": [
    "for i, p in enumerate(pos,1):\n",
    "    sigma=np.array(parte(p[1],3,1)).flatten().std()\n",
    "    if sigma < 70:\n",
    "        print(\"Posicion de la rodilla derecha en el eje y dentro del Ejercicio \"+str(i)+\": \",colored(sigma, \"blue\"))\n",
    "    else:\n",
    "        print(\"Posicion de la rodilla derecha en el eje y dentro del Ejercicio \"+str(i)+\": \",colored(sigma, \"green\"))"
   ]
  },
  {
   "cell_type": "markdown",
   "id": "81042567",
   "metadata": {},
   "source": [
    "#### Extracción de los tobillos"
   ]
  },
  {
   "cell_type": "code",
   "execution_count": 24,
   "id": "4f592941",
   "metadata": {},
   "outputs": [
    {
     "name": "stdout",
     "output_type": "stream",
     "text": [
      "Posicion del tobillo izquierdo en el eje x dentro del Ejercicio  1:  \u001b[34m3.2083032\u001b[0m\n",
      "Posicion del tobillo izquierdo en el eje x dentro del Ejercicio  2:  \u001b[34m12.873146\u001b[0m\n",
      "Posicion del tobillo izquierdo en el eje x dentro del Ejercicio  3:  \u001b[34m12.707986\u001b[0m\n",
      "Posicion del tobillo izquierdo en el eje x dentro del Ejercicio 4:  \u001b[32m17.741516\u001b[0m\n",
      "Posicion del tobillo izquierdo en el eje x dentro del Ejercicio 5:  \u001b[32m69.087036\u001b[0m\n",
      "Posicion del tobillo izquierdo en el eje x dentro del Ejercicio 6:  \u001b[32m19.130507\u001b[0m\n",
      "Posicion del tobillo izquierdo en el eje x dentro del Ejercicio  7:  \u001b[34m11.48658\u001b[0m\n",
      "Posicion del tobillo izquierdo en el eje x dentro del Ejercicio 8:  \u001b[32m14.795086\u001b[0m\n",
      "Posicion del tobillo izquierdo en el eje x dentro del Ejercicio  9:  \u001b[34m10.22661\u001b[0m\n",
      "Posicion del tobillo izquierdo en el eje x dentro del Ejercicio  10:  \u001b[34m11.633297\u001b[0m\n",
      "Posicion del tobillo izquierdo en el eje x dentro del Ejercicio 11:  \u001b[32m15.966784\u001b[0m\n",
      "Posicion del tobillo izquierdo en el eje x dentro del Ejercicio 12:  \u001b[32m17.495947\u001b[0m\n",
      "Posicion del tobillo izquierdo en el eje x dentro del Ejercicio 13:  \u001b[32m17.876547\u001b[0m\n",
      "Posicion del tobillo izquierdo en el eje x dentro del Ejercicio  14:  \u001b[34m6.287897\u001b[0m\n"
     ]
    }
   ],
   "source": [
    "for i, p in enumerate(pos,1):\n",
    "    sigma=np.array(parte(p[1],6,0)).flatten().std()\n",
    "    if sigma < 14:\n",
    "        print(\"Posicion del tobillo izquierdo en el eje x dentro del Ejercicio  \"+str(i)+\": \",colored(sigma, \"blue\"))\n",
    "    else:\n",
    "        print(\"Posicion del tobillo izquierdo en el eje x dentro del Ejercicio \"+str(i)+\": \",colored(sigma, \"green\"))"
   ]
  },
  {
   "cell_type": "code",
   "execution_count": 25,
   "id": "b3a41941",
   "metadata": {},
   "outputs": [
    {
     "name": "stdout",
     "output_type": "stream",
     "text": [
      "Posicion del tobillo derecho en el eje x dentro del Ejercicio 1:  \u001b[34m3.5024145\u001b[0m\n",
      "Posicion del tobillo derecho en el eje x dentro del Ejercicio 2:  \u001b[34m12.810995\u001b[0m\n",
      "Posicion del tobillo derecho en el eje x dentro del Ejercicio 3:  \u001b[34m12.49248\u001b[0m\n",
      "Posicion del tobillo derecho en el eje x dentro del Ejercicio 4:  \u001b[32m18.04674\u001b[0m\n",
      "Posicion del tobillo derecho en el eje x dentro del Ejercicio 5:  \u001b[32m58.715282\u001b[0m\n",
      "Posicion del tobillo derecho en el eje x dentro del Ejercicio 6:  \u001b[32m16.756767\u001b[0m\n",
      "Posicion del tobillo derecho en el eje x dentro del Ejercicio 7:  \u001b[34m11.854671\u001b[0m\n",
      "Posicion del tobillo derecho en el eje x dentro del Ejercicio 8:  \u001b[32m14.566194\u001b[0m\n",
      "Posicion del tobillo derecho en el eje x dentro del Ejercicio 9:  \u001b[34m9.606162\u001b[0m\n",
      "Posicion del tobillo derecho en el eje x dentro del Ejercicio 10:  \u001b[34m11.567308\u001b[0m\n",
      "Posicion del tobillo derecho en el eje x dentro del Ejercicio 11:  \u001b[32m16.385872\u001b[0m\n",
      "Posicion del tobillo derecho en el eje x dentro del Ejercicio 12:  \u001b[32m16.670877\u001b[0m\n",
      "Posicion del tobillo derecho en el eje x dentro del Ejercicio 13:  \u001b[32m18.288803\u001b[0m\n",
      "Posicion del tobillo derecho en el eje x dentro del Ejercicio 14:  \u001b[34m6.6331754\u001b[0m\n"
     ]
    }
   ],
   "source": [
    "for i, p in enumerate(pos,1):\n",
    "    sigma=np.array(parte(p[1],7,0)).flatten().std()\n",
    "    if sigma < 14:\n",
    "        print(\"Posicion del tobillo derecho en el eje x dentro del Ejercicio \"+str(i)+\": \",colored(sigma, \"blue\"))\n",
    "    else:\n",
    "        print(\"Posicion del tobillo derecho en el eje x dentro del Ejercicio \"+str(i)+\": \",colored(sigma, \"green\"))"
   ]
  },
  {
   "cell_type": "code",
   "execution_count": 62,
   "id": "e5a961d7",
   "metadata": {},
   "outputs": [
    {
     "name": "stdout",
     "output_type": "stream",
     "text": [
      "Posicion del tobillo izquierdo en el eje y dentro del Ejercicio 1:  \u001b[34m17.254868\u001b[0m\n",
      "Posicion del tobillo izquierdo en el eje y dentro del Ejercicio 2:  \u001b[32m92.78449\u001b[0m\n",
      "Posicion del tobillo izquierdo en el eje y dentro del Ejercicio 3:  \u001b[34m25.000359\u001b[0m\n",
      "Posicion del tobillo izquierdo en el eje y dentro del Ejercicio 4:  \u001b[34m16.270868\u001b[0m\n",
      "Posicion del tobillo izquierdo en el eje y dentro del Ejercicio 5:  \u001b[32m124.64031\u001b[0m\n",
      "Posicion del tobillo izquierdo en el eje y dentro del Ejercicio 6:  \u001b[32m125.269585\u001b[0m\n",
      "Posicion del tobillo izquierdo en el eje y dentro del Ejercicio 7:  \u001b[32m88.11312\u001b[0m\n",
      "Posicion del tobillo izquierdo en el eje y dentro del Ejercicio 8:  \u001b[32m80.95424\u001b[0m\n",
      "Posicion del tobillo izquierdo en el eje y dentro del Ejercicio 9:  \u001b[34m12.105806\u001b[0m\n",
      "Posicion del tobillo izquierdo en el eje y dentro del Ejercicio 10:  \u001b[34m9.664043\u001b[0m\n",
      "Posicion del tobillo izquierdo en el eje y dentro del Ejercicio 11:  \u001b[34m17.74969\u001b[0m\n",
      "Posicion del tobillo izquierdo en el eje y dentro del Ejercicio 12:  \u001b[34m19.416697\u001b[0m\n",
      "Posicion del tobillo izquierdo en el eje y dentro del Ejercicio 13:  \u001b[34m27.31135\u001b[0m\n",
      "Posicion del tobillo izquierdo en el eje y dentro del Ejercicio 14:  \u001b[34m27.287348\u001b[0m\n"
     ]
    }
   ],
   "source": [
    "for i, p in enumerate(pos,1):\n",
    "    sigma=np.array(parte(p[1],6,1)).flatten().std()\n",
    "    if sigma < 30:\n",
    "        print(\"Posicion del tobillo izquierdo en el eje y dentro del Ejercicio \"+str(i)+\": \",colored(sigma, \"blue\"))\n",
    "    else:\n",
    "        print(\"Posicion del tobillo izquierdo en el eje y dentro del Ejercicio \"+str(i)+\": \",colored(sigma, \"green\"))"
   ]
  },
  {
   "cell_type": "code",
   "execution_count": 63,
   "id": "21223a0e",
   "metadata": {},
   "outputs": [
    {
     "name": "stdout",
     "output_type": "stream",
     "text": [
      "Posicion del tobillo derecho en el eje y dentro del Ejercicio 1:  \u001b[34m15.228322\u001b[0m\n",
      "Posicion del tobillo derecho en el eje y dentro del Ejercicio 2:  \u001b[32m85.59574\u001b[0m\n",
      "Posicion del tobillo derecho en el eje y dentro del Ejercicio 3:  \u001b[34m26.175419\u001b[0m\n",
      "Posicion del tobillo derecho en el eje y dentro del Ejercicio 4:  \u001b[34m16.078903\u001b[0m\n",
      "Posicion del tobillo derecho en el eje y dentro del Ejercicio 5:  \u001b[32m118.11835\u001b[0m\n",
      "Posicion del tobillo derecho en el eje y dentro del Ejercicio 6:  \u001b[32m122.4812\u001b[0m\n",
      "Posicion del tobillo derecho en el eje y dentro del Ejercicio 7:  \u001b[32m89.59549\u001b[0m\n",
      "Posicion del tobillo derecho en el eje y dentro del Ejercicio 8:  \u001b[32m63.41441\u001b[0m\n",
      "Posicion del tobillo derecho en el eje y dentro del Ejercicio 9:  \u001b[34m11.141483\u001b[0m\n",
      "Posicion del tobillo derecho en el eje y dentro del Ejercicio 10:  \u001b[34m12.131502\u001b[0m\n",
      "Posicion del tobillo derecho en el eje y dentro del Ejercicio 11:  \u001b[34m18.662254\u001b[0m\n",
      "Posicion del tobillo derecho en el eje y dentro del Ejercicio 12:  \u001b[34m16.846992\u001b[0m\n",
      "Posicion del tobillo derecho en el eje y dentro del Ejercicio 13:  \u001b[34m26.8382\u001b[0m\n",
      "Posicion del tobillo derecho en el eje y dentro del Ejercicio 14:  \u001b[34m27.323343\u001b[0m\n"
     ]
    }
   ],
   "source": [
    "for i, p in enumerate(pos,1):\n",
    "    sigma=np.array(parte(p[1],7,1)).flatten().std()\n",
    "    if sigma < 30:\n",
    "        print(\"Posicion del tobillo derecho en el eje y dentro del Ejercicio \"+str(i)+\": \",colored(sigma, \"blue\"))\n",
    "    else:\n",
    "        print(\"Posicion del tobillo derecho en el eje y dentro del Ejercicio \"+str(i)+\": \",colored(sigma, \"green\"))"
   ]
  },
  {
   "cell_type": "markdown",
   "id": "fe81a37f",
   "metadata": {},
   "source": [
    "#### Extracción de los ángulos de las rodillas"
   ]
  },
  {
   "cell_type": "code",
   "execution_count": 23,
   "id": "add73427",
   "metadata": {},
   "outputs": [
    {
     "name": "stdout",
     "output_type": "stream",
     "text": [
      "Posicion ángulo de la rodilla izquierda dentro del Ejercicio 1:  \u001b[34m1.935345126888027\u001b[0m\n",
      "Posicion ángulo de la rodilla izquierda dentro del Ejercicio 2:  \u001b[32m47.11223737097683\u001b[0m\n",
      "Posicion ángulo de la rodilla izquierda dentro del Ejercicio 3:  \u001b[34m4.925706701561152\u001b[0m\n",
      "Posicion ángulo de la rodilla izquierda dentro del Ejercicio 4:  \u001b[34m0.945936794050333\u001b[0m\n",
      "Posicion ángulo de la rodilla izquierda dentro del Ejercicio 5:  \u001b[32m79.72272110616908\u001b[0m\n",
      "Posicion ángulo de la rodilla izquierda dentro del Ejercicio 6:  \u001b[32m50.88405503360103\u001b[0m\n",
      "Posicion ángulo de la rodilla izquierda dentro del Ejercicio 7:  \u001b[32m69.5738821169773\u001b[0m\n",
      "Posicion ángulo de la rodilla izquierda dentro del Ejercicio 8:  \u001b[32m67.86025869366668\u001b[0m\n",
      "Posicion ángulo de la rodilla izquierda dentro del Ejercicio 9:  \u001b[34m2.6232047144558504\u001b[0m\n",
      "Posicion ángulo de la rodilla izquierda dentro del Ejercicio 10:  \u001b[34m1.3457824311694464\u001b[0m\n",
      "Posicion ángulo de la rodilla izquierda dentro del Ejercicio 11:  \u001b[34m6.381063596330608\u001b[0m\n",
      "Posicion ángulo de la rodilla izquierda dentro del Ejercicio 12:  \u001b[34m2.5420137291233695\u001b[0m\n",
      "Posicion ángulo de la rodilla izquierda dentro del Ejercicio 13:  \u001b[34m1.132984618040629\u001b[0m\n",
      "Posicion ángulo de la rodilla izquierda dentro del Ejercicio 14:  \u001b[34m3.0358892408942157\u001b[0m\n"
     ]
    }
   ],
   "source": [
    "for i, p in enumerate(pos,1):\n",
    "    sigma=np.array(parte(p[1],8,0)).flatten().std()\n",
    "    if sigma < 30:\n",
    "        print(\"Posicion ángulo de la rodilla izquierda dentro del Ejercicio \"+str(i)+\": \",colored(sigma, \"blue\"))\n",
    "    else:\n",
    "        print(\"Posicion ángulo de la rodilla izquierda dentro del Ejercicio \"+str(i)+\": \",colored(sigma, \"green\"))"
   ]
  },
  {
   "cell_type": "code",
   "execution_count": 22,
   "id": "86c8803d",
   "metadata": {},
   "outputs": [
    {
     "name": "stdout",
     "output_type": "stream",
     "text": [
      "Posicion ángulo de la rodilla derecha dentro del Ejercicio 1:  \u001b[34m1.259271331775088\u001b[0m\n",
      "Posicion ángulo de la rodilla derecha dentro del Ejercicio 2:  \u001b[32m73.07131551197494\u001b[0m\n",
      "Posicion ángulo de la rodilla derecha dentro del Ejercicio 3:  \u001b[34m10.396195375234816\u001b[0m\n",
      "Posicion ángulo de la rodilla derecha dentro del Ejercicio 4:  \u001b[34m5.886210792823644\u001b[0m\n",
      "Posicion ángulo de la rodilla derecha dentro del Ejercicio 5:  \u001b[32m87.05831837870869\u001b[0m\n",
      "Posicion ángulo de la rodilla derecha dentro del Ejercicio 6:  \u001b[32m47.97195098897478\u001b[0m\n",
      "Posicion ángulo de la rodilla derecha dentro del Ejercicio 7:  \u001b[32m104.46599388140754\u001b[0m\n",
      "Posicion ángulo de la rodilla derecha dentro del Ejercicio 8:  \u001b[32m80.1325071121062\u001b[0m\n",
      "Posicion ángulo de la rodilla derecha dentro del Ejercicio 9:  \u001b[34m3.1295132860041637\u001b[0m\n",
      "Posicion ángulo de la rodilla derecha dentro del Ejercicio 10:  \u001b[34m1.1992037754498295\u001b[0m\n",
      "Posicion ángulo de la rodilla derecha dentro del Ejercicio 11:  \u001b[34m18.274619543594735\u001b[0m\n",
      "Posicion ángulo de la rodilla derecha dentro del Ejercicio 12:  \u001b[34m2.7115390384221287\u001b[0m\n",
      "Posicion ángulo de la rodilla derecha dentro del Ejercicio 13:  \u001b[34m1.1058575364405814\u001b[0m\n",
      "Posicion ángulo de la rodilla derecha dentro del Ejercicio 14:  \u001b[34m2.7118038287253574\u001b[0m\n"
     ]
    }
   ],
   "source": [
    "for i, p in enumerate(pos,1):\n",
    "    sigma=np.array(parte(p[1],9,0)).flatten().std()\n",
    "    if sigma < 20:\n",
    "        print(\"Posicion ángulo de la rodilla derecha dentro del Ejercicio \"+str(i)+\": \",colored(sigma, \"blue\"))\n",
    "    else:\n",
    "        print(\"Posicion ángulo de la rodilla derecha dentro del Ejercicio \"+str(i)+\": \",colored(sigma, \"green\"))"
   ]
  },
  {
   "cell_type": "markdown",
   "id": "d4df3dc3",
   "metadata": {},
   "source": [
    "<div class=\"alert alert-block alert-info\">\n",
    "En muchos casos los resultados no han sido lo que se esperaba. Hay que objetar también que los movimientos de una persona son muy relativos, el que se esté realizando un ejercicio de piernas no quiere decir que le paciente no mueva las manos, o que en un ejercicio de brazos el individuo no mueva las piernas.Las que mejor lo han clasificado han sido:\n",
    "  \n",
    "  -  Eje y rodilla izquierda\n",
    "  -  Eje y rodilla derecha\n",
    "  -  Eje y tobillo izquierdo\n",
    "  -  Eje y tobillo derecho\n",
    "  -  Ángulo rodilla izquierda \n",
    "  -  Ángulo rodilla derecha \n",
    "</div>"
   ]
  },
  {
   "cell_type": "markdown",
   "id": "0ea50281",
   "metadata": {},
   "source": [
    "<div class=\"alert alert-block alert-warning\">\n",
    "    <b>Conclusión: </b> Como conclusión podemos mostrar que con mucha diferencia los mejores resultados se obtienen a partir del análisis de ángulos concretos del cuerpo. Por ejemplo, para clasificar un ejercicio se podría atender a su desviación típica en los movimientos del ángulo de las rodillas. Si es pequeña quiere decir que prácticamente no se mueven las rodillas, mientras que si es grande quiere decir que ambas están en movimiento en alguna parte del ejercicio.\n",
    "</div>"
   ]
  },
  {
   "cell_type": "markdown",
   "id": "3fedc8f6",
   "metadata": {},
   "source": [
    "## Clasificar los valores respecto de otros ejercicios"
   ]
  },
  {
   "cell_type": "markdown",
   "id": "5720c941",
   "metadata": {},
   "source": [
    "Para ello lo primero que vamos a realizar es guardar los valores en un Pandas DataFrame. Se van a coger como referencia los valores del ángulo de la rodilla derecha"
   ]
  },
  {
   "cell_type": "markdown",
   "id": "1097f243",
   "metadata": {},
   "source": [
    "##### Posicion ángulo de la rodilla derecha"
   ]
  },
  {
   "cell_type": "code",
   "execution_count": 8,
   "id": "981cf281",
   "metadata": {},
   "outputs": [
    {
     "data": {
      "text/html": [
       "<div>\n",
       "<style scoped>\n",
       "    .dataframe tbody tr th:only-of-type {\n",
       "        vertical-align: middle;\n",
       "    }\n",
       "\n",
       "    .dataframe tbody tr th {\n",
       "        vertical-align: top;\n",
       "    }\n",
       "\n",
       "    .dataframe thead th {\n",
       "        text-align: right;\n",
       "    }\n",
       "</style>\n",
       "<table border=\"1\" class=\"dataframe\">\n",
       "  <thead>\n",
       "    <tr style=\"text-align: right;\">\n",
       "      <th></th>\n",
       "      <th>desviación</th>\n",
       "      <th>DecileRank</th>\n",
       "    </tr>\n",
       "  </thead>\n",
       "  <tbody>\n",
       "    <tr>\n",
       "      <th>Ejercicio1</th>\n",
       "      <td>1.259271</td>\n",
       "      <td>15</td>\n",
       "    </tr>\n",
       "    <tr>\n",
       "      <th>Ejercicio2</th>\n",
       "      <td>73.071316</td>\n",
       "      <td>76</td>\n",
       "    </tr>\n",
       "    <tr>\n",
       "      <th>Ejercicio3</th>\n",
       "      <td>10.396195</td>\n",
       "      <td>53</td>\n",
       "    </tr>\n",
       "    <tr>\n",
       "      <th>Ejercicio4</th>\n",
       "      <td>5.886211</td>\n",
       "      <td>46</td>\n",
       "    </tr>\n",
       "    <tr>\n",
       "      <th>Ejercicio5</th>\n",
       "      <td>87.058318</td>\n",
       "      <td>92</td>\n",
       "    </tr>\n",
       "    <tr>\n",
       "      <th>Ejercicio6</th>\n",
       "      <td>47.971951</td>\n",
       "      <td>69</td>\n",
       "    </tr>\n",
       "    <tr>\n",
       "      <th>Ejercicio7</th>\n",
       "      <td>104.465994</td>\n",
       "      <td>99</td>\n",
       "    </tr>\n",
       "    <tr>\n",
       "      <th>Ejercicio8</th>\n",
       "      <td>80.132507</td>\n",
       "      <td>84</td>\n",
       "    </tr>\n",
       "    <tr>\n",
       "      <th>Ejercicio9</th>\n",
       "      <td>3.129513</td>\n",
       "      <td>38</td>\n",
       "    </tr>\n",
       "    <tr>\n",
       "      <th>Ejercicio10</th>\n",
       "      <td>1.199204</td>\n",
       "      <td>7</td>\n",
       "    </tr>\n",
       "    <tr>\n",
       "      <th>Ejercicio11</th>\n",
       "      <td>18.274620</td>\n",
       "      <td>61</td>\n",
       "    </tr>\n",
       "    <tr>\n",
       "      <th>Ejercicio12</th>\n",
       "      <td>2.711539</td>\n",
       "      <td>23</td>\n",
       "    </tr>\n",
       "    <tr>\n",
       "      <th>Ejercicio13</th>\n",
       "      <td>1.105858</td>\n",
       "      <td>0</td>\n",
       "    </tr>\n",
       "    <tr>\n",
       "      <th>Ejercicio14</th>\n",
       "      <td>2.711804</td>\n",
       "      <td>30</td>\n",
       "    </tr>\n",
       "  </tbody>\n",
       "</table>\n",
       "</div>"
      ],
      "text/plain": [
       "             desviación  DecileRank\n",
       "Ejercicio1     1.259271          15\n",
       "Ejercicio2    73.071316          76\n",
       "Ejercicio3    10.396195          53\n",
       "Ejercicio4     5.886211          46\n",
       "Ejercicio5    87.058318          92\n",
       "Ejercicio6    47.971951          69\n",
       "Ejercicio7   104.465994          99\n",
       "Ejercicio8    80.132507          84\n",
       "Ejercicio9     3.129513          38\n",
       "Ejercicio10    1.199204           7\n",
       "Ejercicio11   18.274620          61\n",
       "Ejercicio12    2.711539          23\n",
       "Ejercicio13    1.105858           0\n",
       "Ejercicio14    2.711804          30"
      ]
     },
     "execution_count": 8,
     "metadata": {},
     "output_type": "execute_result"
    }
   ],
   "source": [
    "import pandas as pd\n",
    "\n",
    "sigma=[]\n",
    "for i, p in enumerate(pos,1):\n",
    "    sigma.append(np.array(parte(p[1],9,0)).flatten().std())\n",
    "    \n",
    "data = {'desviación': [sigma[0],sigma[1],sigma[2],sigma[3],sigma[4],sigma[5],sigma[6],sigma[7],\n",
    "                      sigma[8],sigma[9],sigma[10],sigma[11],sigma[12],sigma[13]]}\n",
    "df = pd.DataFrame(data, index = ['Ejercicio1', 'Ejercicio2', 'Ejercicio3', 'Ejercicio4', 'Ejercicio5', 'Ejercicio6',\n",
    "                                 'Ejercicio7', 'Ejercicio8', 'Ejercicio9', 'Ejercicio10', 'Ejercicio11', 'Ejercicio12',\n",
    "                                'Ejercicio13', 'Ejercicio14'])\n",
    "\n",
    "#Esta en centiles porque q = 100, deciles q=10, cuartiles q=4\n",
    "df['DecileRank']= pd.qcut(df['desviación'],q = 100, labels = False)\n",
    "df"
   ]
  },
  {
   "cell_type": "markdown",
   "id": "0cfb32bd",
   "metadata": {},
   "source": [
    "##### Posicion ángulo de la rodilla izquierda"
   ]
  },
  {
   "cell_type": "code",
   "execution_count": 19,
   "id": "f91cfade",
   "metadata": {},
   "outputs": [
    {
     "data": {
      "text/html": [
       "<div>\n",
       "<style scoped>\n",
       "    .dataframe tbody tr th:only-of-type {\n",
       "        vertical-align: middle;\n",
       "    }\n",
       "\n",
       "    .dataframe tbody tr th {\n",
       "        vertical-align: top;\n",
       "    }\n",
       "\n",
       "    .dataframe thead th {\n",
       "        text-align: right;\n",
       "    }\n",
       "</style>\n",
       "<table border=\"1\" class=\"dataframe\">\n",
       "  <thead>\n",
       "    <tr style=\"text-align: right;\">\n",
       "      <th></th>\n",
       "      <th>desviación</th>\n",
       "      <th>DecileRank</th>\n",
       "    </tr>\n",
       "  </thead>\n",
       "  <tbody>\n",
       "    <tr>\n",
       "      <th>Ejercicio1</th>\n",
       "      <td>1.935345</td>\n",
       "      <td>23</td>\n",
       "    </tr>\n",
       "    <tr>\n",
       "      <th>Ejercicio2</th>\n",
       "      <td>47.112237</td>\n",
       "      <td>69</td>\n",
       "    </tr>\n",
       "    <tr>\n",
       "      <th>Ejercicio3</th>\n",
       "      <td>4.925707</td>\n",
       "      <td>53</td>\n",
       "    </tr>\n",
       "    <tr>\n",
       "      <th>Ejercicio4</th>\n",
       "      <td>0.945937</td>\n",
       "      <td>0</td>\n",
       "    </tr>\n",
       "    <tr>\n",
       "      <th>Ejercicio5</th>\n",
       "      <td>79.722721</td>\n",
       "      <td>99</td>\n",
       "    </tr>\n",
       "    <tr>\n",
       "      <th>Ejercicio6</th>\n",
       "      <td>50.884055</td>\n",
       "      <td>76</td>\n",
       "    </tr>\n",
       "    <tr>\n",
       "      <th>Ejercicio7</th>\n",
       "      <td>69.573882</td>\n",
       "      <td>92</td>\n",
       "    </tr>\n",
       "    <tr>\n",
       "      <th>Ejercicio8</th>\n",
       "      <td>67.860259</td>\n",
       "      <td>84</td>\n",
       "    </tr>\n",
       "    <tr>\n",
       "      <th>Ejercicio9</th>\n",
       "      <td>2.623205</td>\n",
       "      <td>38</td>\n",
       "    </tr>\n",
       "    <tr>\n",
       "      <th>Ejercicio10</th>\n",
       "      <td>1.345782</td>\n",
       "      <td>15</td>\n",
       "    </tr>\n",
       "    <tr>\n",
       "      <th>Ejercicio11</th>\n",
       "      <td>6.381064</td>\n",
       "      <td>61</td>\n",
       "    </tr>\n",
       "    <tr>\n",
       "      <th>Ejercicio12</th>\n",
       "      <td>2.542014</td>\n",
       "      <td>30</td>\n",
       "    </tr>\n",
       "    <tr>\n",
       "      <th>Ejercicio13</th>\n",
       "      <td>1.132985</td>\n",
       "      <td>7</td>\n",
       "    </tr>\n",
       "    <tr>\n",
       "      <th>Ejercicio14</th>\n",
       "      <td>3.035889</td>\n",
       "      <td>46</td>\n",
       "    </tr>\n",
       "  </tbody>\n",
       "</table>\n",
       "</div>"
      ],
      "text/plain": [
       "             desviación  DecileRank\n",
       "Ejercicio1     1.935345          23\n",
       "Ejercicio2    47.112237          69\n",
       "Ejercicio3     4.925707          53\n",
       "Ejercicio4     0.945937           0\n",
       "Ejercicio5    79.722721          99\n",
       "Ejercicio6    50.884055          76\n",
       "Ejercicio7    69.573882          92\n",
       "Ejercicio8    67.860259          84\n",
       "Ejercicio9     2.623205          38\n",
       "Ejercicio10    1.345782          15\n",
       "Ejercicio11    6.381064          61\n",
       "Ejercicio12    2.542014          30\n",
       "Ejercicio13    1.132985           7\n",
       "Ejercicio14    3.035889          46"
      ]
     },
     "execution_count": 19,
     "metadata": {},
     "output_type": "execute_result"
    }
   ],
   "source": [
    "sigma=[]\n",
    "for i, p in enumerate(pos,1):\n",
    "    sigma.append(np.array(parte(p[1],8,0)).flatten().std())\n",
    "    \n",
    "data = {'desviación': [sigma[0],sigma[1],sigma[2],sigma[3],sigma[4],sigma[5],sigma[6],sigma[7],\n",
    "                      sigma[8],sigma[9],sigma[10],sigma[11],sigma[12],sigma[13]]}\n",
    "df2 = pd.DataFrame(data, index = ['Ejercicio1', 'Ejercicio2', 'Ejercicio3', 'Ejercicio4', 'Ejercicio5', 'Ejercicio6',\n",
    "                                 'Ejercicio7', 'Ejercicio8', 'Ejercicio9', 'Ejercicio10', 'Ejercicio11', 'Ejercicio12',\n",
    "                                'Ejercicio13', 'Ejercicio14'])\n",
    "\n",
    "df2['DecileRank']= pd.qcut(df2['desviación'],q = 100, labels = False)\n",
    "df2"
   ]
  },
  {
   "cell_type": "markdown",
   "id": "7c112c39",
   "metadata": {},
   "source": [
    "##### Posicion del tobillo derecho en el eje y"
   ]
  },
  {
   "cell_type": "code",
   "execution_count": 20,
   "id": "50a6d5ba",
   "metadata": {},
   "outputs": [
    {
     "data": {
      "text/html": [
       "<div>\n",
       "<style scoped>\n",
       "    .dataframe tbody tr th:only-of-type {\n",
       "        vertical-align: middle;\n",
       "    }\n",
       "\n",
       "    .dataframe tbody tr th {\n",
       "        vertical-align: top;\n",
       "    }\n",
       "\n",
       "    .dataframe thead th {\n",
       "        text-align: right;\n",
       "    }\n",
       "</style>\n",
       "<table border=\"1\" class=\"dataframe\">\n",
       "  <thead>\n",
       "    <tr style=\"text-align: right;\">\n",
       "      <th></th>\n",
       "      <th>desviación</th>\n",
       "      <th>DecileRank</th>\n",
       "    </tr>\n",
       "  </thead>\n",
       "  <tbody>\n",
       "    <tr>\n",
       "      <th>Ejercicio1</th>\n",
       "      <td>15.228322</td>\n",
       "      <td>15</td>\n",
       "    </tr>\n",
       "    <tr>\n",
       "      <th>Ejercicio2</th>\n",
       "      <td>85.595741</td>\n",
       "      <td>76</td>\n",
       "    </tr>\n",
       "    <tr>\n",
       "      <th>Ejercicio3</th>\n",
       "      <td>26.175419</td>\n",
       "      <td>46</td>\n",
       "    </tr>\n",
       "    <tr>\n",
       "      <th>Ejercicio4</th>\n",
       "      <td>16.078903</td>\n",
       "      <td>23</td>\n",
       "    </tr>\n",
       "    <tr>\n",
       "      <th>Ejercicio5</th>\n",
       "      <td>118.118347</td>\n",
       "      <td>92</td>\n",
       "    </tr>\n",
       "    <tr>\n",
       "      <th>Ejercicio6</th>\n",
       "      <td>122.481201</td>\n",
       "      <td>99</td>\n",
       "    </tr>\n",
       "    <tr>\n",
       "      <th>Ejercicio7</th>\n",
       "      <td>89.595490</td>\n",
       "      <td>84</td>\n",
       "    </tr>\n",
       "    <tr>\n",
       "      <th>Ejercicio8</th>\n",
       "      <td>63.414410</td>\n",
       "      <td>69</td>\n",
       "    </tr>\n",
       "    <tr>\n",
       "      <th>Ejercicio9</th>\n",
       "      <td>11.141483</td>\n",
       "      <td>0</td>\n",
       "    </tr>\n",
       "    <tr>\n",
       "      <th>Ejercicio10</th>\n",
       "      <td>12.131502</td>\n",
       "      <td>7</td>\n",
       "    </tr>\n",
       "    <tr>\n",
       "      <th>Ejercicio11</th>\n",
       "      <td>18.662254</td>\n",
       "      <td>38</td>\n",
       "    </tr>\n",
       "    <tr>\n",
       "      <th>Ejercicio12</th>\n",
       "      <td>16.846992</td>\n",
       "      <td>30</td>\n",
       "    </tr>\n",
       "    <tr>\n",
       "      <th>Ejercicio13</th>\n",
       "      <td>26.838200</td>\n",
       "      <td>53</td>\n",
       "    </tr>\n",
       "    <tr>\n",
       "      <th>Ejercicio14</th>\n",
       "      <td>27.323343</td>\n",
       "      <td>61</td>\n",
       "    </tr>\n",
       "  </tbody>\n",
       "</table>\n",
       "</div>"
      ],
      "text/plain": [
       "             desviación  DecileRank\n",
       "Ejercicio1    15.228322          15\n",
       "Ejercicio2    85.595741          76\n",
       "Ejercicio3    26.175419          46\n",
       "Ejercicio4    16.078903          23\n",
       "Ejercicio5   118.118347          92\n",
       "Ejercicio6   122.481201          99\n",
       "Ejercicio7    89.595490          84\n",
       "Ejercicio8    63.414410          69\n",
       "Ejercicio9    11.141483           0\n",
       "Ejercicio10   12.131502           7\n",
       "Ejercicio11   18.662254          38\n",
       "Ejercicio12   16.846992          30\n",
       "Ejercicio13   26.838200          53\n",
       "Ejercicio14   27.323343          61"
      ]
     },
     "execution_count": 20,
     "metadata": {},
     "output_type": "execute_result"
    }
   ],
   "source": [
    "sigma=[]\n",
    "for i, p in enumerate(pos,1):\n",
    "    sigma.append(np.array(parte(p[1],7,1)).flatten().std())\n",
    "    \n",
    "data = {'desviación': [sigma[0],sigma[1],sigma[2],sigma[3],sigma[4],sigma[5],sigma[6],sigma[7],\n",
    "                      sigma[8],sigma[9],sigma[10],sigma[11],sigma[12],sigma[13]]}\n",
    "df3 = pd.DataFrame(data, index = ['Ejercicio1', 'Ejercicio2', 'Ejercicio3', 'Ejercicio4', 'Ejercicio5', 'Ejercicio6',\n",
    "                                 'Ejercicio7', 'Ejercicio8', 'Ejercicio9', 'Ejercicio10', 'Ejercicio11', 'Ejercicio12',\n",
    "                                'Ejercicio13', 'Ejercicio14'])\n",
    "\n",
    "df3['DecileRank']= pd.qcut(df3['desviación'],q = 100, labels = False)\n",
    "df3"
   ]
  },
  {
   "cell_type": "markdown",
   "id": "7496ff10",
   "metadata": {},
   "source": [
    "##### Posicion del tobillo izquierdo en el eje y"
   ]
  },
  {
   "cell_type": "code",
   "execution_count": 9,
   "id": "4905d5db",
   "metadata": {},
   "outputs": [
    {
     "data": {
      "text/html": [
       "<div>\n",
       "<style scoped>\n",
       "    .dataframe tbody tr th:only-of-type {\n",
       "        vertical-align: middle;\n",
       "    }\n",
       "\n",
       "    .dataframe tbody tr th {\n",
       "        vertical-align: top;\n",
       "    }\n",
       "\n",
       "    .dataframe thead th {\n",
       "        text-align: right;\n",
       "    }\n",
       "</style>\n",
       "<table border=\"1\" class=\"dataframe\">\n",
       "  <thead>\n",
       "    <tr style=\"text-align: right;\">\n",
       "      <th></th>\n",
       "      <th>desviación</th>\n",
       "      <th>PercentileRank</th>\n",
       "      <th>Clasificación</th>\n",
       "    </tr>\n",
       "  </thead>\n",
       "  <tbody>\n",
       "    <tr>\n",
       "      <th>Ejercicio1</th>\n",
       "      <td>17.254868</td>\n",
       "      <td>23</td>\n",
       "      <td>Ejercicio SUPERIOR</td>\n",
       "    </tr>\n",
       "    <tr>\n",
       "      <th>Ejercicio2</th>\n",
       "      <td>92.784492</td>\n",
       "      <td>84</td>\n",
       "      <td>Ejercicio INFERIOR</td>\n",
       "    </tr>\n",
       "    <tr>\n",
       "      <th>Ejercicio3</th>\n",
       "      <td>25.000359</td>\n",
       "      <td>46</td>\n",
       "      <td>Ejercicio SUPERIOR</td>\n",
       "    </tr>\n",
       "    <tr>\n",
       "      <th>Ejercicio4</th>\n",
       "      <td>16.270868</td>\n",
       "      <td>15</td>\n",
       "      <td>Ejercicio SUPERIOR</td>\n",
       "    </tr>\n",
       "    <tr>\n",
       "      <th>Ejercicio5</th>\n",
       "      <td>124.640312</td>\n",
       "      <td>92</td>\n",
       "      <td>Ejercicio INFERIOR</td>\n",
       "    </tr>\n",
       "    <tr>\n",
       "      <th>Ejercicio6</th>\n",
       "      <td>125.269585</td>\n",
       "      <td>99</td>\n",
       "      <td>Ejercicio INFERIOR</td>\n",
       "    </tr>\n",
       "    <tr>\n",
       "      <th>Ejercicio7</th>\n",
       "      <td>88.113121</td>\n",
       "      <td>76</td>\n",
       "      <td>Ejercicio INFERIOR</td>\n",
       "    </tr>\n",
       "    <tr>\n",
       "      <th>Ejercicio8</th>\n",
       "      <td>80.954239</td>\n",
       "      <td>69</td>\n",
       "      <td>Ejercicio INFERIOR</td>\n",
       "    </tr>\n",
       "    <tr>\n",
       "      <th>Ejercicio9</th>\n",
       "      <td>12.105806</td>\n",
       "      <td>7</td>\n",
       "      <td>Ejercicio SUPERIOR</td>\n",
       "    </tr>\n",
       "    <tr>\n",
       "      <th>Ejercicio10</th>\n",
       "      <td>9.664043</td>\n",
       "      <td>0</td>\n",
       "      <td>Ejercicio SUPERIOR</td>\n",
       "    </tr>\n",
       "    <tr>\n",
       "      <th>Ejercicio11</th>\n",
       "      <td>17.749689</td>\n",
       "      <td>30</td>\n",
       "      <td>Ejercicio SUPERIOR</td>\n",
       "    </tr>\n",
       "    <tr>\n",
       "      <th>Ejercicio12</th>\n",
       "      <td>19.416697</td>\n",
       "      <td>38</td>\n",
       "      <td>Ejercicio SUPERIOR</td>\n",
       "    </tr>\n",
       "    <tr>\n",
       "      <th>Ejercicio13</th>\n",
       "      <td>27.311350</td>\n",
       "      <td>61</td>\n",
       "      <td>Ejercicio SUPERIOR</td>\n",
       "    </tr>\n",
       "    <tr>\n",
       "      <th>Ejercicio14</th>\n",
       "      <td>27.287348</td>\n",
       "      <td>53</td>\n",
       "      <td>Ejercicio SUPERIOR</td>\n",
       "    </tr>\n",
       "  </tbody>\n",
       "</table>\n",
       "</div>"
      ],
      "text/plain": [
       "             desviación  PercentileRank       Clasificación\n",
       "Ejercicio1    17.254868              23  Ejercicio SUPERIOR\n",
       "Ejercicio2    92.784492              84  Ejercicio INFERIOR\n",
       "Ejercicio3    25.000359              46  Ejercicio SUPERIOR\n",
       "Ejercicio4    16.270868              15  Ejercicio SUPERIOR\n",
       "Ejercicio5   124.640312              92  Ejercicio INFERIOR\n",
       "Ejercicio6   125.269585              99  Ejercicio INFERIOR\n",
       "Ejercicio7    88.113121              76  Ejercicio INFERIOR\n",
       "Ejercicio8    80.954239              69  Ejercicio INFERIOR\n",
       "Ejercicio9    12.105806               7  Ejercicio SUPERIOR\n",
       "Ejercicio10    9.664043               0  Ejercicio SUPERIOR\n",
       "Ejercicio11   17.749689              30  Ejercicio SUPERIOR\n",
       "Ejercicio12   19.416697              38  Ejercicio SUPERIOR\n",
       "Ejercicio13   27.311350              61  Ejercicio SUPERIOR\n",
       "Ejercicio14   27.287348              53  Ejercicio SUPERIOR"
      ]
     },
     "execution_count": 9,
     "metadata": {},
     "output_type": "execute_result"
    }
   ],
   "source": [
    "sigma=[]\n",
    "for i, p in enumerate(pos,1):\n",
    "    sigma.append(np.array(parte(p[1],6,1)).flatten().std())\n",
    "    \n",
    "data = {'desviación': [sigma[0],sigma[1],sigma[2],sigma[3],sigma[4],sigma[5],sigma[6],sigma[7],\n",
    "                      sigma[8],sigma[9],sigma[10],sigma[11],sigma[12],sigma[13]]}\n",
    "df4 = pd.DataFrame(data, index = ['Ejercicio1', 'Ejercicio2', 'Ejercicio3', 'Ejercicio4', 'Ejercicio5', 'Ejercicio6',\n",
    "                                 'Ejercicio7', 'Ejercicio8', 'Ejercicio9', 'Ejercicio10', 'Ejercicio11', 'Ejercicio12',\n",
    "                                'Ejercicio13', 'Ejercicio14'])\n",
    "\n",
    "df4['PercentileRank']= pd.qcut(df4['desviación'],q = 100, labels = False)\n",
    "df4['Clasificación'] = np.where(df4['PercentileRank']>=65,\n",
    "                            'Ejercicio INFERIOR', 'Ejercicio SUPERIOR')\n",
    "df4"
   ]
  },
  {
   "cell_type": "markdown",
   "id": "f0f1f71a",
   "metadata": {},
   "source": [
    "<div class=\"alert alert-block alert-warning\">\n",
    "    <b>Conclusión: </b> Según los resultados obtedinos una posible clasificación seria a partir de los centiles. Todos aquellos que poseaun en percentil mayor que, por ejemplo 65, son considerados como ejercicios de partes inferiores y aquellos que no lo sean pueden ser clasificados como ejercicios sobre las partes superiores del cuerpo. Esto es así porque estamos usando en los ejemplos las desviaciones obtenidas de partes inferiores del cuerpo, entonces, en caso de ejercicios sobre extremidades inferiores serán las que obtengan una desviación típica mayor \n",
    "</div>"
   ]
  },
  {
   "cell_type": "markdown",
   "id": "fb30ce61",
   "metadata": {},
   "source": [
    "## Clasificar un ejercicio independiente"
   ]
  },
  {
   "cell_type": "markdown",
   "id": "90db580a",
   "metadata": {},
   "source": [
    "Finalmente si lo que se espera es clasificar un único ejercicio la clasificación anterior nos es inválida ya que no se tienen otros ejercicios con los que comparar las desviaciones típicas. Lo que si que se obtiene son desviaciones típicas de distintas partes del cuerpo. Para conseguir clasificar un ejercicio se pueden obtener las desviaciones típicas de partes superiores del cuerpo como las manos o los codos, y por otra parte, desviaciones típicas de las partes inferiores, como los tobillos o las rodillas. Si las desviaciones típicas de las partes superiores son mayores que las de las partes inferiores, quiere decir que se trata de un ejercicio sobre las partes superiores del cuerpo, de lo contrario sería sobre las partes inferiores"
   ]
  },
  {
   "cell_type": "code",
   "execution_count": 16,
   "id": "cc1a519d",
   "metadata": {},
   "outputs": [
    {
     "data": {
      "text/html": [
       "<div>\n",
       "<style scoped>\n",
       "    .dataframe tbody tr th:only-of-type {\n",
       "        vertical-align: middle;\n",
       "    }\n",
       "\n",
       "    .dataframe tbody tr th {\n",
       "        vertical-align: top;\n",
       "    }\n",
       "\n",
       "    .dataframe thead th {\n",
       "        text-align: right;\n",
       "    }\n",
       "</style>\n",
       "<table border=\"1\" class=\"dataframe\">\n",
       "  <thead>\n",
       "    <tr style=\"text-align: right;\">\n",
       "      <th></th>\n",
       "      <th>desviación rodilla izquierda</th>\n",
       "      <th>desviación rodilla derecha</th>\n",
       "      <th>desviación codo izquierdo</th>\n",
       "      <th>desviación codo derecho</th>\n",
       "      <th>Clasificación</th>\n",
       "    </tr>\n",
       "  </thead>\n",
       "  <tbody>\n",
       "    <tr>\n",
       "      <th>Ejercicio1</th>\n",
       "      <td>1.935345</td>\n",
       "      <td>1.259271</td>\n",
       "      <td>83.475923</td>\n",
       "      <td>85.252242</td>\n",
       "      <td>Ejercicio SUPERIOR</td>\n",
       "    </tr>\n",
       "    <tr>\n",
       "      <th>Ejercicio2</th>\n",
       "      <td>47.112237</td>\n",
       "      <td>73.071316</td>\n",
       "      <td>16.182303</td>\n",
       "      <td>15.125709</td>\n",
       "      <td>Ejercicio INFERIOR</td>\n",
       "    </tr>\n",
       "    <tr>\n",
       "      <th>Ejercicio3</th>\n",
       "      <td>4.925707</td>\n",
       "      <td>10.396195</td>\n",
       "      <td>67.772181</td>\n",
       "      <td>71.215213</td>\n",
       "      <td>Ejercicio SUPERIOR</td>\n",
       "    </tr>\n",
       "    <tr>\n",
       "      <th>Ejercicio4</th>\n",
       "      <td>0.945937</td>\n",
       "      <td>5.886211</td>\n",
       "      <td>118.058889</td>\n",
       "      <td>116.983376</td>\n",
       "      <td>Ejercicio SUPERIOR</td>\n",
       "    </tr>\n",
       "    <tr>\n",
       "      <th>Ejercicio5</th>\n",
       "      <td>79.722721</td>\n",
       "      <td>87.058318</td>\n",
       "      <td>3.059813</td>\n",
       "      <td>2.034518</td>\n",
       "      <td>Ejercicio INFERIOR</td>\n",
       "    </tr>\n",
       "    <tr>\n",
       "      <th>Ejercicio6</th>\n",
       "      <td>50.884055</td>\n",
       "      <td>47.971951</td>\n",
       "      <td>3.406641</td>\n",
       "      <td>3.970406</td>\n",
       "      <td>Ejercicio INFERIOR</td>\n",
       "    </tr>\n",
       "    <tr>\n",
       "      <th>Ejercicio7</th>\n",
       "      <td>69.573882</td>\n",
       "      <td>104.465994</td>\n",
       "      <td>3.055756</td>\n",
       "      <td>1.953339</td>\n",
       "      <td>Ejercicio INFERIOR</td>\n",
       "    </tr>\n",
       "    <tr>\n",
       "      <th>Ejercicio8</th>\n",
       "      <td>67.860259</td>\n",
       "      <td>80.132507</td>\n",
       "      <td>2.067330</td>\n",
       "      <td>2.015728</td>\n",
       "      <td>Ejercicio INFERIOR</td>\n",
       "    </tr>\n",
       "    <tr>\n",
       "      <th>Ejercicio9</th>\n",
       "      <td>2.623205</td>\n",
       "      <td>3.129513</td>\n",
       "      <td>51.359515</td>\n",
       "      <td>61.526016</td>\n",
       "      <td>Ejercicio SUPERIOR</td>\n",
       "    </tr>\n",
       "    <tr>\n",
       "      <th>Ejercicio10</th>\n",
       "      <td>1.345782</td>\n",
       "      <td>1.199204</td>\n",
       "      <td>36.503302</td>\n",
       "      <td>38.661532</td>\n",
       "      <td>Ejercicio SUPERIOR</td>\n",
       "    </tr>\n",
       "    <tr>\n",
       "      <th>Ejercicio11</th>\n",
       "      <td>6.381064</td>\n",
       "      <td>18.274620</td>\n",
       "      <td>51.042877</td>\n",
       "      <td>54.722711</td>\n",
       "      <td>Ejercicio SUPERIOR</td>\n",
       "    </tr>\n",
       "    <tr>\n",
       "      <th>Ejercicio12</th>\n",
       "      <td>2.542014</td>\n",
       "      <td>2.711539</td>\n",
       "      <td>68.195441</td>\n",
       "      <td>68.669236</td>\n",
       "      <td>Ejercicio SUPERIOR</td>\n",
       "    </tr>\n",
       "    <tr>\n",
       "      <th>Ejercicio13</th>\n",
       "      <td>1.132985</td>\n",
       "      <td>1.105858</td>\n",
       "      <td>110.853035</td>\n",
       "      <td>116.354193</td>\n",
       "      <td>Ejercicio SUPERIOR</td>\n",
       "    </tr>\n",
       "    <tr>\n",
       "      <th>Ejercicio14</th>\n",
       "      <td>3.035889</td>\n",
       "      <td>2.711804</td>\n",
       "      <td>112.991661</td>\n",
       "      <td>118.296063</td>\n",
       "      <td>Ejercicio SUPERIOR</td>\n",
       "    </tr>\n",
       "  </tbody>\n",
       "</table>\n",
       "</div>"
      ],
      "text/plain": [
       "             desviación rodilla izquierda  desviación rodilla derecha  \\\n",
       "Ejercicio1                       1.935345                    1.259271   \n",
       "Ejercicio2                      47.112237                   73.071316   \n",
       "Ejercicio3                       4.925707                   10.396195   \n",
       "Ejercicio4                       0.945937                    5.886211   \n",
       "Ejercicio5                      79.722721                   87.058318   \n",
       "Ejercicio6                      50.884055                   47.971951   \n",
       "Ejercicio7                      69.573882                  104.465994   \n",
       "Ejercicio8                      67.860259                   80.132507   \n",
       "Ejercicio9                       2.623205                    3.129513   \n",
       "Ejercicio10                      1.345782                    1.199204   \n",
       "Ejercicio11                      6.381064                   18.274620   \n",
       "Ejercicio12                      2.542014                    2.711539   \n",
       "Ejercicio13                      1.132985                    1.105858   \n",
       "Ejercicio14                      3.035889                    2.711804   \n",
       "\n",
       "             desviación codo izquierdo  desviación codo derecho  \\\n",
       "Ejercicio1                   83.475923                85.252242   \n",
       "Ejercicio2                   16.182303                15.125709   \n",
       "Ejercicio3                   67.772181                71.215213   \n",
       "Ejercicio4                  118.058889               116.983376   \n",
       "Ejercicio5                    3.059813                 2.034518   \n",
       "Ejercicio6                    3.406641                 3.970406   \n",
       "Ejercicio7                    3.055756                 1.953339   \n",
       "Ejercicio8                    2.067330                 2.015728   \n",
       "Ejercicio9                   51.359515                61.526016   \n",
       "Ejercicio10                  36.503302                38.661532   \n",
       "Ejercicio11                  51.042877                54.722711   \n",
       "Ejercicio12                  68.195441                68.669236   \n",
       "Ejercicio13                 110.853035               116.354193   \n",
       "Ejercicio14                 112.991661               118.296063   \n",
       "\n",
       "                  Clasificación  \n",
       "Ejercicio1   Ejercicio SUPERIOR  \n",
       "Ejercicio2   Ejercicio INFERIOR  \n",
       "Ejercicio3   Ejercicio SUPERIOR  \n",
       "Ejercicio4   Ejercicio SUPERIOR  \n",
       "Ejercicio5   Ejercicio INFERIOR  \n",
       "Ejercicio6   Ejercicio INFERIOR  \n",
       "Ejercicio7   Ejercicio INFERIOR  \n",
       "Ejercicio8   Ejercicio INFERIOR  \n",
       "Ejercicio9   Ejercicio SUPERIOR  \n",
       "Ejercicio10  Ejercicio SUPERIOR  \n",
       "Ejercicio11  Ejercicio SUPERIOR  \n",
       "Ejercicio12  Ejercicio SUPERIOR  \n",
       "Ejercicio13  Ejercicio SUPERIOR  \n",
       "Ejercicio14  Ejercicio SUPERIOR  "
      ]
     },
     "execution_count": 16,
     "metadata": {},
     "output_type": "execute_result"
    }
   ],
   "source": [
    "sigma_rodilla_iz=[]\n",
    "sigma_rodilla_d=[]\n",
    "sigma_codo_iz=[]\n",
    "sigma_codo_d=[]\n",
    "\n",
    "for i, p in enumerate(pos,1):\n",
    "    #Ángulo rodilla izquierda\n",
    "    sigma_rodilla_iz.append(np.array(parte(p[1],8,0)).flatten().std())\n",
    "    #Angulo rodilla derecha \n",
    "    sigma_rodilla_d.append(np.array(parte(p[1],9,0)).flatten().std())\n",
    "    #Angulo codo izquierdo\n",
    "    sigma_codo_iz.append(np.array(parte(p[0],10,0)).flatten().std())\n",
    "    #Angulo codo derecho\n",
    "    sigma_codo_d.append(np.array(parte(p[0],11,0)).flatten().std())\n",
    "    \n",
    "data = {'desviación rodilla izquierda': [sigma_rodilla_iz[0],sigma_rodilla_iz[1],sigma_rodilla_iz[2],\n",
    "                                         sigma_rodilla_iz[3],sigma_rodilla_iz[4],sigma_rodilla_iz[5],\n",
    "                                         sigma_rodilla_iz[6],sigma_rodilla_iz[7],sigma_rodilla_iz[8],\n",
    "                                         sigma_rodilla_iz[9],sigma_rodilla_iz[10],sigma_rodilla_iz[11],\n",
    "                                         sigma_rodilla_iz[12],sigma_rodilla_iz[13]],\n",
    "        \n",
    "       'desviación rodilla derecha': [sigma_rodilla_d[0],sigma_rodilla_d[1],sigma_rodilla_d[2],sigma_rodilla_d[3],\n",
    "                                      sigma_rodilla_d[4],sigma_rodilla_d[5],sigma_rodilla_d[6],sigma_rodilla_d[7],\n",
    "                                      sigma_rodilla_d[8],sigma_rodilla_d[9],sigma_rodilla_d[10],sigma_rodilla_d[11],\n",
    "                                      sigma_rodilla_d[12],sigma_rodilla_d[13]],\n",
    "\n",
    "       'desviación codo izquierdo': [sigma_codo_iz[0],sigma_codo_iz[1],sigma_codo_iz[2],sigma_codo_iz[3],\n",
    "                                      sigma_codo_iz[4],sigma_codo_iz[5],sigma_codo_iz[6],sigma_codo_iz[7],\n",
    "                                      sigma_codo_iz[8],sigma_codo_iz[9],sigma_codo_iz[10],sigma_codo_iz[11],\n",
    "                                      sigma_codo_iz[12],sigma_codo_iz[13]],\n",
    "        \n",
    "        'desviación codo derecho': [sigma_codo_d[0],sigma_codo_d[1],sigma_codo_d[2],sigma_codo_d[3],\n",
    "                                      sigma_codo_d[4],sigma_codo_d[5],sigma_codo_d[6],sigma_codo_d[7],\n",
    "                                      sigma_codo_d[8],sigma_codo_d[9],sigma_codo_d[10],sigma_codo_d[11],\n",
    "                                      sigma_codo_d[12],sigma_codo_d[13]]\n",
    "       }\n",
    "df5 = pd.DataFrame(data, index = ['Ejercicio1', 'Ejercicio2', 'Ejercicio3', 'Ejercicio4', 'Ejercicio5', 'Ejercicio6',\n",
    "                                 'Ejercicio7', 'Ejercicio8', 'Ejercicio9', 'Ejercicio10', 'Ejercicio11', 'Ejercicio12',\n",
    "                                'Ejercicio13', 'Ejercicio14'])\n",
    "\n",
    "df5['Clasificación'] = np.where((df5['desviación rodilla izquierda']> df5['desviación codo izquierdo']) &\n",
    "                            (df5['desviación rodilla derecha']> df5['desviación codo derecho']),\n",
    "                            'Ejercicio INFERIOR', 'Ejercicio SUPERIOR')\n",
    "\n",
    "\n",
    "df5"
   ]
  },
  {
   "cell_type": "markdown",
   "id": "f7ebf2aa",
   "metadata": {},
   "source": [
    "<div class=\"alert alert-block alert-warning\">\n",
    "    <b>Conclusión: </b> Según los resultados obtedinos se puede ver que comparando partes superiores e inferiores del cuerpo se consigue una muy buena clasificación del tipo de ejercicio que se está realizando.\n",
    "</div>"
   ]
  },
  {
   "cell_type": "code",
   "execution_count": null,
   "id": "59493d09",
   "metadata": {},
   "outputs": [],
   "source": []
  }
 ],
 "metadata": {
  "kernelspec": {
   "display_name": "Python 3 (ipykernel)",
   "language": "python",
   "name": "python3"
  },
  "language_info": {
   "codemirror_mode": {
    "name": "ipython",
    "version": 3
   },
   "file_extension": ".py",
   "mimetype": "text/x-python",
   "name": "python",
   "nbconvert_exporter": "python",
   "pygments_lexer": "ipython3",
   "version": "3.7.11"
  }
 },
 "nbformat": 4,
 "nbformat_minor": 5
}
