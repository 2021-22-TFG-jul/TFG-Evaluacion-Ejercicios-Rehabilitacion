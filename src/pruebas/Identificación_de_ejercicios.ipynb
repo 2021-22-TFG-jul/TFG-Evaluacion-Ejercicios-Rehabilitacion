{
 "cells": [
  {
   "cell_type": "markdown",
   "id": "412b0a76",
   "metadata": {},
   "source": [
    "# Identificación de ejercicios sobre extremidades superiores e inferiores\n",
    "\n",
    "### Autora: Lucía Núñez Calvo\n",
    "\n",
    "#### Fecha: 6 de Junio de 2022"
   ]
  },
  {
   "cell_type": "markdown",
   "id": "e6cf1462",
   "metadata": {},
   "source": [
    "En este cuaderno se van a plantear unas posibles soluciones para investigar en líneas futuras sobre como detectar si un ejercicio corresponde a la parte superior o inferior del cuertpo, es decir, si el paciente mueve las extremidades superiores o inferiores. Una vez localizado esto, se podrá ampliar con clasificarlos como movimientos de cuello, cadera, brazos etc. \n",
    "\n",
    "Como primera opción se va a usar la desviación típica o estandar. Este valor indica como de dispersos están los datos, cuanto más alto sea, más dispersos estarán. Por ejemplo, vamos a plantear dos secuencias de números, una muy similar y otra con datos totalmente dispersos."
   ]
  },
  {
   "cell_type": "code",
   "execution_count": 5,
   "id": "ffbe6514",
   "metadata": {},
   "outputs": [
    {
     "name": "stdout",
     "output_type": "stream",
     "text": [
      "Desviación típica de 'a':  0.4969039949999533 \n",
      "Desviación típica de 'b':  200.07578810954195\n"
     ]
    }
   ],
   "source": [
    "import numpy as np \n",
    "\n",
    "a=[1,2,1,2,1,2,1,2,2]\n",
    "b=[34,43,41,21,3,440,556,7,8]\n",
    "\n",
    "print(\"Desviación típica de 'a': \",np.array(a).std(),\"\\nDesviación típica de 'b': \",np.array(b).std(),)"
   ]
  },
  {
   "cell_type": "markdown",
   "id": "ebb946e7",
   "metadata": {},
   "source": [
    "Como se puede observar en el ejemplo anterior, el valor de la desviación típica de 'a' es mucho menor que el de 'b'. Esto quiere decir que los valores que contiene 'a' son bastante similares.\n",
    "Habiendo comprendido este concepto, es muy fácil aplicarlo a nuestro problema. Si una persona permanece sentada realizando ejercicios en las extremidades superiores, éstas cambiarán constantemente de posición, haciendo que los valores que almacene el algoritmo sean muy dispersos. De la misma manera, mientras realiza esos mismos ejercicios, las piernas permanecerán inmóbiles, por lo que la dispersión en esos datos será mínima. "
   ]
  },
  {
   "cell_type": "markdown",
   "id": "3fdbd602",
   "metadata": {},
   "source": [
    "<div class=\"alert alert-block alert-warning\">\n",
    "    <b>Nota: </b> Se han creado nuevos ficheros con extensión .pickle separando los ejercicios de las parte superior del cuerpo de la inferior. \n",
    "    \n",
    "-     Como partes superiores se han considerado: nariz, hombroI,s hombroD, cuello, angCuelloSupI, angCuelloSupD, codoI, codoD, manoI, manoD, angCodoI, angCodoD, angHombroI, angHombroD.\n",
    "    \n",
    "-     Como partes inferiores se han considerado: caderaI, caderaD, rodillaI, rodillaD, angCaderaI, angCaderaD,0], tobilloI, tobilloD, angRodillaI, angRodillaD.\n",
    "\n",
    "</div>"
   ]
  },
  {
   "cell_type": "code",
   "execution_count": 2,
   "id": "1425eaba",
   "metadata": {},
   "outputs": [],
   "source": [
    "import pickle\n",
    "\n",
    "def extrat_pickle(file):\n",
    "    pos=[]\n",
    "    with open(\"./Pickle/\"+file, \"rb\") as f:\n",
    "        while True: \n",
    "            try:\n",
    "                current_id=pickle.load(f)\n",
    "                pos.append(current_id)\n",
    "            except EOFError:\n",
    "                break\n",
    "    return pos"
   ]
  },
  {
   "cell_type": "code",
   "execution_count": 3,
   "id": "5d83a07c",
   "metadata": {},
   "outputs": [],
   "source": [
    "files_sup = [\"pos_superiores_ej1.pickle\", \"pos_superiores_ej2.pickle\", \"pos_superiores_ej3.pickle\", \n",
    "         \"pos_superiores_ej4.pickle\", \"pos_superiores_ej5.pickle\", \"pos_superiores_ej6.pickle\",\n",
    "        \"pos_superiores_ej7.pickle\", \"pos_superiores_ej8.pickle\", \"pos_superiores_ej9.pickle\", \n",
    "        \"pos_superiores_ej10.pickle\", \"pos_superiores_ej11.pickle\", \"pos_superiores_ej12.pickle\", \n",
    "        \"pos_superiores_ej13.pickle\", \"pos_superiores_ej14.pickle\"]\n",
    "\n",
    "for i,f in enumerate(files_sup,1):\n",
    "    locals()[\"pos_sup_ej\" + str(i)] = extrat_pickle(f)\n",
    "    \n",
    "files_inf = [\"pos_inferiores_ej1.pickle\", \"pos_inferiores_ej2.pickle\", \"pos_inferiores_ej3.pickle\", \n",
    "         \"pos_inferiores_ej4.pickle\", \"pos_inferiores_ej5.pickle\", \"pos_inferiores_ej6.pickle\",\n",
    "        \"pos_inferiores_ej7.pickle\", \"pos_inferiores_ej8.pickle\", \"pos_inferiores_ej9.pickle\", \n",
    "        \"pos_inferiores_ej10.pickle\", \"pos_inferiores_ej11.pickle\", \"pos_inferiores_ej12.pickle\", \n",
    "        \"pos_inferiores_ej13.pickle\", \"pos_inferiores_ej14.pickle\"]\n",
    "\n",
    "for i,f in enumerate(files_inf,1):\n",
    "    locals()[\"pos_inf_ej\" + str(i)] = extrat_pickle(f)"
   ]
  },
  {
   "cell_type": "markdown",
   "id": "76f52e16",
   "metadata": {},
   "source": [
    "Para realizar estas pruebas hay que tener en cuenta que tipo de ejercicio se realiza en cada vídeo:\n",
    "- Ejercicio <font color='Magenta'>1</font> : Movimientos con sobre las extremidades <font color='Magenta'>SUPERIORES</font>\n",
    "- Ejercicio <font color='olive'>2</font> : Movimientos con sobre las extremidades <font color='olive'>INFERIORES</font> \n",
    "- Ejercicio <font color='Magenta'>3</font> : Movimientos con sobre las extremidades <font color='Magenta'>SUPERIORES</font>\n",
    "- Ejercicio <font color='Magenta'>4</font> : Movimientos con sobre las extremidades <font color='Magenta'>SUPERIORES</font>\n",
    "- Ejercicio <font color='olive'>5</font> : Movimientos con sobre las extremidades <font color='olive'>INFERIORES</font>\n",
    "- Ejercicio <font color='olive'>6</font> : Movimientos con sobre las extremidades <font color='olive'>INFERIORES</font>\n",
    "- Ejercicio <font color='olive'>7</font> : Movimientos con sobre las extremidades <font color='olive'>INFERIORES</font>\n",
    "- Ejercicio <font color='olive'>8</font> : Movimientos con sobre las extremidades <font color='olive'>INFERIORES</font>\n",
    "- Ejercicio <font color='Magenta'>9</font> : Movimientos con sobre las extremidades <font color='Magenta'>SUPERIORES</font>\n",
    "- Ejercicio <font color='Magenta'>10</font> : Movimientos con sobre las extremidades <font color='Magenta'>SUPERIORES</font>\n",
    "- Ejercicio <font color='Magenta'>11</font> : Movimientos con sobre las extremidades <font color='Magenta'>SUPERIORES</font>\n",
    "- Ejercicio <font color='Magenta'>12</font> : Movimientos con sobre las extremidades <font color='Magenta'>SUPERIORES</font>\n",
    "- Ejercicio <font color='Magenta'>13</font> : Movimientos con sobre las extremidades <font color='Magenta'>SUPERIORES</font>\n",
    "- Ejercicio <font color='Magenta'>14</font> : Movimientos con sobre las extremidades <font color='Magenta'>SUPERIORES</font>\n"
   ]
  },
  {
   "cell_type": "markdown",
   "id": "9f87710b",
   "metadata": {},
   "source": [
    "Los vídeos no se han mostrado en este cuaderno porque hace que la carga del cuaderno sea demasiado lenta, pero si se quiere comprobar la clasificación anterior se puede realizar de la siguiente manera:"
   ]
  },
  {
   "cell_type": "code",
   "execution_count": null,
   "id": "3e541dd9",
   "metadata": {},
   "outputs": [],
   "source": [
    "from IPython.display import Video\n",
    "\n",
    "Video(\"./Videos/Ejercicio1.mp4\",embed=True,width=200)"
   ]
  },
  {
   "cell_type": "markdown",
   "id": "8ecaea63",
   "metadata": {},
   "source": [
    "El objetivo que se persigue con esta investigación es el siguiente, al obtener una desviación típica sobre las partes superiores e inferiores del cuerpo y compararla, si la desviación típica de la parte superior es menor que la de la parte inferior, quiere decir que ha movido menos la parte superior del cuerpo. Por el contrario si la desviación típica menor se encuentra en los movimientos inferiores, quiere decir que se trata de un ejercicio sobre la parte superior del cuerpo."
   ]
  },
  {
   "cell_type": "markdown",
   "id": "c6e54ec5",
   "metadata": {},
   "source": [
    "### Pruebas sobre las posiciones completas"
   ]
  },
  {
   "cell_type": "code",
   "execution_count": 6,
   "id": "2c131f80",
   "metadata": {},
   "outputs": [
    {
     "name": "stdout",
     "output_type": "stream",
     "text": [
      "\n",
      "Superiores Ejercicio 1:  312.5586083023373 \n",
      "Inferiores Ejercicio 1:  510.2136421161995\n",
      "\n",
      "Superiores Ejercicio 2:  317.73491364432135 \n",
      "Inferiores Ejercicio 2:  478.92853165027213\n",
      "\n",
      "Superiores Ejercicio 3:  350.6941755631945 \n",
      "Inferiores Ejercicio 3:  497.06632434690425\n",
      "\n",
      "Superiores Ejercicio 4:  313.8993710636264 \n",
      "Inferiores Ejercicio 4:  525.4525629248768\n",
      "\n",
      "Superiores Ejercicio 5:  316.1910147433228 \n",
      "Inferiores Ejercicio 5:  397.6709124086094\n",
      "\n",
      "Superiores Ejercicio 6:  295.8851154202825 \n",
      "Inferiores Ejercicio 6:  463.6342608107552\n",
      "\n",
      "Superiores Ejercicio 7:  352.7614165202299 \n",
      "Inferiores Ejercicio 7:  427.26342656537025\n",
      "\n",
      "Superiores Ejercicio 8:  333.64660290508675 \n",
      "Inferiores Ejercicio 8:  411.6068914960573\n",
      "\n",
      "Superiores Ejercicio 9:  334.5604892058636 \n",
      "Inferiores Ejercicio 9:  454.84117561669245\n",
      "\n",
      "Superiores Ejercicio 10:  322.3169025021562 \n",
      "Inferiores Ejercicio 10:  516.376914496461\n",
      "\n",
      "Superiores Ejercicio 11:  382.39450011959707 \n",
      "Inferiores Ejercicio 11:  506.92116983823473\n",
      "\n",
      "Superiores Ejercicio 12:  301.99663542327545 \n",
      "Inferiores Ejercicio 12:  458.7666170695263\n",
      "\n",
      "Superiores Ejercicio 13:  340.52548336919494 \n",
      "Inferiores Ejercicio 13:  503.84768176205006\n",
      "\n",
      "Superiores Ejercicio 14:  336.46764537645237 \n",
      "Inferiores Ejercicio 14:  442.1556788500121\n"
     ]
    }
   ],
   "source": [
    "import statistics\n",
    "\n",
    "pos = [(pos_sup_ej1, pos_inf_ej1), (pos_sup_ej2, pos_inf_ej2), (pos_sup_ej3, pos_inf_ej3),\n",
    "      (pos_sup_ej4, pos_inf_ej4), (pos_sup_ej5, pos_inf_ej5), (pos_sup_ej6, pos_inf_ej6),\n",
    "      (pos_sup_ej7, pos_inf_ej7), (pos_sup_ej8, pos_inf_ej8), (pos_sup_ej9, pos_inf_ej9),\n",
    "      (pos_sup_ej10, pos_inf_ej10), (pos_sup_ej11, pos_inf_ej11), (pos_sup_ej12, pos_inf_ej12),\n",
    "      (pos_sup_ej13, pos_inf_ej13), (pos_sup_ej14, pos_inf_ej14)]\n",
    "\n",
    "for i, p in enumerate(pos,1):\n",
    "    print(\"\\nSuperiores Ejercicio \"+str(i)+\": \",np.array(p[0]).flatten().std(),\n",
    "      \"\\nInferiores Ejercicio \"+str(i)+\": \",np.array(p[1]).flatten().std())"
   ]
  },
  {
   "cell_type": "markdown",
   "id": "addfb021",
   "metadata": {},
   "source": [
    "<div class=\"alert alert-block alert-danger\">\n",
    "    Como se puede observar, el resultado no es lo que se esperaba. En todos los ejercicios muestra una desviación típica mucho menor en los movimientos superiores \n",
    "</div>"
   ]
  },
  {
   "cell_type": "markdown",
   "id": "60c530fc",
   "metadata": {},
   "source": [
    "#### Análisis de resultados"
   ]
  },
  {
   "cell_type": "markdown",
   "id": "3a15b0b0",
   "metadata": {},
   "source": [
    "Una de las posibles razones por las que puede estar fallando el algoritmo es por la diferencia entre las dimensiones. Si escogemos una poscición cualquiera de todas las obtenidas podremos observar lo siguiente:"
   ]
  },
  {
   "cell_type": "code",
   "execution_count": 101,
   "id": "6614327a",
   "metadata": {},
   "outputs": [
    {
     "name": "stdout",
     "output_type": "stream",
     "text": [
      "[453.41833, 1030.679] \n",
      " [458.34384, 1056.7941] \n",
      " [459.32187, 1063.9482] \n",
      " [460.7943, 1056.4639] \n",
      " [454.8593, 983.5553] \n",
      " [455.0474, 1048.6957] \n",
      " [450.57803, 1032.291] \n",
      " [451.0298, 1028.2092]\n"
     ]
    }
   ],
   "source": [
    "print(pos_inf_ej1[0][1],\"\\n\",pos_inf_ej1[1][1],\"\\n\",pos_inf_ej1[2][1],\"\\n\",pos_inf_ej1[3][1],\n",
    "      \"\\n\",pos_inf_ej1[4][1],\"\\n\",pos_inf_ej1[5][1],\"\\n\",pos_inf_ej1[6][1],\"\\n\",pos_inf_ej1[7][1],)"
   ]
  },
  {
   "cell_type": "markdown",
   "id": "bdcca7fb",
   "metadata": {},
   "source": [
    "Como se puede observar éste se trata de un ejercicio inferior seguramente ya que a lo largo de los movimientos la parte inferior casi no se mueve. Al escoger el elemento 1 de cada posición estamos mirando la caderaD. Pero el problema está en que los datos entre el eje x y el eje y si que están demasiado dispersos por lo que esto puede ser un problema. Por esa razón se va a proceder a separar los ejes. "
   ]
  },
  {
   "cell_type": "markdown",
   "id": "0bb3f4f9",
   "metadata": {},
   "source": [
    "### Dimensión X\n",
    "\n",
    "Se va a probar a realizar pruebas solo sobre la dimensión x de las posiciones superiores e inferiores"
   ]
  },
  {
   "cell_type": "code",
   "execution_count": 18,
   "id": "86e03167",
   "metadata": {},
   "outputs": [],
   "source": [
    "def dim_x(array):\n",
    "    x=[]\n",
    "    for i in range(len(array)):\n",
    "        x.append(np.array(array)[i][:,0])\n",
    "    return x"
   ]
  },
  {
   "cell_type": "code",
   "execution_count": 19,
   "id": "3a0a8a4d",
   "metadata": {},
   "outputs": [
    {
     "name": "stdout",
     "output_type": "stream",
     "text": [
      "\n",
      "Superiores Ejercicio 1:  219.23597959793918 \n",
      "Inferiores Ejercicio 1:  170.6458444061509\n",
      "\n",
      "Superiores Ejercicio 2:  198.50738398854358 \n",
      "Inferiores Ejercicio 2:  172.03672648909557\n",
      "\n",
      "Superiores Ejercicio 3:  217.49069152791134 \n",
      "Inferiores Ejercicio 3:  163.3575414993367\n",
      "\n",
      "Superiores Ejercicio 4:  205.92900656107562 \n",
      "Inferiores Ejercicio 4:  169.7051075423748\n",
      "\n",
      "Superiores Ejercicio 5:  218.98570247490102 \n",
      "Inferiores Ejercicio 5:  190.471589404739\n",
      "\n",
      "Superiores Ejercicio 6:  202.11674097772675 \n",
      "Inferiores Ejercicio 6:  160.63404446897655\n",
      "\n",
      "Superiores Ejercicio 7:  216.8093324631399 \n",
      "Inferiores Ejercicio 7:  182.47509606883017\n",
      "\n",
      "Superiores Ejercicio 8:  204.75495718539995 \n",
      "Inferiores Ejercicio 8:  170.92244113473615\n",
      "\n",
      "Superiores Ejercicio 9:  200.10019803159074 \n",
      "Inferiores Ejercicio 9:  159.63833818573394\n",
      "\n",
      "Superiores Ejercicio 10:  200.59408261187525 \n",
      "Inferiores Ejercicio 10:  152.64477872388036\n",
      "\n",
      "Superiores Ejercicio 11:  221.7033665463384 \n",
      "Inferiores Ejercicio 11:  170.0649380966743\n",
      "\n",
      "Superiores Ejercicio 12:  234.21380607790405 \n",
      "Inferiores Ejercicio 12:  178.93161259493922\n",
      "\n",
      "Superiores Ejercicio 13:  231.38578527288394 \n",
      "Inferiores Ejercicio 13:  174.86379228483014\n",
      "\n",
      "Superiores Ejercicio 14:  229.2033596842374 \n",
      "Inferiores Ejercicio 14:  175.6716009721534\n"
     ]
    }
   ],
   "source": [
    "for i, p in enumerate(pos,1):\n",
    "    print(\"\\nSuperiores Ejercicio \"+str(i)+\": \",np.array(dim_x(p[0])).flatten().std(),\n",
    "      \"\\nInferiores Ejercicio \"+str(i)+\": \",np.array(dim_x(p[1])).flatten().std())"
   ]
  },
  {
   "cell_type": "markdown",
   "id": "a6b5eab9",
   "metadata": {},
   "source": [
    "<div class=\"alert alert-block alert-danger\">\n",
    "    En esta dimensión se puede observar que los datos siguen siendo muy parecidos al resultado anterior.\n",
    "</div>"
   ]
  },
  {
   "cell_type": "markdown",
   "id": "cca621f8",
   "metadata": {},
   "source": [
    "### Dimensión Y\n",
    "Se va a probar a realizar pruebas solo sobre la dimensión y de las posiciones superiores e inferiores"
   ]
  },
  {
   "cell_type": "code",
   "execution_count": 20,
   "id": "4543af7b",
   "metadata": {},
   "outputs": [],
   "source": [
    "def dim_y(array):\n",
    "    y=[]\n",
    "    for i in range(len(array)):\n",
    "        y.append(np.array(array)[i][:,1])\n",
    "    return y"
   ]
  },
  {
   "cell_type": "code",
   "execution_count": 21,
   "id": "f7e3d2c9",
   "metadata": {},
   "outputs": [
    {
     "name": "stdout",
     "output_type": "stream",
     "text": [
      "\n",
      "Superiores Ejercicio 1:  382.5475688778957 \n",
      "Inferiores Ejercicio 1:  655.3925856198273\n",
      "\n",
      "Superiores Ejercicio 2:  400.8172432618829 \n",
      "Inferiores Ejercicio 2:  616.6935219697928\n",
      "\n",
      "Superiores Ejercicio 3:  441.4292552701101 \n",
      "Inferiores Ejercicio 3:  638.4665150751728\n",
      "\n",
      "Superiores Ejercicio 4:  389.40329732500555 \n",
      "Inferiores Ejercicio 4:  671.7897584274046\n",
      "\n",
      "Superiores Ejercicio 5:  389.038914601554 \n",
      "Inferiores Ejercicio 5:  512.7883039528423\n",
      "\n",
      "Superiores Ejercicio 6:  365.9395169318461 \n",
      "Inferiores Ejercicio 6:  600.1674447284151\n",
      "\n",
      "Superiores Ejercicio 7:  442.8032070902523 \n",
      "Inferiores Ejercicio 7:  549.9514909217698\n",
      "\n",
      "Superiores Ejercicio 8:  420.0072216803162 \n",
      "Inferiores Ejercicio 8:  532.5672024977005\n",
      "\n",
      "Superiores Ejercicio 9:  422.5434678819282 \n",
      "Inferiores Ejercicio 9:  586.5069577234417\n",
      "\n",
      "Superiores Ejercicio 10:  405.54451720467796 \n",
      "Inferiores Ejercicio 10:  659.0900211021441\n",
      "\n",
      "Superiores Ejercicio 11:  483.9443792509266 \n",
      "Inferiores Ejercicio 11:  648.4477430097345\n",
      "\n",
      "Superiores Ejercicio 12:  356.0870113524536 \n",
      "Inferiores Ejercicio 12:  591.5188117393933\n",
      "\n",
      "Superiores Ejercicio 13:  418.613821354763 \n",
      "Inferiores Ejercicio 13:  646.2714063113417\n",
      "\n",
      "Superiores Ejercicio 14:  413.2012175012678 \n",
      "Inferiores Ejercicio 14:  571.7638215796864\n"
     ]
    }
   ],
   "source": [
    "for i, p in enumerate(pos,1):\n",
    "    print(\"\\nSuperiores Ejercicio \"+str(i)+\": \",np.array(dim_y(p[0])).flatten().std(),\n",
    "      \"\\nInferiores Ejercicio \"+str(i)+\": \",np.array(dim_y(p[1])).flatten().std())"
   ]
  },
  {
   "cell_type": "markdown",
   "id": "0724722c",
   "metadata": {},
   "source": [
    "<div class=\"alert alert-block alert-danger\">\n",
    "    Finalmente podemos ver como con ninguna de las tres opciones expuestas se consiguen datos relevantes para poder clasificar un ejercicio.\n",
    "</div>"
   ]
  },
  {
   "cell_type": "markdown",
   "id": "95d6b5cd",
   "metadata": {},
   "source": [
    "#### Análisis de resultados"
   ]
  },
  {
   "cell_type": "markdown",
   "id": "7d66776b",
   "metadata": {},
   "source": [
    "En este caso se han separado las dimensiones y se sigue viendo que los resultados son muy desfavorables.\n",
    "La razón de que fallase no es únicamente de las dimensiones. Es correcto separar las dimensiones por lo explicado anteriormente pero siguiendo en esa misma línea hay que indagar un poco más sobre los resultados. En este caso se están comparando todas las posiciones de los distintos ejes. Con todas las posiciones estamos comparando tanto rodillas, como tobillos como caderas. Esto quiere decir que aunque a lo largo de las ejecuciones la combinación de los diferentes puntos no varíe demasiado, entre ellos varía lo suficiente como para que la desviación típica arroje un resultado desfavorable. \n"
   ]
  },
  {
   "cell_type": "markdown",
   "id": "4002db1a",
   "metadata": {},
   "source": [
    "### Pruebas sobre posiciones concretas"
   ]
  },
  {
   "cell_type": "markdown",
   "id": "9f9ab4c1",
   "metadata": {},
   "source": [
    "Tras los resultados anteriores, lo más acertado puede ser realizar pruebas sobre una parte del cuerpo. Por ejemplo, si un paciente realiza ejercicios sobre sus extremidades superiores, es lógico pensar que algo que va a mover son las manos y si se trata de un ejercicio sobre las extremidades inferiores acabará moviendo las rodillas o los tobillos.\n",
    "\n",
    "Plantearlo de esta forma es muy interesante a la hora de detectar ejercicios más concretos, por ejemplo, moviemientos de cuello."
   ]
  },
  {
   "cell_type": "markdown",
   "id": "2fb8cdf3",
   "metadata": {},
   "source": [
    "Al igual que en el caso anterior, se van a separar las dimensiones. "
   ]
  },
  {
   "cell_type": "code",
   "execution_count": 10,
   "id": "abc81972",
   "metadata": {},
   "outputs": [],
   "source": [
    "from termcolor import colored\n",
    "\n",
    "def parte(array,p,x_y):\n",
    "    \"\"\"\n",
    "    Esta función descompone cada una de las posiciones que se le pasa\n",
    "    Entrada\n",
    "        array: posición de un esqueleto\n",
    "        p: parte del cuerpo de la que se quiere obtener el resultado\n",
    "        x_y: Dimensión sobre la que se quiere obtener el resultado\n",
    "    \"\"\"\n",
    "    r=[]\n",
    "    for i in range(len(array)):\n",
    "        r.append(array[i][p][x_y]) \n",
    "    return r"
   ]
  },
  {
   "cell_type": "markdown",
   "id": "272ad287",
   "metadata": {},
   "source": [
    "Las partes del cuerpo están clasificadas de la siguiente forma:\n",
    "- Partes superiores: \n",
    "    - 0 - nariz\n",
    "    - 1 - hombroI\n",
    "    - 2 - hombroD\n",
    "    - 3 - cuello\n",
    "    - 4 - angCuelloSupI\n",
    "    - 5 - angCuelloSupD\n",
    "    - 6 - codoI\n",
    "    - 7 - codoD\n",
    "    - 8 - manoI\n",
    "    - 9 - manoD\n",
    "    - 10 - angCodoI\n",
    "    - 11 - angCodoD\n",
    "    - 12 - angHombroI\n",
    "    - 13 - angHombroD\n",
    "- Partes inferiores: \n",
    "    - 0 - caderaI\n",
    "    - 1 - caderaD\n",
    "    - 2 - rodillaI\n",
    "    - 3 - rodillaD\n",
    "    - 4 - angCaderaI\n",
    "    - 5 - angCaderaD\n",
    "    - 6 - tobilloI\n",
    "    - 7 - tobilloD\n",
    "    - 8 - angRodillaI\n",
    "    - 9 - angRodillaD\n",
    "\n"
   ]
  },
  {
   "cell_type": "markdown",
   "id": "f6608235",
   "metadata": {},
   "source": [
    "- <font color='blue'>En azul se representarán las desviaciones típicas menores</font>\n",
    "- <font color='green'>En verde se representarán las desviaciones típicas mayores</font>\n",
    "\n",
    "En estos casos el número que aparece controlando el if es simplemente para mostrar al usuario en diferente color y de una manera rápida los valores más pequeños. Para su posterior calsificación se analizarán distintas opciones de clasificación con percentiles o cuartiles."
   ]
  },
  {
   "cell_type": "markdown",
   "id": "10374511",
   "metadata": {},
   "source": [
    "#### Extracción de las manos"
   ]
  },
  {
   "cell_type": "code",
   "execution_count": 30,
   "id": "b49df629",
   "metadata": {},
   "outputs": [
    {
     "name": "stdout",
     "output_type": "stream",
     "text": [
      "Posicion eje x mano izquierda 1:  \u001b[32m35.04776\u001b[0m\n",
      "Posicion eje x mano izquierda 2:  \u001b[34m19.389175\u001b[0m\n",
      "Posicion eje x mano izquierda 3:  \u001b[32m43.103123\u001b[0m\n",
      "Posicion eje x mano izquierda 4:  \u001b[34m14.085854\u001b[0m\n",
      "Posicion eje x mano izquierda 5:  \u001b[34m10.171761\u001b[0m\n",
      "Posicion eje x mano izquierda 6:  \u001b[32m31.313402\u001b[0m\n",
      "Posicion eje x mano izquierda 7:  \u001b[34m15.493505\u001b[0m\n",
      "Posicion eje x mano izquierda 8:  \u001b[34m14.211386\u001b[0m\n",
      "Posicion eje x mano izquierda 9:  \u001b[34m15.652225\u001b[0m\n",
      "Posicion eje x mano izquierda 10:  \u001b[32m48.856632\u001b[0m\n",
      "Posicion eje x mano izquierda 11:  \u001b[32m42.850727\u001b[0m\n",
      "Posicion eje x mano izquierda 12:  \u001b[32m20.068613\u001b[0m\n",
      "Posicion eje x mano izquierda 13:  \u001b[32m105.52615\u001b[0m\n",
      "Posicion eje x mano izquierda 14:  \u001b[32m120.6796\u001b[0m\n"
     ]
    }
   ],
   "source": [
    "for i, p in enumerate(pos,1):\n",
    "    sigma=np.array(parte(p[0],8,0)).flatten().std()\n",
    "    if sigma < 20:\n",
    "        print(\"Posicion eje x mano izquierda \"+str(i)+\": \",colored(sigma, \"blue\"))\n",
    "    else:\n",
    "        print(\"Posicion eje x mano izquierda \"+str(i)+\": \",colored(sigma, \"green\"))"
   ]
  },
  {
   "cell_type": "code",
   "execution_count": 31,
   "id": "3f95d545",
   "metadata": {},
   "outputs": [
    {
     "name": "stdout",
     "output_type": "stream",
     "text": [
      "Posicion eje x mano derecha 1:  \u001b[32m30.789612\u001b[0m\n",
      "Posicion eje x mano derecha 2:  \u001b[34m14.736181\u001b[0m\n",
      "Posicion eje x mano derecha 3:  \u001b[32m31.611456\u001b[0m\n",
      "Posicion eje x mano derecha 4:  \u001b[32m22.500746\u001b[0m\n",
      "Posicion eje x mano derecha 5:  \u001b[34m10.253244\u001b[0m\n",
      "Posicion eje x mano derecha 6:  \u001b[32m43.28363\u001b[0m\n",
      "Posicion eje x mano derecha 7:  \u001b[34m14.770084\u001b[0m\n",
      "Posicion eje x mano derecha 8:  \u001b[34m13.73629\u001b[0m\n",
      "Posicion eje x mano derecha 9:  \u001b[32m34.258717\u001b[0m\n",
      "Posicion eje x mano derecha 10:  \u001b[32m53.48598\u001b[0m\n",
      "Posicion eje x mano derecha 11:  \u001b[32m29.94946\u001b[0m\n",
      "Posicion eje x mano derecha 12:  \u001b[32m26.811087\u001b[0m\n",
      "Posicion eje x mano derecha 13:  \u001b[32m108.94277\u001b[0m\n",
      "Posicion eje x mano derecha 14:  \u001b[32m118.30237\u001b[0m\n"
     ]
    }
   ],
   "source": [
    "for i, p in enumerate(pos,1):\n",
    "    sigma=np.array(parte(p[0],9,0)).flatten().std()\n",
    "    if sigma < 20:\n",
    "        print(\"Posicion eje x mano derecha \"+str(i)+\": \",colored(sigma, \"blue\"))\n",
    "    else:\n",
    "        print(\"Posicion eje x mano derecha \"+str(i)+\": \",colored(sigma, \"green\"))"
   ]
  },
  {
   "cell_type": "code",
   "execution_count": 32,
   "id": "93066683",
   "metadata": {},
   "outputs": [
    {
     "name": "stdout",
     "output_type": "stream",
     "text": [
      "Posicion eje y mano izquierda 1:  \u001b[32m248.933\u001b[0m\n",
      "Posicion eje y mano izquierda 2:  \u001b[34m39.393997\u001b[0m\n",
      "Posicion eje y mano izquierda 3:  \u001b[32m388.06494\u001b[0m\n",
      "Posicion eje y mano izquierda 4:  \u001b[32m121.53408\u001b[0m\n",
      "Posicion eje y mano izquierda 5:  \u001b[34m8.463572\u001b[0m\n",
      "Posicion eje y mano izquierda 6:  \u001b[34m13.453937\u001b[0m\n",
      "Posicion eje y mano izquierda 7:  \u001b[34m8.549425\u001b[0m\n",
      "Posicion eje y mano izquierda 8:  \u001b[34m13.421763\u001b[0m\n",
      "Posicion eje y mano izquierda 9:  \u001b[32m243.50641\u001b[0m\n",
      "Posicion eje y mano izquierda 10:  \u001b[32m301.01712\u001b[0m\n",
      "Posicion eje y mano izquierda 11:  \u001b[32m423.97556\u001b[0m\n",
      "Posicion eje y mano izquierda 12:  \u001b[32m121.590126\u001b[0m\n",
      "Posicion eje y mano izquierda 13:  \u001b[32m56.97923\u001b[0m\n",
      "Posicion eje y mano izquierda 14:  \u001b[32m56.391243\u001b[0m\n"
     ]
    }
   ],
   "source": [
    "for i, p in enumerate(pos,1):\n",
    "    sigma=np.array(parte(p[0],8,1)).flatten().std()\n",
    "    if sigma < 40:\n",
    "        print(\"Posicion eje y mano izquierda \"+str(i)+\": \",colored(sigma, \"blue\"))\n",
    "    else:\n",
    "        print(\"Posicion eje y mano izquierda \"+str(i)+\": \",colored(sigma, \"green\"))"
   ]
  },
  {
   "cell_type": "code",
   "execution_count": 33,
   "id": "978bc01f",
   "metadata": {},
   "outputs": [
    {
     "name": "stdout",
     "output_type": "stream",
     "text": [
      "Posicion eje y mano derecha 1:  \u001b[32m296.5888\u001b[0m\n",
      "Posicion eje y mano derecha 2:  \u001b[34m33.02471\u001b[0m\n",
      "Posicion eje y mano derecha 3:  \u001b[32m399.5404\u001b[0m\n",
      "Posicion eje y mano derecha 4:  \u001b[32m120.49732\u001b[0m\n",
      "Posicion eje y mano derecha 5:  \u001b[34m7.999684\u001b[0m\n",
      "Posicion eje y mano derecha 6:  \u001b[34m12.561245\u001b[0m\n",
      "Posicion eje y mano derecha 7:  \u001b[34m9.672473\u001b[0m\n",
      "Posicion eje y mano derecha 8:  \u001b[34m18.610743\u001b[0m\n",
      "Posicion eje y mano derecha 9:  \u001b[32m231.05264\u001b[0m\n",
      "Posicion eje y mano derecha 10:  \u001b[32m297.32397\u001b[0m\n",
      "Posicion eje y mano derecha 11:  \u001b[32m420.4826\u001b[0m\n",
      "Posicion eje y mano derecha 12:  \u001b[32m124.268166\u001b[0m\n",
      "Posicion eje y mano derecha 13:  \u001b[32m59.043007\u001b[0m\n",
      "Posicion eje y mano derecha 14:  \u001b[32m53.632755\u001b[0m\n"
     ]
    }
   ],
   "source": [
    "for i, p in enumerate(pos,1):\n",
    "    sigma=np.array(parte(p[0],9,1)).flatten().std()\n",
    "    if sigma < 40:\n",
    "        print(\"Posicion eje y mano derecha \"+str(i)+\": \",colored(sigma, \"blue\"))\n",
    "    else:\n",
    "        print(\"Posicion eje y mano derecha \"+str(i)+\": \",colored(sigma, \"green\"))"
   ]
  },
  {
   "cell_type": "markdown",
   "id": "d2dfabcb",
   "metadata": {},
   "source": [
    "#### Extracción de los codos"
   ]
  },
  {
   "cell_type": "code",
   "execution_count": 34,
   "id": "8b242960",
   "metadata": {},
   "outputs": [
    {
     "name": "stdout",
     "output_type": "stream",
     "text": [
      "Posicion eje x ángulo codo izquierdo 1:  \u001b[32m83.47592334942935\u001b[0m\n",
      "Posicion eje x ángulo codo izquierdo 2:  \u001b[34m16.18230339167514\u001b[0m\n",
      "Posicion eje x ángulo codo izquierdo 3:  \u001b[32m67.77218096733516\u001b[0m\n",
      "Posicion eje x ángulo codo izquierdo 4:  \u001b[32m118.05888885197976\u001b[0m\n",
      "Posicion eje x ángulo codo izquierdo 5:  \u001b[34m3.059813112404422\u001b[0m\n",
      "Posicion eje x ángulo codo izquierdo 6:  \u001b[34m3.4066411851481053\u001b[0m\n",
      "Posicion eje x ángulo codo izquierdo 7:  \u001b[34m3.0557557805129805\u001b[0m\n",
      "Posicion eje x ángulo codo izquierdo 8:  \u001b[34m2.0673297376247235\u001b[0m\n",
      "Posicion eje x ángulo codo izquierdo 9:  \u001b[32m51.359514989789325\u001b[0m\n",
      "Posicion eje x ángulo codo izquierdo 10:  \u001b[32m36.50330163158551\u001b[0m\n",
      "Posicion eje x ángulo codo izquierdo 11:  \u001b[32m51.0428771020675\u001b[0m\n",
      "Posicion eje x ángulo codo izquierdo 12:  \u001b[32m68.19544114893299\u001b[0m\n",
      "Posicion eje x ángulo codo izquierdo 13:  \u001b[32m110.85303467627587\u001b[0m\n",
      "Posicion eje x ángulo codo izquierdo 14:  \u001b[32m112.99166128086776\u001b[0m\n"
     ]
    }
   ],
   "source": [
    "for i, p in enumerate(pos,1):\n",
    "    sigma=np.array(parte(p[0],10,0)).flatten().std()\n",
    "    if sigma < 30:\n",
    "        print(\"Posicion eje x ángulo codo izquierdo \"+str(i)+\": \",colored(sigma, \"blue\"))\n",
    "    else:\n",
    "        print(\"Posicion eje x ángulo codo izquierdo \"+str(i)+\": \",colored(sigma, \"green\"))"
   ]
  },
  {
   "cell_type": "code",
   "execution_count": 35,
   "id": "de7ace2e",
   "metadata": {},
   "outputs": [
    {
     "name": "stdout",
     "output_type": "stream",
     "text": [
      "Posicion eje x ángulo codo derecho 1:  \u001b[32m85.25224181528428\u001b[0m\n",
      "Posicion eje x ángulo codo derecho 2:  \u001b[34m15.125709453717702\u001b[0m\n",
      "Posicion eje x ángulo codo derecho 3:  \u001b[32m71.21521309394882\u001b[0m\n",
      "Posicion eje x ángulo codo derecho 4:  \u001b[32m116.98337624451523\u001b[0m\n",
      "Posicion eje x ángulo codo derecho 5:  \u001b[34m2.0345184104188867\u001b[0m\n",
      "Posicion eje x ángulo codo derecho 6:  \u001b[34m3.9704060960416294\u001b[0m\n",
      "Posicion eje x ángulo codo derecho 7:  \u001b[34m1.953338934357329\u001b[0m\n",
      "Posicion eje x ángulo codo derecho 8:  \u001b[34m2.0157281436655436\u001b[0m\n",
      "Posicion eje x ángulo codo derecho 9:  \u001b[32m61.52601612427234\u001b[0m\n",
      "Posicion eje x ángulo codo derecho 10:  \u001b[32m38.66153236368584\u001b[0m\n",
      "Posicion eje x ángulo codo derecho 11:  \u001b[32m54.72271065495049\u001b[0m\n",
      "Posicion eje x ángulo codo derecho 12:  \u001b[32m68.66923612687557\u001b[0m\n",
      "Posicion eje x ángulo codo derecho 13:  \u001b[32m116.35419281901424\u001b[0m\n",
      "Posicion eje x ángulo codo derecho 14:  \u001b[32m118.2960634108614\u001b[0m\n"
     ]
    }
   ],
   "source": [
    "for i, p in enumerate(pos,1):\n",
    "    sigma=np.array(parte(p[0],11,0)).flatten().std()\n",
    "    if sigma < 20:\n",
    "        print(\"Posicion eje x ángulo codo derecho \"+str(i)+\": \",colored(sigma, \"blue\"))\n",
    "    else:\n",
    "        print(\"Posicion eje x ángulo codo derecho \"+str(i)+\": \",colored(sigma, \"green\"))"
   ]
  },
  {
   "cell_type": "markdown",
   "id": "40dcb173",
   "metadata": {},
   "source": [
    "<div class=\"alert alert-block alert-info\">\n",
    "En los casos anteriores se puede ver que las desviaciones típicas menores suelen coincidir con los ejercicios de partes inferiores del cuerpo. Esto es correcto y es lo que se esperaba ya que en movimientos en los que únicamente se mueven las partes superiores del cuerpo no tiene sentido que la desviación típica de las partes inferiores sea alta. Las que mejor lo han clasificado han sido:\n",
    "    \n",
    "  -  Eje y mano derecha\n",
    "  -  Ángulo codo izquierdo\n",
    "  -  Ángulo codo derecho\n",
    "    \n",
    "</div>"
   ]
  },
  {
   "cell_type": "markdown",
   "id": "281aa4d6",
   "metadata": {},
   "source": [
    "#### Extracción de las rodillas "
   ]
  },
  {
   "cell_type": "code",
   "execution_count": 42,
   "id": "ccf05f0d",
   "metadata": {},
   "outputs": [
    {
     "name": "stdout",
     "output_type": "stream",
     "text": [
      "Posicion eje x rodilla izquierda 1:  \u001b[34m4.66491\u001b[0m\n",
      "Posicion eje x rodilla izquierda 2:  \u001b[32m23.421787\u001b[0m\n",
      "Posicion eje x rodilla izquierda 3:  \u001b[34m14.591307\u001b[0m\n",
      "Posicion eje x rodilla izquierda 4:  \u001b[32m17.805153\u001b[0m\n",
      "Posicion eje x rodilla izquierda 5:  \u001b[32m48.358467\u001b[0m\n",
      "Posicion eje x rodilla izquierda 6:  \u001b[32m24.619677\u001b[0m\n",
      "Posicion eje x rodilla izquierda 7:  \u001b[34m16.433817\u001b[0m\n",
      "Posicion eje x rodilla izquierda 8:  \u001b[32m20.34498\u001b[0m\n",
      "Posicion eje x rodilla izquierda 9:  \u001b[34m10.26627\u001b[0m\n",
      "Posicion eje x rodilla izquierda 10:  \u001b[34m9.493313\u001b[0m\n",
      "Posicion eje x rodilla izquierda 11:  \u001b[34m16.252707\u001b[0m\n",
      "Posicion eje x rodilla izquierda 12:  \u001b[32m18.7271\u001b[0m\n",
      "Posicion eje x rodilla izquierda 13:  \u001b[34m16.72748\u001b[0m\n",
      "Posicion eje x rodilla izquierda 14:  \u001b[34m7.0303593\u001b[0m\n"
     ]
    }
   ],
   "source": [
    "for i, p in enumerate(pos,1):\n",
    "    sigma=np.array(parte(p[1],2,0)).flatten().std()\n",
    "    if sigma < 17:\n",
    "        print(\"Posicion eje x rodilla izquierda \"+str(i)+\": \",colored(sigma, \"blue\"))\n",
    "    else:\n",
    "        print(\"Posicion eje x rodilla izquierda \"+str(i)+\": \",colored(sigma, \"green\"))"
   ]
  },
  {
   "cell_type": "code",
   "execution_count": 49,
   "id": "4e666d4e",
   "metadata": {},
   "outputs": [
    {
     "name": "stdout",
     "output_type": "stream",
     "text": [
      "Posicion eje x rodilla derecha 1:  \u001b[34m3.3678086\u001b[0m\n",
      "Posicion eje x rodilla derecha 2:  \u001b[32m21.441753\u001b[0m\n",
      "Posicion eje x rodilla derecha 3:  \u001b[34m14.506314\u001b[0m\n",
      "Posicion eje x rodilla derecha 4:  \u001b[32m16.80994\u001b[0m\n",
      "Posicion eje x rodilla derecha 5:  \u001b[34m15.308978\u001b[0m\n",
      "Posicion eje x rodilla derecha 6:  \u001b[32m22.185472\u001b[0m\n",
      "Posicion eje x rodilla derecha 7:  \u001b[34m15.933108\u001b[0m\n",
      "Posicion eje x rodilla derecha 8:  \u001b[32m18.322994\u001b[0m\n",
      "Posicion eje x rodilla derecha 9:  \u001b[34m10.558847\u001b[0m\n",
      "Posicion eje x rodilla derecha 10:  \u001b[34m9.417163\u001b[0m\n",
      "Posicion eje x rodilla derecha 11:  \u001b[32m19.466957\u001b[0m\n",
      "Posicion eje x rodilla derecha 12:  \u001b[32m18.643589\u001b[0m\n",
      "Posicion eje x rodilla derecha 13:  \u001b[32m17.057781\u001b[0m\n",
      "Posicion eje x rodilla derecha 14:  \u001b[34m6.6726017\u001b[0m\n"
     ]
    }
   ],
   "source": [
    "for i, p in enumerate(pos,1):\n",
    "    sigma=np.array(parte(p[1],3,0)).flatten().std()\n",
    "    if sigma < 16:\n",
    "        print(\"Posicion eje x rodilla derecha \"+str(i)+\": \",colored(sigma, \"blue\"))\n",
    "    else:\n",
    "        print(\"Posicion eje x rodilla derecha \"+str(i)+\": \",colored(sigma, \"green\"))"
   ]
  },
  {
   "cell_type": "code",
   "execution_count": 45,
   "id": "1697bec1",
   "metadata": {},
   "outputs": [
    {
     "name": "stdout",
     "output_type": "stream",
     "text": [
      "Posicion eje y rodilla izquierda 1:  \u001b[34m16.040947\u001b[0m\n",
      "Posicion eje y rodilla izquierda 2:  \u001b[32m104.72785\u001b[0m\n",
      "Posicion eje y rodilla izquierda 3:  \u001b[34m23.911211\u001b[0m\n",
      "Posicion eje y rodilla izquierda 4:  \u001b[34m14.701019\u001b[0m\n",
      "Posicion eje y rodilla izquierda 5:  \u001b[32m81.23107\u001b[0m\n",
      "Posicion eje y rodilla izquierda 6:  \u001b[32m138.62482\u001b[0m\n",
      "Posicion eje y rodilla izquierda 7:  \u001b[32m96.47382\u001b[0m\n",
      "Posicion eje y rodilla izquierda 8:  \u001b[32m109.68346\u001b[0m\n",
      "Posicion eje y rodilla izquierda 9:  \u001b[34m16.373013\u001b[0m\n",
      "Posicion eje y rodilla izquierda 10:  \u001b[34m10.783459\u001b[0m\n",
      "Posicion eje y rodilla izquierda 11:  \u001b[34m23.841154\u001b[0m\n",
      "Posicion eje y rodilla izquierda 12:  \u001b[34m19.81529\u001b[0m\n",
      "Posicion eje y rodilla izquierda 13:  \u001b[34m25.554098\u001b[0m\n",
      "Posicion eje y rodilla izquierda 14:  \u001b[34m25.877493\u001b[0m\n"
     ]
    }
   ],
   "source": [
    "for i, p in enumerate(pos,1):\n",
    "    sigma=np.array(parte(p[1],2,1)).flatten().std()\n",
    "    if sigma < 30:\n",
    "        print(\"Posicion eje y rodilla izquierda \"+str(i)+\": \",colored(sigma, \"blue\"))\n",
    "    else:\n",
    "        print(\"Posicion eje y rodilla izquierda \"+str(i)+\": \",colored(sigma, \"green\"))"
   ]
  },
  {
   "cell_type": "code",
   "execution_count": 46,
   "id": "a3578616",
   "metadata": {},
   "outputs": [
    {
     "name": "stdout",
     "output_type": "stream",
     "text": [
      "Posicion eje y rodilla derecha 1:  \u001b[34m14.992826\u001b[0m\n",
      "Posicion eje y rodilla derecha 2:  \u001b[32m105.745804\u001b[0m\n",
      "Posicion eje y rodilla derecha 3:  \u001b[34m25.193604\u001b[0m\n",
      "Posicion eje y rodilla derecha 4:  \u001b[34m15.23253\u001b[0m\n",
      "Posicion eje y rodilla derecha 5:  \u001b[32m71.477486\u001b[0m\n",
      "Posicion eje y rodilla derecha 6:  \u001b[32m134.29553\u001b[0m\n",
      "Posicion eje y rodilla derecha 7:  \u001b[32m97.012566\u001b[0m\n",
      "Posicion eje y rodilla derecha 8:  \u001b[32m97.086334\u001b[0m\n",
      "Posicion eje y rodilla derecha 9:  \u001b[34m13.709168\u001b[0m\n",
      "Posicion eje y rodilla derecha 10:  \u001b[34m11.662367\u001b[0m\n",
      "Posicion eje y rodilla derecha 11:  \u001b[34m23.765797\u001b[0m\n",
      "Posicion eje y rodilla derecha 12:  \u001b[34m17.218292\u001b[0m\n",
      "Posicion eje y rodilla derecha 13:  \u001b[34m25.337639\u001b[0m\n",
      "Posicion eje y rodilla derecha 14:  \u001b[34m26.962223\u001b[0m\n"
     ]
    }
   ],
   "source": [
    "for i, p in enumerate(pos,1):\n",
    "    sigma=np.array(parte(p[1],3,1)).flatten().std()\n",
    "    if sigma < 70:\n",
    "        print(\"Posicion eje y rodilla derecha \"+str(i)+\": \",colored(sigma, \"blue\"))\n",
    "    else:\n",
    "        print(\"Posicion eje y rodilla derecha \"+str(i)+\": \",colored(sigma, \"green\"))"
   ]
  },
  {
   "cell_type": "markdown",
   "id": "81042567",
   "metadata": {},
   "source": [
    "#### Extracción de los tobillos"
   ]
  },
  {
   "cell_type": "code",
   "execution_count": 50,
   "id": "4f592941",
   "metadata": {},
   "outputs": [
    {
     "name": "stdout",
     "output_type": "stream",
     "text": [
      "Posicion eje x tobillo izquierdo 1:  \u001b[34m3.2083032\u001b[0m\n",
      "Posicion eje x tobillo izquierdo 2:  \u001b[34m12.873146\u001b[0m\n",
      "Posicion eje x tobillo izquierdo 3:  \u001b[34m12.707986\u001b[0m\n",
      "Posicion eje x tobillo izquierdo 4:  \u001b[32m17.741516\u001b[0m\n",
      "Posicion eje x tobillo izquierdo 5:  \u001b[32m69.087036\u001b[0m\n",
      "Posicion eje x tobillo izquierdo 6:  \u001b[32m19.130507\u001b[0m\n",
      "Posicion eje x tobillo izquierdo 7:  \u001b[34m11.48658\u001b[0m\n",
      "Posicion eje x tobillo izquierdo 8:  \u001b[32m14.795086\u001b[0m\n",
      "Posicion eje x tobillo izquierdo 9:  \u001b[34m10.22661\u001b[0m\n",
      "Posicion eje x tobillo izquierdo 10:  \u001b[34m11.633297\u001b[0m\n",
      "Posicion eje x tobillo izquierdo 11:  \u001b[32m15.966784\u001b[0m\n",
      "Posicion eje x tobillo izquierdo 12:  \u001b[32m17.495947\u001b[0m\n",
      "Posicion eje x tobillo izquierdo 13:  \u001b[32m17.876547\u001b[0m\n",
      "Posicion eje x tobillo izquierdo 14:  \u001b[34m6.287897\u001b[0m\n"
     ]
    }
   ],
   "source": [
    "for i, p in enumerate(pos,1):\n",
    "    sigma=np.array(parte(p[1],6,0)).flatten().std()\n",
    "    if sigma < 14:\n",
    "        print(\"Posicion eje x tobillo izquierdo \"+str(i)+\": \",colored(sigma, \"blue\"))\n",
    "    else:\n",
    "        print(\"Posicion eje x tobillo izquierdo \"+str(i)+\": \",colored(sigma, \"green\"))"
   ]
  },
  {
   "cell_type": "code",
   "execution_count": 51,
   "id": "b3a41941",
   "metadata": {},
   "outputs": [
    {
     "name": "stdout",
     "output_type": "stream",
     "text": [
      "Posicion eje x tobillo derecho 1:  \u001b[34m3.5024145\u001b[0m\n",
      "Posicion eje x tobillo derecho 2:  \u001b[34m12.810995\u001b[0m\n",
      "Posicion eje x tobillo derecho 3:  \u001b[34m12.49248\u001b[0m\n",
      "Posicion eje x tobillo derecho 4:  \u001b[32m18.04674\u001b[0m\n",
      "Posicion eje x tobillo derecho 5:  \u001b[32m58.715282\u001b[0m\n",
      "Posicion eje x tobillo derecho 6:  \u001b[32m16.756767\u001b[0m\n",
      "Posicion eje x tobillo derecho 7:  \u001b[34m11.854671\u001b[0m\n",
      "Posicion eje x tobillo derecho 8:  \u001b[32m14.566194\u001b[0m\n",
      "Posicion eje x tobillo derecho 9:  \u001b[34m9.606162\u001b[0m\n",
      "Posicion eje x tobillo derecho 10:  \u001b[34m11.567308\u001b[0m\n",
      "Posicion eje x tobillo derecho 11:  \u001b[32m16.385872\u001b[0m\n",
      "Posicion eje x tobillo derecho 12:  \u001b[32m16.670877\u001b[0m\n",
      "Posicion eje x tobillo derecho 13:  \u001b[32m18.288803\u001b[0m\n",
      "Posicion eje x tobillo derecho 14:  \u001b[34m6.6331754\u001b[0m\n"
     ]
    }
   ],
   "source": [
    "for i, p in enumerate(pos,1):\n",
    "    sigma=np.array(parte(p[1],7,0)).flatten().std()\n",
    "    if sigma < 14:\n",
    "        print(\"Posicion eje x tobillo derecho \"+str(i)+\": \",colored(sigma, \"blue\"))\n",
    "    else:\n",
    "        print(\"Posicion eje x tobillo derecho \"+str(i)+\": \",colored(sigma, \"green\"))"
   ]
  },
  {
   "cell_type": "code",
   "execution_count": 52,
   "id": "d9fe9fde",
   "metadata": {},
   "outputs": [
    {
     "name": "stdout",
     "output_type": "stream",
     "text": [
      "Posicion eje y tobillo izquierdo 1:  \u001b[34m17.254868\u001b[0m\n",
      "Posicion eje y tobillo izquierdo 2:  \u001b[32m92.78449\u001b[0m\n",
      "Posicion eje y tobillo izquierdo 3:  \u001b[34m25.000359\u001b[0m\n",
      "Posicion eje y tobillo izquierdo 4:  \u001b[34m16.270868\u001b[0m\n",
      "Posicion eje y tobillo izquierdo 5:  \u001b[32m124.64031\u001b[0m\n",
      "Posicion eje y tobillo izquierdo 6:  \u001b[32m125.269585\u001b[0m\n",
      "Posicion eje y tobillo izquierdo 7:  \u001b[32m88.11312\u001b[0m\n",
      "Posicion eje y tobillo izquierdo 8:  \u001b[32m80.95424\u001b[0m\n",
      "Posicion eje y tobillo izquierdo 9:  \u001b[34m12.105806\u001b[0m\n",
      "Posicion eje y tobillo izquierdo 10:  \u001b[34m9.664043\u001b[0m\n",
      "Posicion eje y tobillo izquierdo 11:  \u001b[34m17.74969\u001b[0m\n",
      "Posicion eje y tobillo izquierdo 12:  \u001b[34m19.416697\u001b[0m\n",
      "Posicion eje y tobillo izquierdo 13:  \u001b[34m27.31135\u001b[0m\n",
      "Posicion eje y tobillo izquierdo 14:  \u001b[34m27.287348\u001b[0m\n"
     ]
    }
   ],
   "source": [
    "for i, p in enumerate(pos,1):\n",
    "    sigma=np.array(parte(p[1],6,1)).flatten().std()\n",
    "    if sigma < 30:\n",
    "        print(\"Posicion eje y tobillo izquierdo \"+str(i)+\": \",colored(sigma, \"blue\"))\n",
    "    else:\n",
    "        print(\"Posicion eje y tobillo izquierdo \"+str(i)+\": \",colored(sigma, \"green\"))"
   ]
  },
  {
   "cell_type": "code",
   "execution_count": 53,
   "id": "98b8815f",
   "metadata": {},
   "outputs": [
    {
     "name": "stdout",
     "output_type": "stream",
     "text": [
      "Posicion eje y tobillo derecho 1:  \u001b[34m15.228322\u001b[0m\n",
      "Posicion eje y tobillo derecho 2:  \u001b[32m85.59574\u001b[0m\n",
      "Posicion eje y tobillo derecho 3:  \u001b[34m26.175419\u001b[0m\n",
      "Posicion eje y tobillo derecho 4:  \u001b[34m16.078903\u001b[0m\n",
      "Posicion eje y tobillo derecho 5:  \u001b[32m118.11835\u001b[0m\n",
      "Posicion eje y tobillo derecho 6:  \u001b[32m122.4812\u001b[0m\n",
      "Posicion eje y tobillo derecho 7:  \u001b[32m89.59549\u001b[0m\n",
      "Posicion eje y tobillo derecho 8:  \u001b[32m63.41441\u001b[0m\n",
      "Posicion eje y tobillo derecho 9:  \u001b[34m11.141483\u001b[0m\n",
      "Posicion eje y tobillo derecho 10:  \u001b[34m12.131502\u001b[0m\n",
      "Posicion eje y tobillo derecho 11:  \u001b[34m18.662254\u001b[0m\n",
      "Posicion eje y tobillo derecho 12:  \u001b[34m16.846992\u001b[0m\n",
      "Posicion eje y tobillo derecho 13:  \u001b[34m26.8382\u001b[0m\n",
      "Posicion eje y tobillo derecho 14:  \u001b[34m27.323343\u001b[0m\n"
     ]
    }
   ],
   "source": [
    "for i, p in enumerate(pos,1):\n",
    "    sigma=np.array(parte(p[1],7,1)).flatten().std()\n",
    "    if sigma < 30:\n",
    "        print(\"Posicion eje y tobillo derecho \"+str(i)+\": \",colored(sigma, \"blue\"))\n",
    "    else:\n",
    "        print(\"Posicion eje y tobillo derecho \"+str(i)+\": \",colored(sigma, \"green\"))"
   ]
  },
  {
   "cell_type": "markdown",
   "id": "fe81a37f",
   "metadata": {},
   "source": [
    "#### Extracción de los ángulos de las rodillas"
   ]
  },
  {
   "cell_type": "code",
   "execution_count": 54,
   "id": "add73427",
   "metadata": {},
   "outputs": [
    {
     "name": "stdout",
     "output_type": "stream",
     "text": [
      "Posicion eje y ángulos rodilla izquierda 1:  \u001b[34m1.935345126888027\u001b[0m\n",
      "Posicion eje y ángulos rodilla izquierda 2:  \u001b[32m47.11223737097683\u001b[0m\n",
      "Posicion eje y ángulos rodilla izquierda 3:  \u001b[34m4.925706701561152\u001b[0m\n",
      "Posicion eje y ángulos rodilla izquierda 4:  \u001b[34m0.945936794050333\u001b[0m\n",
      "Posicion eje y ángulos rodilla izquierda 5:  \u001b[32m79.72272110616908\u001b[0m\n",
      "Posicion eje y ángulos rodilla izquierda 6:  \u001b[32m50.88405503360103\u001b[0m\n",
      "Posicion eje y ángulos rodilla izquierda 7:  \u001b[32m69.5738821169773\u001b[0m\n",
      "Posicion eje y ángulos rodilla izquierda 8:  \u001b[32m67.86025869366668\u001b[0m\n",
      "Posicion eje y ángulos rodilla izquierda 9:  \u001b[34m2.6232047144558504\u001b[0m\n",
      "Posicion eje y ángulos rodilla izquierda 10:  \u001b[34m1.3457824311694464\u001b[0m\n",
      "Posicion eje y ángulos rodilla izquierda 11:  \u001b[34m6.381063596330608\u001b[0m\n",
      "Posicion eje y ángulos rodilla izquierda 12:  \u001b[34m2.5420137291233695\u001b[0m\n",
      "Posicion eje y ángulos rodilla izquierda 13:  \u001b[34m1.132984618040629\u001b[0m\n",
      "Posicion eje y ángulos rodilla izquierda 14:  \u001b[34m3.0358892408942157\u001b[0m\n"
     ]
    }
   ],
   "source": [
    "for i, p in enumerate(pos,1):\n",
    "    sigma=np.array(parte(p[1],8,0)).flatten().std()\n",
    "    if sigma < 30:\n",
    "        print(\"Posicion eje y ángulos rodilla izquierda \"+str(i)+\": \",colored(sigma, \"blue\"))\n",
    "    else:\n",
    "        print(\"Posicion eje y ángulos rodilla izquierda \"+str(i)+\": \",colored(sigma, \"green\"))"
   ]
  },
  {
   "cell_type": "code",
   "execution_count": 55,
   "id": "86c8803d",
   "metadata": {},
   "outputs": [
    {
     "name": "stdout",
     "output_type": "stream",
     "text": [
      "Posicion eje y ángulos rodilla derecha 1:  \u001b[34m1.259271331775088\u001b[0m\n",
      "Posicion eje y ángulos rodilla derecha 2:  \u001b[32m73.07131551197494\u001b[0m\n",
      "Posicion eje y ángulos rodilla derecha 3:  \u001b[34m10.396195375234816\u001b[0m\n",
      "Posicion eje y ángulos rodilla derecha 4:  \u001b[34m5.886210792823644\u001b[0m\n",
      "Posicion eje y ángulos rodilla derecha 5:  \u001b[32m87.05831837870869\u001b[0m\n",
      "Posicion eje y ángulos rodilla derecha 6:  \u001b[32m47.97195098897478\u001b[0m\n",
      "Posicion eje y ángulos rodilla derecha 7:  \u001b[32m104.46599388140754\u001b[0m\n",
      "Posicion eje y ángulos rodilla derecha 8:  \u001b[32m80.1325071121062\u001b[0m\n",
      "Posicion eje y ángulos rodilla derecha 9:  \u001b[34m3.1295132860041637\u001b[0m\n",
      "Posicion eje y ángulos rodilla derecha 10:  \u001b[34m1.1992037754498295\u001b[0m\n",
      "Posicion eje y ángulos rodilla derecha 11:  \u001b[34m18.274619543594735\u001b[0m\n",
      "Posicion eje y ángulos rodilla derecha 12:  \u001b[34m2.7115390384221287\u001b[0m\n",
      "Posicion eje y ángulos rodilla derecha 13:  \u001b[34m1.1058575364405814\u001b[0m\n",
      "Posicion eje y ángulos rodilla derecha 14:  \u001b[34m2.7118038287253574\u001b[0m\n"
     ]
    }
   ],
   "source": [
    "for i, p in enumerate(pos,1):\n",
    "    sigma=np.array(parte(p[1],9,0)).flatten().std()\n",
    "    if sigma < 20:\n",
    "        print(\"Posicion eje y ángulos rodilla derecha \"+str(i)+\": \",colored(sigma, \"blue\"))\n",
    "    else:\n",
    "        print(\"Posicion eje y ángulos rodilla derecha \"+str(i)+\": \",colored(sigma, \"green\"))"
   ]
  },
  {
   "cell_type": "markdown",
   "id": "15a0ec4d",
   "metadata": {},
   "source": [
    "<div class=\"alert alert-block alert-info\">\n",
    "En muchos casos los resultados no han sido lo que se esperaba. Hay que objetar también que los movimientos de una persona son muy relativos, el que se esté realizando un ejercicio de piernas no quiere decir que le paciente no mueva las manos, o que en un ejercicio de brazos el individuo no mueva las piernas.Las que mejor lo han clasificado han sido:\n",
    "    \n",
    "  -  Eje y rodilla derecha\n",
    "  -  Eje y tobillo izquierdo\n",
    "  -  Eje y tobillo izquierdo\n",
    "  -  Ángulo \n",
    "  -  Ángulo \n",
    "</div>"
   ]
  },
  {
   "cell_type": "markdown",
   "id": "0f147cfa",
   "metadata": {},
   "source": [
    "<div class=\"alert alert-block alert-warning\">\n",
    "    <b>Conclusión: </b> Como conclusión podemos mostrar que con mucha diferencia los mejores resultados se obtienen a partir del análisis de ángulos concretos del cuerpo. Por ejemplo, para clasificar un ejercicio se podría atender a su desviación típica en los movimientos del ángulo de las rodillas. Si es pequeña quiere decir que prácticamente no se mueven las rodillas, mientras que si es grande quiere decir que ambas están en movimiento en alguna parte del ejercicio.\n",
    "</div>"
   ]
  },
  {
   "cell_type": "code",
   "execution_count": null,
   "id": "1e65b5f5",
   "metadata": {},
   "outputs": [],
   "source": []
  }
 ],
 "metadata": {
  "kernelspec": {
   "display_name": "Python 3 (ipykernel)",
   "language": "python",
   "name": "python3"
  },
  "language_info": {
   "codemirror_mode": {
    "name": "ipython",
    "version": 3
   },
   "file_extension": ".py",
   "mimetype": "text/x-python",
   "name": "python",
   "nbconvert_exporter": "python",
   "pygments_lexer": "ipython3",
   "version": "3.7.11"
  }
 },
 "nbformat": 4,
 "nbformat_minor": 5
}
