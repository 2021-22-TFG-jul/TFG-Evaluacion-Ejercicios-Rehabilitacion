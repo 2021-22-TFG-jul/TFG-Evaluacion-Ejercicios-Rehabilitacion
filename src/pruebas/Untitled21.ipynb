{
 "cells": [
  {
   "cell_type": "markdown",
   "id": "0d0275b2",
   "metadata": {},
   "source": [
    "# Pruebas de la búsqueda de secuencias con todas las posiciones y ángulos de los esqueletos\n",
    "\n",
    "### Autora: Lucía Núñez Calvo\n",
    "\n",
    "#### Fecha: 15 de Mayo de 2022\n",
    "\n",
    "\n",
    "En este cuaderno se van a mostrar una serie de pruebas de como el algoritmo encuentra la secuencia correspondiente a un ejercicio dentro de una secuencia de mayor tamaño obtenida a partir de un video que realiza varios ejercicios seguidos.\n",
    "\n",
    "\n",
    "### Planteamiento del problema\n",
    "\n",
    "Con las posiciones localizadas en las que comienza y finalizan los ejercicios dentro de la secuencia larga se procederá de la siguiente manera. Sabemos que el vídeo en el que se realizan todos los ejercicios tiene \\\"x\\\" frames y sabemos en que segundo del vídeo se empieza y acaba un ejercicio (esto lo observamos al reproducir el vídeo, no es algo que haya obtenido del programa). Con esta información localizaremos en que puntos empiezan y acaban cada uno de los ejercicios y los compararemos con los resultados obtenidos en el programa\n",
    "\n",
    "Según se ha observado en el vídeo los ejercicios comienzan en los siguientes instantes de tiempo:\n",
    "\n",
    "- Ejercicio 1: 0 - 0:32\n",
    "- Ejercicio 2: 0:32 - 0:51\n",
    "- Ejercicio 3: 0:51 - 1:12\n",
    "- Ejercicio 4: 1:12 - 1:37\n",
    "\n",
    "Por lo tanto lo que se tendrá que hacer es dividir el número de frames obtenidos entre el tiempo del vídeo y de esta manera se podrá hacer una aproximación de los frames que ha obtenido en cada segundo.\n",
    "\n",
    "- El número de frames obtenidos en el vídeo largo han sido <b> 2919 frames </b>\n",
    "- Como la duración del vídeo es de 1:37 min tenemos una duración de <b> 97 segundos</b>\n",
    "- Por lo tanto <b> en cada segundo se han obtenido 30 frames </b>, esto quiere decir:\n",
    "    - Ejericio 1 comprede desde el frame 0 hasta el frame 960\n",
    "    - Ejericio 2 comprede desde el frame 960 hasta el frame 1530\n",
    "    - Ejericio 3 comprede desde el frame 1530 hasta el frame 2160\n",
    "    - Ejericio 4 comprede desde el frame 2160 hasta el frame 2919\""
   ]
  },
  {
   "cell_type": "code",
   "execution_count": 1,
   "id": "c14e1f63",
   "metadata": {},
   "outputs": [],
   "source": [
    "import pickle\n",
    "import numpy as np\n",
    "\n",
    "def extrat_pickle(file):\n",
    "    pos=[]\n",
    "    with open(\"/.Pickle/\"+file, \"rb\") as f:\n",
    "        while True: \n",
    "            try:\n",
    "                current_id=pickle.load(f)\n",
    "                pos.append(current_id)\n",
    "            except EOFError:\n",
    "                break\n",
    "    return pos"
   ]
  },
  {
   "cell_type": "markdown",
   "id": "b978650a",
   "metadata": {},
   "source": [
    "Para mostrar los ejemplos, se va a empezar cargando todos los valores de las posiciones de los ejercicios individuales y de los del video que contiene todos los movimientos.\n",
    "\n",
    "Los ángulos se han tenido que almacenar de la siguiente forma: [ángulo ,0]. Esto se debe a que si no por cada esqueleto generaría una matriz con valores multidimensionales y unidimensionales, lo que más tarde implicaría un problema en el cálculo de las distancias"
   ]
  },
  {
   "cell_type": "code",
   "execution_count": 25,
   "id": "868f4b84",
   "metadata": {},
   "outputs": [],
   "source": [
    "files_ang = [\"ang_ejercicio1.pickle\", \"ang_ejercicio2.pickle\", \"ang_ejercicio3.pickle\", \n",
    "         \"ang_ejercicio4.pickle\", \"ang_ejerciciosCompletos1.pickle\"]\n",
    "\n",
    "for i,f in enumerate(files_ang,1):\n",
    "    locals()[\"array_puntos\" + str(i)] = extrat_pickle(f)\n",
    "\n",
    "array_puntos_totales = array_puntos5"
   ]
  },
  {
   "cell_type": "markdown",
   "id": "a5d8ffc4",
   "metadata": {},
   "source": [
    "## Solución: Trabajar con arrays unidimensionales\n",
    "\n",
    "Lo siguiente que vamos a hacer es convertir los arrays multidimensionales en arrays unidimensionales."
   ]
  },
  {
   "cell_type": "code",
   "execution_count": 26,
   "id": "1259c13c",
   "metadata": {},
   "outputs": [
    {
     "name": "stdout",
     "output_type": "stream",
     "text": [
      "Ejercicio 1:  11628\n",
      "Ejercicio 2:  7488\n",
      "Ejercicio 3:  7512\n",
      "Ejercicio 4:  5268\n",
      "Ejercicio completo:  34764\n",
      "Longitud de los ejercicios por separado:  31896\n"
     ]
    }
   ],
   "source": [
    "array_puntos1_3=np.array(array_puntos1).flatten()\n",
    "array_puntos2_3=np.array(array_puntos2).flatten()\n",
    "array_puntos3_3=np.array(array_puntos3).flatten()\n",
    "array_puntos4_3=np.array(array_puntos4).flatten()\n",
    "array_puntos_total_3=np.array(array_puntos_totales).flatten()\n",
    "\n",
    "print(\"Ejercicio 1: \",len(array_puntos1_3))\n",
    "print(\"Ejercicio 2: \",len(array_puntos2_3))\n",
    "print(\"Ejercicio 3: \",len(array_puntos3_3))\n",
    "print(\"Ejercicio 4: \",len(array_puntos4_3))\n",
    "print(\"Ejercicio completo: \",len(array_puntos_total_3))\n",
    "\n",
    "print(\"Longitud de los ejercicios por separado: \",len(array_puntos1_3)+len(array_puntos2_3)+len(array_puntos3_3)+len(array_puntos4_3))"
   ]
  },
  {
   "cell_type": "code",
   "execution_count": 36,
   "id": "d43274b4",
   "metadata": {},
   "outputs": [],
   "source": [
    "array_puntos_total_3 = array_puntos_total_3[~np.isnan(array_puntos_total_3)]"
   ]
  },
  {
   "cell_type": "markdown",
   "id": "0da8f412",
   "metadata": {},
   "source": [
    "Una vez eliminados los valores habrá que tener en cuenta lo siguiene. En el vídeo de ejercicios completos no aparecen sergún el orden de ejercicios individuales, es decir, los ejercicios se han realizado de la siguiente manera:\n",
    "\n",
    "- Primer ejercicio del vídeo completo -> Ejercicio 1\n",
    "- Segundo ejercicio del vídeo completo -> Ejercicio 4\n",
    "- Tercer ejercicio del vídeo completo -> Ejercicio 2\n",
    "- Cuarto ejercicio del vídeo completo -> Ejercicio 3\n",
    "\n",
    "\n",
    "Por lo que, teniendo en cuenta los valores almacenados de cada ejercicio:\n",
    "\n",
    "- Ejercicio 1: 0-11.628\n",
    "- Ejercicio 2: 16.896-24.384\n",
    "- Ejercicio 3: 24.384-31.896\n",
    "- Ejercicio 4: 11.628-16.896\n",
    "\n",
    "\n",
    "Estos valores son bastante relativos porque ya hemos comentado que entre vídeos los ejercicios no duran lo mismo ni empieza uno nada más terminar el siguiente."
   ]
  },
  {
   "cell_type": "code",
   "execution_count": 5,
   "id": "cf38a443",
   "metadata": {},
   "outputs": [
    {
     "name": "stdout",
     "output_type": "stream",
     "text": [
      "El Ejercicio 1 comienza en el frame = 11960\n",
      "El Ejercicio 1 finaliza en el frame = 23349\n"
     ]
    }
   ],
   "source": [
    "from tslearn.metrics import dtw_subsequence_path\n",
    "\n",
    "path, dist = dtw_subsequence_path(array_puntos1_3, array_puntos_total_3)\n",
    "\n",
    "path=np.array(path)\n",
    "a_ast = path[0, 1]\n",
    "b_ast = path[-1, 1]\n",
    "\n",
    "print(\"El Ejercicio 1 comienza en el frame =\",a_ast)\n",
    "print(\"El Ejercicio 1 finaliza en el frame =\",b_ast)"
   ]
  },
  {
   "cell_type": "markdown",
   "id": "5b8c2ef0",
   "metadata": {},
   "source": [
    "<div class=\"alert alert-block alert-danger\">\n",
    "    El resultado obtenido está demasiado lejos del valor esperado.\n",
    "</div>"
   ]
  },
  {
   "cell_type": "code",
   "execution_count": 6,
   "id": "b639d7a4",
   "metadata": {},
   "outputs": [
    {
     "name": "stdout",
     "output_type": "stream",
     "text": [
      "El Ejercicio 2 comienza en el frame = 15754\n",
      "El Ejercicio 2 finaliza en el frame = 22809\n"
     ]
    }
   ],
   "source": [
    "path, dist = dtw_subsequence_path(array_puntos2_3, array_puntos_total_3)\n",
    "\n",
    "path=np.array(path)\n",
    "a_ast = path[0, 1]\n",
    "b_ast = path[-1, 1]\n",
    "\n",
    "print(\"El Ejercicio 2 comienza en el frame =\",a_ast)\n",
    "print(\"El Ejercicio 2 finaliza en el frame =\",b_ast)"
   ]
  },
  {
   "cell_type": "markdown",
   "id": "da086f12",
   "metadata": {},
   "source": [
    "<div class=\"alert alert-block alert-success\">\n",
    "    Es increible, encuentra la secuencia prácticamente a la perfección.\n",
    "</div>"
   ]
  },
  {
   "cell_type": "code",
   "execution_count": 7,
   "id": "fbfc90b6",
   "metadata": {},
   "outputs": [
    {
     "name": "stdout",
     "output_type": "stream",
     "text": [
      "El Ejercicio 3 comienza en el frame = 208\n",
      "El Ejercicio 3 finaliza en el frame = 7259\n"
     ]
    }
   ],
   "source": [
    "path, dist = dtw_subsequence_path(array_puntos3_3, array_puntos_total_3)\n",
    "\n",
    "path=np.array(path)\n",
    "a_ast = path[0, 1]\n",
    "b_ast = path[-1, 1]\n",
    "\n",
    "print(\"El Ejercicio 3 comienza en el frame =\",a_ast)\n",
    "print(\"El Ejercicio 3 finaliza en el frame =\",b_ast)"
   ]
  },
  {
   "cell_type": "markdown",
   "id": "fcd804b0",
   "metadata": {},
   "source": [
    "<div class=\"alert alert-block alert-danger\">\n",
    "    El resultado obtenido está demasiado lejos del valor esperado.\n",
    "</div>"
   ]
  },
  {
   "cell_type": "code",
   "execution_count": 8,
   "id": "73131fa4",
   "metadata": {},
   "outputs": [
    {
     "name": "stdout",
     "output_type": "stream",
     "text": [
      "El Ejercicio 4 comienza en el frame = 9915\n",
      "El Ejercicio 4 finaliza en el frame = 14925\n"
     ]
    }
   ],
   "source": [
    "path, dist = dtw_subsequence_path(array_puntos4_3, array_puntos_total_3)\n",
    "\n",
    "path=np.array(path)\n",
    "a_ast = path[0, 1]\n",
    "b_ast = path[-1, 1]\n",
    "\n",
    "print(\"El Ejercicio 4 comienza en el frame =\",a_ast)\n",
    "print(\"El Ejercicio 4 finaliza en el frame =\",b_ast)"
   ]
  },
  {
   "cell_type": "markdown",
   "id": "a2281d0d",
   "metadata": {},
   "source": [
    "<div class=\"alert alert-block alert-success\">\n",
    "    Es increible, encuentra la secuencia prácticamente a la perfección.\n",
    "</div>"
   ]
  },
  {
   "cell_type": "markdown",
   "id": "b257d718",
   "metadata": {},
   "source": [
    "### Recortamos los frames"
   ]
  },
  {
   "cell_type": "code",
   "execution_count": 17,
   "id": "e4a97725",
   "metadata": {},
   "outputs": [
    {
     "name": "stdout",
     "output_type": "stream",
     "text": [
      "Nuevo número total de frames para el Ejercicio 1:  646\n",
      "Nuevo número total de frames para el Ejercicio 2:  416\n",
      "Nuevo número total de frames para el Ejercicio 3:  418\n",
      "Nuevo número total de frames para el Ejercicio 4:  293\n",
      "Nuevo número total de frames para los Ejercicios totales:  1932\n"
     ]
    }
   ],
   "source": [
    "def cutFrames(array_puntos_largo):\n",
    "    array_puntos=[]\n",
    "    guardar=0\n",
    "    for ang in array_puntos_largo:\n",
    "        guardar=guardar+1\n",
    "        if guardar==3:\n",
    "            #array_puntos.append(ang)\n",
    "            guardar=0\n",
    "        else:\n",
    "            array_puntos.append(ang)\n",
    "    return array_puntos\n",
    "\n",
    "array_puntos1_2=cutFrames(array_puntos1)\n",
    "print(\"Nuevo número total de frames para el Ejercicio 1: \", len(array_puntos1_2))    \n",
    "\n",
    "array_puntos2_2=cutFrames(array_puntos2)\n",
    "print(\"Nuevo número total de frames para el Ejercicio 2: \", len(array_puntos2_2)) \n",
    "\n",
    "array_puntos3_2=cutFrames(array_puntos3)\n",
    "print(\"Nuevo número total de frames para el Ejercicio 3: \", len(array_puntos3_2)) \n",
    "\n",
    "array_puntos4_2=cutFrames(array_puntos4)\n",
    "print(\"Nuevo número total de frames para el Ejercicio 4: \", len(array_puntos4_2)) \n",
    "\n",
    "array_puntos_total_2=cutFrames(array_puntos_totales) \n",
    "print(\"Nuevo número total de frames para los Ejercicios totales: \", len(array_puntos_total_2)) "
   ]
  },
  {
   "cell_type": "code",
   "execution_count": 18,
   "id": "d32f814c",
   "metadata": {},
   "outputs": [
    {
     "name": "stdout",
     "output_type": "stream",
     "text": [
      "Ejercicio 1:  7752\n",
      "Ejercicio 2:  4992\n",
      "Ejercicio 3:  5016\n",
      "Ejercicio 4:  3516\n",
      "Ejercicio completo:  23184\n",
      "Longitud de los ejercicios por separado:  21276\n"
     ]
    }
   ],
   "source": [
    "array_puntos1_3=np.array(array_puntos1_2).flatten()\n",
    "array_puntos2_3=np.array(array_puntos2_2).flatten()\n",
    "array_puntos3_3=np.array(array_puntos3_2).flatten()\n",
    "array_puntos4_3=np.array(array_puntos4_2).flatten()\n",
    "array_puntos_total_3=np.array(array_puntos_total_2).flatten()\n",
    "\n",
    "print(\"Ejercicio 1: \",len(array_puntos1_3))\n",
    "print(\"Ejercicio 2: \",len(array_puntos2_3))\n",
    "print(\"Ejercicio 3: \",len(array_puntos3_3))\n",
    "print(\"Ejercicio 4: \",len(array_puntos4_3))\n",
    "print(\"Ejercicio completo: \",len(array_puntos_total_3))\n",
    "\n",
    "print(\"Longitud de los ejercicios por separado: \",len(array_puntos1_3)+len(array_puntos2_3)+len(array_puntos3_3)+len(array_puntos4_3))\n",
    "\n",
    "array_puntos_total_3 = array_puntos_total_3[~np.isnan(array_puntos_total_3)]"
   ]
  },
  {
   "cell_type": "markdown",
   "id": "2931bfe5",
   "metadata": {},
   "source": [
    "Teniendo en cuenta los valores almacenados de cada ejercicio:\n",
    "\n",
    "- Ejercicio 1: 0-7.752\n",
    "- Ejercicio 2: 11.268 -16.260\n",
    "- Ejercicio 3: 16.260-21.276\n",
    "- Ejercicio 4: 7.752-11.268"
   ]
  },
  {
   "cell_type": "code",
   "execution_count": 19,
   "id": "10b04138",
   "metadata": {},
   "outputs": [
    {
     "name": "stdout",
     "output_type": "stream",
     "text": [
      "El Ejercicio 1 comienza en el frame = 2041\n",
      "El Ejercicio 1 finaliza en el frame = 9800\n"
     ]
    }
   ],
   "source": [
    "path, dist = dtw_subsequence_path(array_puntos1_3, array_puntos_total_3)\n",
    "\n",
    "path=np.array(path)\n",
    "a_ast = path[0, 1]\n",
    "b_ast = path[-1, 1]\n",
    "\n",
    "print(\"El Ejercicio 1 comienza en el frame =\",a_ast)\n",
    "print(\"El Ejercicio 1 finaliza en el frame =\",b_ast)"
   ]
  },
  {
   "cell_type": "markdown",
   "id": "11168400",
   "metadata": {},
   "source": [
    "<div class=\"alert alert-block alert-danger\">\n",
    "    El resultado obtenido está demasiado lejos del valor esperado.\n",
    "</div>"
   ]
  },
  {
   "cell_type": "code",
   "execution_count": 20,
   "id": "7d3b35ef",
   "metadata": {},
   "outputs": [
    {
     "name": "stdout",
     "output_type": "stream",
     "text": [
      "El Ejercicio 2 comienza en el frame = 14122\n",
      "El Ejercicio 2 finaliza en el frame = 18981\n"
     ]
    }
   ],
   "source": [
    "path, dist = dtw_subsequence_path(array_puntos2_3, array_puntos_total_3)\n",
    "\n",
    "path=np.array(path)\n",
    "a_ast = path[0, 1]\n",
    "b_ast = path[-1, 1]\n",
    "\n",
    "print(\"El Ejercicio 2 comienza en el frame =\",a_ast)\n",
    "print(\"El Ejercicio 2 finaliza en el frame =\",b_ast)"
   ]
  },
  {
   "cell_type": "markdown",
   "id": "4b441d8c",
   "metadata": {},
   "source": [
    "<div class=\"alert alert-block alert-success\">\n",
    "    Es increible, encuentra la secuencia prácticamente a la perfección.\n",
    "</div>"
   ]
  },
  {
   "cell_type": "code",
   "execution_count": 23,
   "id": "02bfd8a8",
   "metadata": {},
   "outputs": [
    {
     "name": "stdout",
     "output_type": "stream",
     "text": [
      "El Ejercicio 3 comienza en el frame = 2832\n",
      "El Ejercicio 3 finaliza en el frame = 7355\n"
     ]
    }
   ],
   "source": [
    "path, dist = dtw_subsequence_path(array_puntos3_3, array_puntos_total_3)\n",
    "\n",
    "path=np.array(path)\n",
    "a_ast = path[0, 1]\n",
    "b_ast = path[-1, 1]\n",
    "\n",
    "print(\"El Ejercicio 3 comienza en el frame =\",a_ast)\n",
    "print(\"El Ejercicio 3 finaliza en el frame =\",b_ast)"
   ]
  },
  {
   "cell_type": "markdown",
   "id": "340e4a34",
   "metadata": {},
   "source": [
    "<div class=\"alert alert-block alert-danger\">\n",
    "    El resultado obtenido está demasiado lejos del valor esperado.\n",
    "</div>"
   ]
  },
  {
   "cell_type": "code",
   "execution_count": 24,
   "id": "dd929a21",
   "metadata": {},
   "outputs": [
    {
     "name": "stdout",
     "output_type": "stream",
     "text": [
      "El Ejercicio 4 comienza en el frame = 9757\n",
      "El Ejercicio 4 finaliza en el frame = 13040\n"
     ]
    }
   ],
   "source": [
    "path, dist = dtw_subsequence_path(array_puntos4_3, array_puntos_total_3)\n",
    "\n",
    "path=np.array(path)\n",
    "a_ast = path[0, 1]\n",
    "b_ast = path[-1, 1]\n",
    "\n",
    "print(\"El Ejercicio 4 comienza en el frame =\",a_ast)\n",
    "print(\"El Ejercicio 4 finaliza en el frame =\",b_ast)"
   ]
  },
  {
   "cell_type": "markdown",
   "id": "2f972ccb",
   "metadata": {},
   "source": [
    "<div class=\"alert alert-block alert-info\">\n",
    "    El resultado obtenido es bastante aceptable.\n",
    "</div>"
   ]
  },
  {
   "cell_type": "markdown",
   "id": "664c3a22",
   "metadata": {},
   "source": [
    "### Recortamos un poco menos los frames"
   ]
  },
  {
   "cell_type": "code",
   "execution_count": 27,
   "id": "b38b8942",
   "metadata": {},
   "outputs": [
    {
     "name": "stdout",
     "output_type": "stream",
     "text": [
      "Nuevo número total de frames para el Ejercicio 1:  776\n",
      "Nuevo número total de frames para el Ejercicio 2:  500\n",
      "Nuevo número total de frames para el Ejercicio 3:  501\n",
      "Nuevo número total de frames para el Ejercicio 4:  352\n",
      "Nuevo número total de frames para los Ejercicios totales:  2318\n"
     ]
    }
   ],
   "source": [
    "def cutFrames(array_puntos_largo):\n",
    "    array_puntos=[]\n",
    "    guardar=0\n",
    "    for ang in array_puntos_largo:\n",
    "        guardar=guardar+1\n",
    "        if guardar==5:\n",
    "            #array_puntos.append(ang)\n",
    "            guardar=0\n",
    "        else:\n",
    "            array_puntos.append(ang)\n",
    "    return array_puntos\n",
    "\n",
    "array_puntos1_2=cutFrames(array_puntos1)\n",
    "print(\"Nuevo número total de frames para el Ejercicio 1: \", len(array_puntos1_2))    \n",
    "\n",
    "array_puntos2_2=cutFrames(array_puntos2)\n",
    "print(\"Nuevo número total de frames para el Ejercicio 2: \", len(array_puntos2_2)) \n",
    "\n",
    "array_puntos3_2=cutFrames(array_puntos3)\n",
    "print(\"Nuevo número total de frames para el Ejercicio 3: \", len(array_puntos3_2)) \n",
    "\n",
    "array_puntos4_2=cutFrames(array_puntos4)\n",
    "print(\"Nuevo número total de frames para el Ejercicio 4: \", len(array_puntos4_2)) \n",
    "\n",
    "array_puntos_total_2=cutFrames(array_puntos_totales) \n",
    "print(\"Nuevo número total de frames para los Ejercicios totales: \", len(array_puntos_total_2)) "
   ]
  },
  {
   "cell_type": "code",
   "execution_count": 28,
   "id": "bff58bb8",
   "metadata": {},
   "outputs": [
    {
     "name": "stdout",
     "output_type": "stream",
     "text": [
      "Ejercicio 1:  9312\n",
      "Ejercicio 2:  6000\n",
      "Ejercicio 3:  6012\n",
      "Ejercicio 4:  4224\n",
      "Ejercicio completo:  27816\n",
      "Longitud de los ejercicios por separado:  25548\n"
     ]
    }
   ],
   "source": [
    "array_puntos1_3=np.array(array_puntos1_2).flatten()\n",
    "array_puntos2_3=np.array(array_puntos2_2).flatten()\n",
    "array_puntos3_3=np.array(array_puntos3_2).flatten()\n",
    "array_puntos4_3=np.array(array_puntos4_2).flatten()\n",
    "array_puntos_total_3=np.array(array_puntos_total_2).flatten()\n",
    "\n",
    "print(\"Ejercicio 1: \",len(array_puntos1_3))\n",
    "print(\"Ejercicio 2: \",len(array_puntos2_3))\n",
    "print(\"Ejercicio 3: \",len(array_puntos3_3))\n",
    "print(\"Ejercicio 4: \",len(array_puntos4_3))\n",
    "print(\"Ejercicio completo: \",len(array_puntos_total_3))\n",
    "\n",
    "print(\"Longitud de los ejercicios por separado: \",len(array_puntos1_3)+len(array_puntos2_3)+len(array_puntos3_3)+len(array_puntos4_3))\n",
    "\n",
    "array_puntos_total_3 = array_puntos_total_3[~np.isnan(array_puntos_total_3)]"
   ]
  },
  {
   "cell_type": "markdown",
   "id": "dc077f7f",
   "metadata": {},
   "source": [
    "Teniendo en cuenta los valores almacenados de cada ejercicio:\n",
    "\n",
    "- Ejercicio 1: 0-9.312\n",
    "- Ejercicio 2: 13536 -19536\n",
    "- Ejercicio 3: 19536-27816\n",
    "- Ejercicio 4: 9.312-13536"
   ]
  },
  {
   "cell_type": "code",
   "execution_count": 31,
   "id": "66aba5f1",
   "metadata": {},
   "outputs": [
    {
     "name": "stdout",
     "output_type": "stream",
     "text": [
      "El Ejercicio 1 comienza en el frame = 9553\n",
      "El Ejercicio 1 finaliza en el frame = 18645\n"
     ]
    }
   ],
   "source": [
    "path, dist = dtw_subsequence_path(array_puntos1_3, array_puntos_total_3)\n",
    "\n",
    "path=np.array(path)\n",
    "a_ast = path[0, 1]\n",
    "b_ast = path[-1, 1]\n",
    "\n",
    "print(\"El Ejercicio 1 comienza en el frame =\",a_ast)\n",
    "print(\"El Ejercicio 1 finaliza en el frame =\",b_ast)"
   ]
  },
  {
   "cell_type": "markdown",
   "id": "04d0fe1d",
   "metadata": {},
   "source": [
    "<div class=\"alert alert-block alert-danger\">\n",
    "    El resultado obtenido está demasiado lejos del valor esperado.\n",
    "</div>"
   ]
  },
  {
   "cell_type": "code",
   "execution_count": 32,
   "id": "d9d71142",
   "metadata": {},
   "outputs": [
    {
     "name": "stdout",
     "output_type": "stream",
     "text": [
      "El Ejercicio 2 comienza en el frame = 12862\n",
      "El Ejercicio 2 finaliza en el frame = 18644\n"
     ]
    }
   ],
   "source": [
    "path, dist = dtw_subsequence_path(array_puntos2_3, array_puntos_total_3)\n",
    "\n",
    "path=np.array(path)\n",
    "a_ast = path[0, 1]\n",
    "b_ast = path[-1, 1]\n",
    "\n",
    "print(\"El Ejercicio 2 comienza en el frame =\",a_ast)\n",
    "print(\"El Ejercicio 2 finaliza en el frame =\",b_ast)"
   ]
  },
  {
   "cell_type": "markdown",
   "id": "7f655eee",
   "metadata": {},
   "source": [
    "<div class=\"alert alert-block alert-success\">\n",
    "    Es increible, encuentra la secuencia prácticamente a la perfección.\n",
    "</div>"
   ]
  },
  {
   "cell_type": "code",
   "execution_count": 33,
   "id": "b3341112",
   "metadata": {},
   "outputs": [
    {
     "name": "stdout",
     "output_type": "stream",
     "text": [
      "El Ejercicio 3 comienza en el frame = 144\n",
      "El Ejercicio 3 finaliza en el frame = 5783\n"
     ]
    }
   ],
   "source": [
    "path, dist = dtw_subsequence_path(array_puntos3_3, array_puntos_total_3)\n",
    "\n",
    "path=np.array(path)\n",
    "a_ast = path[0, 1]\n",
    "b_ast = path[-1, 1]\n",
    "\n",
    "print(\"El Ejercicio 3 comienza en el frame =\",a_ast)\n",
    "print(\"El Ejercicio 3 finaliza en el frame =\",b_ast)\n"
   ]
  },
  {
   "cell_type": "markdown",
   "id": "4f0f05f8",
   "metadata": {},
   "source": [
    "<div class=\"alert alert-block alert-danger\">\n",
    "    El resultado obtenido está demasiado lejos del valor esperado.\n",
    "</div>"
   ]
  },
  {
   "cell_type": "code",
   "execution_count": 35,
   "id": "1ea956a0",
   "metadata": {},
   "outputs": [
    {
     "name": "stdout",
     "output_type": "stream",
     "text": [
      "El Ejercicio 4 comienza en el frame = 9960\n",
      "El Ejercicio 4 finaliza en el frame = 13953\n"
     ]
    },
    {
     "data": {
      "text/plain": [
       "1.1401255130767822"
      ]
     },
     "execution_count": 35,
     "metadata": {},
     "output_type": "execute_result"
    }
   ],
   "source": [
    "import time\n",
    "inicio = time.time()\n",
    "\n",
    "path, dist = dtw_subsequence_path(array_puntos4_3, array_puntos_total_3)\n",
    "\n",
    "path=np.array(path)\n",
    "a_ast = path[0, 1]\n",
    "b_ast = path[-1, 1]\n",
    "\n",
    "fin = time.time()\n",
    "\n",
    "print(\"El Ejercicio 4 comienza en el frame =\",a_ast)\n",
    "print(\"El Ejercicio 4 finaliza en el frame =\",b_ast)\n",
    "fin-inicio"
   ]
  },
  {
   "cell_type": "markdown",
   "id": "ef1dea69",
   "metadata": {},
   "source": [
    "<div class=\"alert alert-block alert-success\">\n",
    "    Es increible, encuentra la secuencia prácticamente a la perfección.\n",
    "</div>"
   ]
  },
  {
   "cell_type": "markdown",
   "id": "3ebb2113",
   "metadata": {},
   "source": [
    "<div class=\"alert alert-block alert-warning\">\n",
    "<b> Conclusión: </b> Los resultados obtenidos mediante esta técnica son muy alentadores, aunque en algunas ocasiones no encuentre la secuencia a la perfección entras ocasiones si lo hace por lo tanto, este será el camino a seguir para localizar las secuencias.\n",
    "</div>"
   ]
  },
  {
   "cell_type": "code",
   "execution_count": null,
   "id": "4d1c856b",
   "metadata": {},
   "outputs": [],
   "source": []
  }
 ],
 "metadata": {
  "kernelspec": {
   "display_name": "Python 3 (ipykernel)",
   "language": "python",
   "name": "python3"
  },
  "language_info": {
   "codemirror_mode": {
    "name": "ipython",
    "version": 3
   },
   "file_extension": ".py",
   "mimetype": "text/x-python",
   "name": "python",
   "nbconvert_exporter": "python",
   "pygments_lexer": "ipython3",
   "version": "3.7.11"
  }
 },
 "nbformat": 4,
 "nbformat_minor": 5
}
