{
 "cells": [
  {
   "cell_type": "markdown",
   "id": "fc7dfa50",
   "metadata": {},
   "source": [
    "# Búsqueda de múltiples secuencias\n",
    "\n",
    "### Autora: Lucía Núñez Calvo\n",
    "\n",
    "#### Fecha: 4 de Abril de 2022\n",
    "\n",
    "El objetivo de este cuaderno es mostrar como se pueden pueden localizar varias subsecuencias a partir de un único patrón de referencia dentro de una secuencia de mayor tamaño. Esto se usará más adelante para localizar \n",
    "todas las secuencias que comparantan similitudes con el patrón de referencia y acabar selecciónando la más parecida al mismo. \n",
    "\n",
    "En este caso la búsqueda se realizará con datos reales"
   ]
  },
  {
   "cell_type": "code",
   "execution_count": 1,
   "id": "47ac97e1",
   "metadata": {},
   "outputs": [],
   "source": [
    "import pickle\n",
    "import numpy as np\n",
    "\n",
    "def extrat_pickle(file):\n",
    "    pos=[]\n",
    "    with open(\"/.Pickle/\"+file, \"rb\") as f:\n",
    "        while True: \n",
    "            try:\n",
    "                current_id=pickle.load(f)\n",
    "                pos.append(current_id)\n",
    "            except EOFError:\n",
    "                break\n",
    "    return pos"
   ]
  },
  {
   "cell_type": "code",
   "execution_count": 2,
   "id": "ca0c1896",
   "metadata": {},
   "outputs": [
    {
     "name": "stdout",
     "output_type": "stream",
     "text": [
      "Número de frames del ejercicio 1:  969\n",
      "Número de frames del ejercicio completo:  2896\n"
     ]
    }
   ],
   "source": [
    "ang_ej1 = extrat_pickle(\"angulos_ej1_MultiplesSecuencias.pickle\")\n",
    "ang_paciente = extrat_pickle(\"angulos_total_MultiplesSecuencias.pickle\")\n",
    "\n",
    "print(\"Número de frames del ejercicio 1: \",len(ang_ej1))\n",
    "print(\"Número de frames del ejercicio completo: \",len(ang_paciente))"
   ]
  },
  {
   "cell_type": "markdown",
   "id": "6cdd7578",
   "metadata": {},
   "source": [
    "Una vez se han obtenido las secuencias relativas al ejercicio concreto a analizar y por otra parte la secuencia completa de ejercicios, el primer paso será crear las funciones necesárias para calcular:\n",
    "- Matriz de distancias o matriz de costes locales C\n",
    "- Matriz de costes acumulados D\n",
    "- Ruta de deformación"
   ]
  },
  {
   "cell_type": "code",
   "execution_count": 16,
   "id": "12dd62bd",
   "metadata": {},
   "outputs": [],
   "source": [
    "from scipy.signal import find_peaks\n",
    "\n",
    "from tslearn import metrics\n",
    "from tslearn.generators import random_walks\n",
    "from tslearn.preprocessing import TimeSeriesScalerMeanVariance\n",
    "\n",
    "\n",
    "def calcule_matrix(X,Y):\n",
    "    \"\"\"\n",
    "    Función que calcula la matriz de costes locales o matriz de distancias.\n",
    "    Este cálculo se ha realizao mediante la distancia euclidiana.\n",
    "    \n",
    "    Parámetros de entrada \n",
    "    ---------------------\n",
    "    X : Secuencia corta con un ejercicio concreto.\n",
    "    Y : Secuencia larga con múltiples ejercicios.\n",
    "    \n",
    "    Salida\n",
    "    ------\n",
    "    Matriz de costes locales o de distancias.\n",
    "    \"\"\"\n",
    "    C=np.zeros((len(X),len(Y)))\n",
    "    for i in range(len(X)):\n",
    "        for j in range(len(Y)):\n",
    "            x=np.array(X[i])\n",
    "            y=np.array(Y[j])\n",
    "            \n",
    "            #Cálculo de la distancia euclídea entre dos secuencias.\n",
    "            C[i][j] = np.linalg.norm(np.array(X[i])-np.array(Y[j])) #para secuencias de varias dimensiones\n",
    "\n",
    "    return C\n",
    "\n",
    "def calcule_matrixD(C,X,Y):\n",
    "    \"\"\"\n",
    "    Función que calcula la matriz de costes acumulados.\n",
    "    Este cálculo se realizará de la siguiente forma:\n",
    "        1) La primera fila de D está inicializada como D(1,m):=C(1,m) para m € [1:M] siendo M=len(Y).\n",
    "        2) La primera columna de D está inicializada como D(n,1):=∑k=1nC(k,1) para n € [1:N] siendo N=len(X).\n",
    "        3) El resto de los valores se definen recursivamente a partir de la matriz de costes locales.\n",
    "    \n",
    "    Parámetros de entrada \n",
    "    ---------------------\n",
    "    C : Matriz de costes locales o de distancias.\n",
    "    X : Secuencia corta con un ejercicio concreto.\n",
    "    Y : Secuencia larga con múltiples ejercicios.\n",
    "    \n",
    "    Salida\n",
    "    ------\n",
    "    Matriz de costes acumulados.\n",
    "    \"\"\"\n",
    "    D=np.zeros((len(X),len(Y)))\n",
    "    D[:,0]=np.cumsum(C[:,0]) #inicialización de la primera columna\n",
    "    D[0,:]=C[0,:] #Inicialización de la primera fila \n",
    "\n",
    "    for i in range(1,len(X)):\n",
    "        for j in range(1,len(Y)):\n",
    "            D[i][j] = C[i][j]+min(D[i-1][j],D[i][j-1],D[i-1][j-1])\n",
    "            \n",
    "    return D\n",
    "\n",
    "def calcule_path(C,sz):\n",
    "    \"\"\"\n",
    "    Función que calcula las posibles rutas de deformación.\n",
    "    Estas rutas serán calculadas mediante la función scipy.signal.find_peaks que localiza picos dentro\n",
    "    de una señal. Con el argumento \"distance\" se especifica distancia horizontal mínima entre picos, cuanto \n",
    "    más restrictivo sea este parámetro, menor será el número de caminos localizados.\n",
    "    \n",
    "    Parámetros de entrada \n",
    "    ---------------------\n",
    "    C : Matriz de costes locales o de distancias.\n",
    "    sz : Parámetro que se utiliza para hacer más o menos restrictiva la búsqueda.\n",
    "    \n",
    "    Salida\n",
    "    ------\n",
    "    Posibles rutas de deformación.\n",
    "    \"\"\"\n",
    "    #Calculo del coste de la función\n",
    "    cost_func = C[-1, :]\n",
    "\n",
    "    #Identificación de los posibles caminos\n",
    "    potential_matches = find_peaks(-cost_func, distance=sz * 2.75, height=-50)[0]\n",
    "\n",
    "    #Calculo de las rutas óptimas a partir de cada uno de los mínimos identificados\n",
    "    paths = [metrics.subsequence_path(C, match) for match in potential_matches]\n",
    "    \n",
    "    return paths"
   ]
  },
  {
   "cell_type": "markdown",
   "id": "6b7604a2",
   "metadata": {},
   "source": [
    "Una vez se tienen realizadas las funciones que realizan el cálculos de las distintas matrices y la ruta de deformación, el siguiene paso que se va a mostrar es probar los caminos que localiza a partir de diferentes valores restrictivos. "
   ]
  },
  {
   "cell_type": "code",
   "execution_count": 30,
   "id": "81674222",
   "metadata": {},
   "outputs": [
    {
     "name": "stdout",
     "output_type": "stream",
     "text": [
      "Número de caminos óptimos para sz = 3:  102\n",
      "Número de caminos óptimos para sz = 7:  72\n",
      "Número de caminos óptimos para sz = 10:  58\n",
      "Número de caminos óptimos para sz = 14:  44\n",
      "Número de caminos óptimos para sz = 20:  33\n",
      "Número de caminos óptimos para sz = 30:  22\n",
      "Número de caminos óptimos para sz = 40:  19\n",
      "Número de caminos óptimos para sz = 50:  14\n",
      "Número de caminos óptimos para sz = 60:  13\n",
      "Número de caminos óptimos para sz = 70:  11\n",
      "\n",
      "Tiempo trascurrido en localizar los posibles caminos óptimos:  32.60620164871216 segundos\n"
     ]
    }
   ],
   "source": [
    "#Medir el tiempo de ejecución\n",
    "import time\n",
    "inicio = time.time()\n",
    "\n",
    "C=calcule_matrix(ang_ej1, ang_paciente)\n",
    "#print(\"\\nMatriz de distancias o matriz de costes locales con sqrt(x[i] - y[j])^2:\\n \",C) \n",
    "\n",
    "valores_sz=[3,7,10,14,20,30,40,50,60,70]\n",
    "\n",
    "for sz in valores_sz:\n",
    "    paths=calcule_path(C,sz)\n",
    "    print(\"Número de caminos óptimos para sz = \"+str(sz)+\": \",len(paths))\n",
    "    \n",
    "fin = time.time()\n",
    "print(\"\\nTiempo trascurrido en localizar los posibles caminos óptimos: \",fin-inicio, \"segundos\")"
   ]
  },
  {
   "cell_type": "markdown",
   "id": "0b6aecf2",
   "metadata": {},
   "source": [
    "<div class=\"alert alert-block alert-warning\">\n",
    "    <b>Nota: </b>Como se puede observar el tiempo de ejecución para calcular la matriz de distancias y encontrar un total de diez posibles caminos no es nada elevado.\n",
    "    \n",
    "Por otra parte también se puede ver como a medida que sube el valor del argumento que modifica la restricción en cuanto a la distancia horizontal entre picos, el número de caminos óptimos localizados disminuye. \n",
    "    \n",
    "Con valores muy altos, como los primeros que se han obtenidos, es demasiado inviable realizar un posible cálculo ya que el número de caminos es elevado y por consiguiente muchos de ellos prácticamente iguales. Por esa razón se usarán restricciones más elevadas para sacar únicamente las secuencias que compartan un frado de similitud con el patrón de referencia lo suficientemente aceptable. \n",
    "</div>"
   ]
  },
  {
   "cell_type": "markdown",
   "id": "6595d3d8",
   "metadata": {},
   "source": [
    "<div class=\"alert alert-block alert-warning\">\n",
    "    <b>Nota: </b> Una vez obtenidos los diferentes caminos, se plantearán distintas métricas para su calsificaicón. Algunas de ellas pueden ser:\n",
    "\n",
    "- Cálculo de la distancia DTW\n",
    "- Cálculo del coste DTW\n",
    "- Cálculo de la distancia euclidian\n",
    "- Cálculo de la distancia manhattan\n",
    "- Métrica Soft-DTW\n",
    "    \n",
    "    \n",
    "En el cuaderno \"C3_Búsqueda_y_agrupación_de_secuencias_SIMILARES.ipynb\" se puede observar una de ellas.\n",
    "</div>"
   ]
  }
 ],
 "metadata": {
  "kernelspec": {
   "display_name": "Python 3",
   "language": "python",
   "name": "python3"
  },
  "language_info": {
   "codemirror_mode": {
    "name": "ipython",
    "version": 3
   },
   "file_extension": ".py",
   "mimetype": "text/x-python",
   "name": "python",
   "nbconvert_exporter": "python",
   "pygments_lexer": "ipython3",
   "version": "3.8.8"
  }
 },
 "nbformat": 4,
 "nbformat_minor": 5
}
