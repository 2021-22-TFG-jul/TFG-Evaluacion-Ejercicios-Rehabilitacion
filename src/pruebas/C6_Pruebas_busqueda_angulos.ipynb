{
 "cells": [
  {
   "cell_type": "markdown",
   "id": "dc8fc107",
   "metadata": {},
   "source": [
    "# Pruebas de la búsqueda de secuencias con los ÁNGULOS de los esqueletos\n",
    "\n",
    "### Autora: Lucía Núñez Calvo\n",
    "\n",
    "#### Fecha: 4 de Mayo del 2022\n",
    "\n",
    "\n",
    "En este cuaderno se van a mostrar una serie de pruebas de como el algoritmo encuentra la secuencia correspondiente a un ejercicio dentro de una secuencia de mayor tamaño obtenida a partir de un video que realiza varios ejercicios seguidos.\n",
    "\n",
    "Esto se realizará una vez se hayan obtenido los <b> ángulos </b> de todos los frames, tanto de los ejercicios individuales como del vídeo que realiza éstos ejercicios de manera ininterrumpida. Para ello se han planteado varias soluciones:\n",
    "- Solución 1: Buscar toda la secuencia en el video completo\n",
    "- Solución 2: Buscar el inicio y el final\n",
    "- Solución 3: Buscar la parte \"central\" del ejercicio\n",
    "\n",
    "### Planteamiento del problema\n",
    "\n",
    "Con las posiciones localizadas en las que comienza y finalizan los ejercicios dentro de la secuencia larga se procederá de la siguiente manera. Sabemos que el vídeo en el que se realizan todos los ejercicios tiene \"x\" frames y sabemos en que segundo del vídeo se empieza y acaba un ejercicio (esto lo observamos al reproducir el vídeo, no es algo que haya obtenido del programa). Con esta información localizaremos en que puntos empiezan y acaban cada uno de los ejercicios y los compararemos con los resultados obtenidos en el programa\n",
    "\n",
    "Según se ha observado en el vídeo los ejercicios comienzan en los siguientes instantes de tiempo:\n",
    "- Ejercicio 1: 0 - 0:32 \n",
    "- Ejercicio 2: 0:32 - 0:51 \n",
    "- Ejercicio 3: 0:51 - 1:12 \n",
    "- Ejercicio 4: 1:12 - 1:37\n",
    "\n",
    "Por lo tanto lo que se tendrá que hacer es dividir el número de frames obtenidos entre el tiempo del vídeo y de esta manera se podrá hacer una aproximación de los frames que ha obtenido en cada segundo.\n",
    "- El número de frames obtenidos en el vídeo largo han sido <b> 2919 frames </b>\n",
    "- Como la duración del vídeo es de 1:37 min tenemos una duración de <b> 97 segundos </b>\n",
    "- Por lo tanto <b> en cada segundo se han obtenido 30 frames </b>, esto quiere decir: \n",
    "    - Ejericio 1 comprede desde el frame 0 hasta el frame 960\n",
    "    - Ejericio 2 comprede desde el frame 960 hasta el frame 1530\n",
    "    - Ejericio 3 comprede desde el frame 1530 hasta el frame 2160\n",
    "    - Ejericio 4 comprede desde el frame 2160 hasta el frame 2919\n",
    "    \n",
    "Para mostrar los ejemplos, se va a empezar cargando los ángulos."
   ]
  },
  {
   "cell_type": "markdown",
   "id": "7084d3a2",
   "metadata": {},
   "source": [
    "<div class=\"alert alert-block alert-warning\">\n",
    "    <b>Nota: </b> En este cuaderno se mostrarán las distintas fases de actuación, aunque en las pruebas se han ejecutada todos y cada uno de los ejemplos, en este cuaderno solo me mostrarán algunos por no crear un cuaderno inmenso.\n",
    "</div> "
   ]
  },
  {
   "cell_type": "markdown",
   "id": "a9d2ee6f",
   "metadata": {},
   "source": [
    "<div class=\"alert alert-block alert-warning\">\n",
    "    <b>Nota: </b> Los vídeos utilizados para esta prueba han sido, Ejercicio1.mp4, Ejercicio2.mp4, Ejercicio3.mp4, Ejercicio4.mp4, VideoCompleto.mp4\n",
    "</div>"
   ]
  },
  {
   "cell_type": "code",
   "execution_count": 59,
   "id": "9bb848cc",
   "metadata": {},
   "outputs": [],
   "source": [
    "import pickle\n",
    "import numpy as np\n",
    "\n",
    "def extrat_pickle(file):\n",
    "    pos=[]\n",
    "    with open(\"/.Pickle/Angulos_completos/\"+file, \"rb\") as f:\n",
    "        while True: \n",
    "            try:\n",
    "                current_id=pickle.load(f)\n",
    "                pos.append(current_id)\n",
    "            except EOFError:\n",
    "                break\n",
    "    return pos"
   ]
  },
  {
   "cell_type": "code",
   "execution_count": 60,
   "id": "35331f75",
   "metadata": {},
   "outputs": [],
   "source": [
    "files_ang = [\"ang_ejercicio1.pickle\", \"ang_ejercicio2.pickle\", \"ang_ejercicio3.pickle\", \n",
    "         \"ang_ejercicio4.pickle\", \"ang_ejerciciosCompletos1.pickle\"]\n",
    "\n",
    "for i,f in enumerate(files_ang,1):\n",
    "    locals()[\"array_angulos\" + str(i)] = extrat_pickle(f)\n",
    "\n",
    "array_angulos_totales = array_angulos5"
   ]
  },
  {
   "cell_type": "markdown",
   "id": "db0d3e3f",
   "metadata": {},
   "source": [
    "## Solución 1: Búsqueda de toda la secuencia en el vídeo completo"
   ]
  },
  {
   "cell_type": "markdown",
   "id": "0f26036c",
   "metadata": {},
   "source": [
    "La primera línea de actuación será buscar la secuencia completa dentro del vídeo. En este apartado se comentarán algunos problemas que han surgido al realizar la búsqueda."
   ]
  },
  {
   "cell_type": "code",
   "execution_count": 61,
   "id": "7682fc7b",
   "metadata": {},
   "outputs": [
    {
     "name": "stdout",
     "output_type": "stream",
     "text": [
      "Longitud del array que contiene el Ejercicio1:  969\n",
      "Longitud del array que contiene el Ejercicio2:  624\n",
      "Longitud del array que contiene el Ejercicio3:  626\n",
      "Longitud del array que contiene el Ejercicio4:  439\n",
      "\n",
      "Longitud del array que contiene todos los ejercicios:  2897\n"
     ]
    }
   ],
   "source": [
    "print(\"Longitud del array que contiene el Ejercicio1: \", len(array_angulos1))\n",
    "print(\"Longitud del array que contiene el Ejercicio2: \", len(array_angulos2))\n",
    "print(\"Longitud del array que contiene el Ejercicio3: \", len(array_angulos3))\n",
    "print(\"Longitud del array que contiene el Ejercicio4: \", len(array_angulos4))\n",
    "print(\"\\nLongitud del array que contiene todos los ejercicios: \", len(array_angulos_totales))"
   ]
  },
  {
   "cell_type": "markdown",
   "id": "72360995",
   "metadata": {},
   "source": [
    "##### Búsqueda del primer ejercicio"
   ]
  },
  {
   "cell_type": "code",
   "execution_count": 10,
   "id": "f40508fc",
   "metadata": {},
   "outputs": [
    {
     "name": "stdout",
     "output_type": "stream",
     "text": [
      "El Ejercicio 1 comienza en el frame = 1177\n",
      "El Ejercicio 1 finaliza en el frame = 1177\n"
     ]
    }
   ],
   "source": [
    "from tslearn.metrics import dtw_subsequence_path\n",
    "\n",
    "path, dist = dtw_subsequence_path(array_angulos1, array_angulos_totales)\n",
    "\n",
    "path=np.array(path)\n",
    "a_ast = path[0, 1]\n",
    "b_ast = path[-1, 1]\n",
    "\n",
    "print(\"El Ejercicio 1 comienza en el frame =\",a_ast)\n",
    "print(\"El Ejercicio 1 finaliza en el frame =\",b_ast)"
   ]
  },
  {
   "cell_type": "markdown",
   "id": "8b356b99",
   "metadata": {},
   "source": [
    "<div class=\"alert alert-block alert-warning\">\n",
    "    <b>Nota: </b> \n",
    "Que el resultado sea una secuencia que empieza y acaba en el mismo punto quiere indicar que en dicho punto se encuentra algún valor nulo. Para subsanar este problema, se deberán eliminar todas las posiciones que contengan dichos valores. \n",
    " </div> "
   ]
  },
  {
   "cell_type": "code",
   "execution_count": 63,
   "id": "1ca75933",
   "metadata": {},
   "outputs": [
    {
     "data": {
      "text/plain": [
       "[nan,\n",
       " nan,\n",
       " 181.80103391290598,\n",
       " 195.42391451438812,\n",
       " 263.0643529882258,\n",
       " 255.47103523185842,\n",
       " 259.52708916343613,\n",
       " 270.0585239928155,\n",
       " 87.44936103700151,\n",
       " 92.55063916759345,\n",
       " 195.60737339549468,\n",
       " 177.72324341140262]"
      ]
     },
     "execution_count": 63,
     "metadata": {},
     "output_type": "execute_result"
    }
   ],
   "source": [
    "array_angulos_totales.pop(1177)"
   ]
  },
  {
   "cell_type": "code",
   "execution_count": 64,
   "id": "f244d3da",
   "metadata": {},
   "outputs": [
    {
     "name": "stdout",
     "output_type": "stream",
     "text": [
      "El Ejercicio 1 comienza en el frame = 944\n",
      "El Ejercicio 1 finaliza en el frame = 1294\n"
     ]
    }
   ],
   "source": [
    "path, dist = dtw_subsequence_path(array_angulos1, array_angulos_totales)\n",
    "\n",
    "path=np.array(path)\n",
    "a_ast = path[0, 1]\n",
    "b_ast = path[-1, 1]\n",
    "\n",
    "print(\"El Ejercicio 1 comienza en el frame =\",a_ast)\n",
    "print(\"El Ejercicio 1 finaliza en el frame =\",b_ast)"
   ]
  },
  {
   "cell_type": "markdown",
   "id": "c2f25e08",
   "metadata": {},
   "source": [
    "<div class=\"alert alert-block alert-danger\">\n",
    "Para comprobar porque arroja un resultado tan pequeño se ha probado a acotar el vídeo de referencia.\n",
    "    \n",
    "Si acotamos la búsqueda: \n",
    "- No tiene ningún sentido que encuentre una secuencia que comienza en el frame 716 y acaba en el 924 ya que al ser la secuencia de ejercicios completa, como mínimo deberia de abarcar unos 900 frames.\n",
    "\n",
    "Si no la acotamos:\n",
    "- Su camino óptimo es empezar en el frame 944 y acabar en el frame 1294, no tiene ningún sentido y empieza una vez se ha acabado el ejercicio.\n",
    "    \n",
    "En ambas ocasiones el problema es que detecta la secuencia demasiado tarde\n",
    "</div>"
   ]
  },
  {
   "cell_type": "markdown",
   "id": "d8443a8c",
   "metadata": {},
   "source": [
    "Con un ejemplo vamos a dar una breve explicación de porque puede estar pasando esto:\n",
    "- Patrón de referencia \n",
    "  [[10,4,45,6],[34,67,2,56],[34,56,78]]\n",
    "- Secuencia en la que buscar \n",
    "  [[564,444,435,2346],[3344,6347,32,5634],[33244,5346,7438],\n",
    "  [10,400,465,6],[3454,6547,52,556],<b>[60,40,80]</b>,\n",
    "  [10234,3424,435,634],[3344,6347,342,5346],[3465,556,778]]\n",
    "  \n",
    "Como se puede obser el patrón de referencia es una matriz compuesta por 3 filas y la matriz en la que se pretende buscar dichos valores tiene un total de 9 filas, ambas tienen idéntico número de columnas.\n",
    "Lo que hace el algoritmo de tslearn para la búsqueda de secuencias es mirar el patrón y buscar una similitud dentro de la cadena larga pero, como solo encuentra similitud con una parte del patrón, es esa la que devuelve.\n",
    "Esto es lo que pasa en la búsqueda de secuencias de nuestro ejemplo, como no encuentra coincidencias bastante parecidas con el patrón, simplemente las descarta y por eso saca muchos menos frames de los esperados."
   ]
  },
  {
   "cell_type": "markdown",
   "id": "5f56c450",
   "metadata": {},
   "source": [
    "##### Búsqueda del segundo ejercicio"
   ]
  },
  {
   "cell_type": "code",
   "execution_count": 26,
   "id": "04358c41",
   "metadata": {},
   "outputs": [
    {
     "name": "stdout",
     "output_type": "stream",
     "text": [
      "El Ejercicio 2 comienza en el frame = 1853\n",
      "El Ejercicio 2 finaliza en el frame = 1856\n"
     ]
    }
   ],
   "source": [
    "path, dist = dtw_subsequence_path(array_angulos2, array_angulos_totales)\n",
    "\n",
    "path=np.array(path)\n",
    "a_ast = path[0, 1]\n",
    "b_ast = path[-1, 1]\n",
    "\n",
    "print(\"El Ejercicio 2 comienza en el frame =\",a_ast)\n",
    "print(\"El Ejercicio 2 finaliza en el frame =\",b_ast)"
   ]
  },
  {
   "cell_type": "markdown",
   "id": "87240804",
   "metadata": {},
   "source": [
    "<div class=\"alert alert-block alert-danger\">\n",
    "    En este caso la secuencia que encuentra es ridículamente pequeña y no se ubica dentro de las posibles soluciones ya que detecta la secuencia de inicio después de la secuencia de fin real. \n",
    "</div>"
   ]
  },
  {
   "cell_type": "markdown",
   "id": "6a721e07",
   "metadata": {},
   "source": [
    "##### Búsqueda del tercer ejercicio"
   ]
  },
  {
   "cell_type": "code",
   "execution_count": 27,
   "id": "56d9438c",
   "metadata": {},
   "outputs": [
    {
     "name": "stdout",
     "output_type": "stream",
     "text": [
      "El Ejercicio 3 comienza en el frame = 357\n",
      "El Ejercicio 3 finaliza en el frame = 643\n"
     ]
    }
   ],
   "source": [
    "path, dist = dtw_subsequence_path(array_angulos3, array_angulos_totales)\n",
    "\n",
    "path=np.array(path)\n",
    "a_ast = path[0, 1]\n",
    "b_ast = path[-1, 1]\n",
    "\n",
    "print(\"El Ejercicio 3 comienza en el frame =\",a_ast)\n",
    "print(\"El Ejercicio 3 finaliza en el frame =\",b_ast)"
   ]
  },
  {
   "cell_type": "markdown",
   "id": "fa667724",
   "metadata": {},
   "source": [
    "<div class=\"alert alert-block alert-danger\">\n",
    "    Nuevamente encuentra una secuencia demasiado pequeña y en posiciones incorrectas\n",
    "</div>"
   ]
  },
  {
   "cell_type": "markdown",
   "id": "d28c468c",
   "metadata": {},
   "source": [
    "##### Búsqueda del cuarto ejercicio"
   ]
  },
  {
   "cell_type": "code",
   "execution_count": 28,
   "id": "ced0d65e",
   "metadata": {},
   "outputs": [
    {
     "name": "stdout",
     "output_type": "stream",
     "text": [
      "El Ejercicio 4 comienza en el frame = 2610\n",
      "El Ejercicio 4 finaliza en el frame = 2794\n"
     ]
    }
   ],
   "source": [
    "path, dist = dtw_subsequence_path(array_angulos4, array_angulos_totales)\n",
    "\n",
    "path=np.array(path)\n",
    "a_ast = path[0, 1]\n",
    "b_ast = path[-1, 1]\n",
    "\n",
    "print(\"El Ejercicio 4 comienza en el frame =\",a_ast)\n",
    "print(\"El Ejercicio 4 finaliza en el frame =\",b_ast)"
   ]
  },
  {
   "cell_type": "markdown",
   "id": "cf04da8c",
   "metadata": {},
   "source": [
    "<div class=\"alert alert-block alert-danger\">\n",
    "    Nuevamente encuentra una secuencia demasiado pequeña y en posiciones incorrectas\n",
    "</div>"
   ]
  },
  {
   "cell_type": "markdown",
   "id": "09f93941",
   "metadata": {},
   "source": [
    "## Solución 2: Buscar el inicio y el final"
   ]
  },
  {
   "cell_type": "markdown",
   "id": "5b82cc81",
   "metadata": {},
   "source": [
    "En este caso lo que se va a plantear es, mediante la búsqueda de secuencias, se sacará el principio y el fin de cada ejercicico corto. Una vez se tienen localizados esos valores, dentro del ejercicio largo se buscarán todas las posibles coincidencias y se irán almacenando por orden de llegada. Con las secuencias almacenada se procederá a hacer las siguientes comparaciones:\n",
    "- De las secuencias de inicio se almacenará únicamente donde comienzan (a*)\n",
    "- De las secuencias de final se almacenará únicamente donde finalizan (b*)\n",
    "- Las comparaciones de secuencias se realizan entre aquellas que:\n",
    "    - a* < b*\n",
    "    - b* - a* > longitud de los frames * tasa de error\n",
    "    \n",
    "Ahora buscaremos y almacenaremos todas las secuencias de inicio y de fin dentro del array que contiene los todos los ejercicios"
   ]
  },
  {
   "cell_type": "code",
   "execution_count": 44,
   "id": "9bbc33b8",
   "metadata": {},
   "outputs": [],
   "source": [
    "from scipy.signal import find_peaks\n",
    "\n",
    "from tslearn import metrics\n",
    "from tslearn.generators import random_walks\n",
    "from tslearn.preprocessing import TimeSeriesScalerMeanVariance\n",
    "\n",
    "\n",
    "def calcule_matrix(X,Y):\n",
    "    \"\"\"\n",
    "    Función que calcula la matriz de costes locales o matriz de distancias.\n",
    "    Este cálculo se ha realizao mediante la distancia euclidiana.\n",
    "    \n",
    "    Parámetros de entrada \n",
    "    ---------------------\n",
    "    X : Secuencia corta con un ejercicio concreto.\n",
    "    Y : Secuencia larga con múltiples ejercicios.\n",
    "    \n",
    "    Salida\n",
    "    ------\n",
    "    Matriz de costes locales o de distancias.\n",
    "    \"\"\"\n",
    "    C=np.zeros((len(X),len(Y)))\n",
    "    for i in range(len(X)):\n",
    "        for j in range(len(Y)):\n",
    "            x=np.array(X[i])\n",
    "            y=np.array(Y[j])\n",
    "            \n",
    "            #Cálculo de la distancia euclídea entre dos secuencias.\n",
    "            C[i][j] = np.linalg.norm(np.array(X[i])-np.array(Y[j])) #para secuencias de varias dimensiones\n",
    "\n",
    "    return C\n",
    "\n",
    "def calcule_matrixD(C,X,Y):\n",
    "    \"\"\"\n",
    "    Función que calcula la matriz de costes acumulados.\n",
    "    Este cálculo se realizará de la siguiente forma:\n",
    "        1) La primera fila de D está inicializada como D(1,m):=C(1,m) para m € [1:M] siendo M=len(Y).\n",
    "        2) La primera columna de D está inicializada como D(n,1):=∑k=1nC(k,1) para n € [1:N] siendo N=len(X).\n",
    "        3) El resto de los valores se definen recursivamente a partir de la matriz de costes locales.\n",
    "    \n",
    "    Parámetros de entrada \n",
    "    ---------------------\n",
    "    C : Matriz de costes locales o de distancias.\n",
    "    X : Secuencia corta con un ejercicio concreto.\n",
    "    Y : Secuencia larga con múltiples ejercicios.\n",
    "    \n",
    "    Salida\n",
    "    ------\n",
    "    Matriz de costes acumulados.\n",
    "    \"\"\"\n",
    "    D=np.zeros((len(X),len(Y)))\n",
    "    D[:,0]=np.cumsum(C[:,0]) #inicialización de la primera columna\n",
    "    D[0,:]=C[0,:] #Inicialización de la primera fila \n",
    "\n",
    "    for i in range(1,len(X)):\n",
    "        for j in range(1,len(Y)):\n",
    "            D[i][j] = C[i][j]+min(D[i-1][j],D[i][j-1],D[i-1][j-1])\n",
    "            \n",
    "    return D\n",
    "\n",
    "def calcule_path(C,sz):\n",
    "    \"\"\"\n",
    "    Función que calcula las posibles rutas de deformación.\n",
    "    Estas rutas serán calculadas mediante la función scipy.signal.find_peaks que localiza picos dentro\n",
    "    de una señal. Con el argumento \"distance\" se especifica distancia horizontal mínima entre picos, cuanto \n",
    "    más restrictivo sea este parámetro, menor será el número de caminos localizados.\n",
    "    \n",
    "    Parámetros de entrada \n",
    "    ---------------------\n",
    "    C : Matriz de costes locales o de distancias.\n",
    "    sz : Parámetro que se utiliza para hacer más o menos restrictiva la búsqueda.\n",
    "    \n",
    "    Salida\n",
    "    ------\n",
    "    Posibles rutas de deformación.\n",
    "    \"\"\"\n",
    "    #Calculo del coste de la función\n",
    "    cost_func = C[-1, :]\n",
    "\n",
    "    #Identificación de los posibles caminos\n",
    "    potential_matches = find_peaks(-cost_func, distance=sz * 4.75, height=-50)[0]\n",
    "\n",
    "    #Calculo de las rutas óptimas a partir de cada uno de los mínimos identificados\n",
    "    paths = [metrics.subsequence_path(C, match) for match in potential_matches]\n",
    "    \n",
    "    return paths"
   ]
  },
  {
   "cell_type": "code",
   "execution_count": 45,
   "id": "f5c1d8aa",
   "metadata": {},
   "outputs": [
    {
     "name": "stdout",
     "output_type": "stream",
     "text": [
      "Número de posibles inicios para el ejercicio1:  6\n",
      "Número de posibles inicios para el ejercicio2:  8\n",
      "Número de posibles inicios para el ejercicio3:  5\n",
      "Número de posibles inicios para el ejercicio4:  7\n",
      "\n",
      "\n",
      "Número de posibles finales para el ejercicio1:  7\n",
      "Número de posibles finales para el ejercicio2:  7\n",
      "Número de posibles finales para el ejercicio3:  7\n",
      "Número de posibles finales para el ejercicio4:  7\n"
     ]
    }
   ],
   "source": [
    "# Las longitudes de inicio y final se han realizado a ojo simplemente para realizar las pruebas\n",
    "inicio_ej1=array_angulos1[:100] ; fin_ej1=array_angulos1[-100:]\n",
    "inicio_ej2=array_angulos1[:150] ; fin_ej2=array_angulos1[-150:]\n",
    "inicio_ej3=array_angulos1[:200] ; fin_ej3=array_angulos1[-200:]\n",
    "inicio_ej4=array_angulos1[:250] ; fin_ej4=array_angulos1[-250:]\n",
    "\n",
    "inicios = [inicio_ej1,inicio_ej2,inicio_ej3,inicio_ej4] \n",
    "finales = [fin_ej1,fin_ej2,fin_ej3,fin_ej4]\n",
    "\n",
    "supuestos_inicios=[]\n",
    "supuestos_finales=[]\n",
    "\n",
    "for i, ini in enumerate(inicios,1):\n",
    "    C=calcule_matrix(ini, array_angulos_totales)\n",
    "    paths=calcule_path(C,70)\n",
    "    print(\"Número de posibles inicios para el ejercicio\"+str(i)+\": \",len(paths))\n",
    "    #Por cada una se sacan los supuestos inicios\n",
    "    for p in paths:\n",
    "        p=np.array(p)\n",
    "        a_ast = p[0, 1]\n",
    "        supuestos_inicios.append(a_ast)\n",
    "    locals()[\"supuestos_inicios\" + str(i)]=supuestos_inicios\n",
    "    \n",
    "print(\"\\n\")    \n",
    "for i, fin in enumerate(finales,1):\n",
    "    C=calcule_matrix(fin, array_angulos_totales)\n",
    "    paths=calcule_path(C,70)\n",
    "    print(\"Número de posibles finales para el ejercicio\"+str(i)+\": \",len(paths))\n",
    "    #Por cada una se sacan los supuestos finales\n",
    "    for p in paths:\n",
    "        p=np.array(p)\n",
    "        b_ast = p[-1, 1]\n",
    "        supuestos_finales.append(b_ast)\n",
    "    locals()[\"supuestos_finales\" + str(i)]=supuestos_finales\n"
   ]
  },
  {
   "cell_type": "code",
   "execution_count": 47,
   "id": "66383862",
   "metadata": {},
   "outputs": [
    {
     "name": "stdout",
     "output_type": "stream",
     "text": [
      "Supuestos inicios para el ejercicio 1 [245, 697, 1253, 1614, 2170, 2528, 0, 287, 697, 1153, 1469, 1801, 2192, 2670, 104, 431, 1001, 2287, 2841, 0, 431, 838, 1436, 1755, 2213, 2528]\n",
      "Supuestos finales para el ejercicio 1 [122, 633, 974, 1383, 1767, 2204, 2762, 122, 633, 974, 1383, 1767, 2204, 2762, 122, 633, 974, 1383, 1767, 2204, 2762, 122, 633, 974, 1383, 1767, 2204, 2762]\n",
      "\n",
      "Supuestos inicios para el ejercicio 2 [245, 697, 1253, 1614, 2170, 2528, 0, 287, 697, 1153, 1469, 1801, 2192, 2670, 104, 431, 1001, 2287, 2841, 0, 431, 838, 1436, 1755, 2213, 2528]\n",
      "Supuestos finales para el ejercicio 2 [122, 633, 974, 1383, 1767, 2204, 2762, 122, 633, 974, 1383, 1767, 2204, 2762, 122, 633, 974, 1383, 1767, 2204, 2762, 122, 633, 974, 1383, 1767, 2204, 2762]\n",
      "\n",
      "Supuestos inicios para el ejercicio 3 [245, 697, 1253, 1614, 2170, 2528, 0, 287, 697, 1153, 1469, 1801, 2192, 2670, 104, 431, 1001, 2287, 2841, 0, 431, 838, 1436, 1755, 2213, 2528]\n",
      "Supuestos finales para el ejercicio 3 [122, 633, 974, 1383, 1767, 2204, 2762, 122, 633, 974, 1383, 1767, 2204, 2762, 122, 633, 974, 1383, 1767, 2204, 2762, 122, 633, 974, 1383, 1767, 2204, 2762]\n",
      "\n",
      "Supuestos inicios para el ejercicio 4 [245, 697, 1253, 1614, 2170, 2528, 0, 287, 697, 1153, 1469, 1801, 2192, 2670, 104, 431, 1001, 2287, 2841, 0, 431, 838, 1436, 1755, 2213, 2528]\n",
      "Supuestos finales para el ejercicio 4 [245, 697, 1253, 1614, 2170, 2528, 0, 287, 697, 1153, 1469, 1801, 2192, 2670, 104, 431, 1001, 2287, 2841, 0, 431, 838, 1436, 1755, 2213, 2528]\n"
     ]
    }
   ],
   "source": [
    "print(\"Supuestos inicios para el ejercicio 1\", supuestos_inicios1)\n",
    "print(\"Supuestos finales para el ejercicio 1\", supuestos_finales1)\n",
    "\n",
    "print(\"\\nSupuestos inicios para el ejercicio 2\", supuestos_inicios2)\n",
    "print(\"Supuestos finales para el ejercicio 2\", supuestos_finales2)\n",
    "\n",
    "print(\"\\nSupuestos inicios para el ejercicio 3\", supuestos_inicios3)\n",
    "print(\"Supuestos finales para el ejercicio 3\", supuestos_finales3)\n",
    "\n",
    "print(\"\\nSupuestos inicios para el ejercicio 4\", supuestos_inicios4)\n",
    "print(\"Supuestos finales para el ejercicio 4\", supuestos_inicios4)"
   ]
  },
  {
   "cell_type": "markdown",
   "id": "2c512dbe",
   "metadata": {},
   "source": [
    "Como se puede observar, en todos los inicios y finales hay valores muy dispersos, por lo que esto generará secuencias muy distintas.\n",
    "Para mostrar un ejemplo de una posible clasificaión se hará una única prueba con las secuencias de inicio y fin obtenidas a partir del cuarto ejercicio"
   ]
  },
  {
   "cell_type": "code",
   "execution_count": 50,
   "id": "08ac9568",
   "metadata": {},
   "outputs": [
    {
     "name": "stdout",
     "output_type": "stream",
     "text": [
      "Inicio:  245\n",
      "Final:  697\n",
      "Distancia 1:  3611.004558605163\n",
      "Distancia 2:  4036.70547511661\n",
      "Euclidean_distance:  5353.2085699453655\n",
      "Coste 1:  20645816.113429584\n",
      "Coste 2:  79930.91400297038\n",
      "Coste 3:  4132.662190832851\n",
      "Coste 4:  4056.645992273918\n",
      "Soft:  16294991.092667092\n",
      "Inicio:  245\n",
      "Final:  697\n",
      "Distancia 1:  3611.004558605163\n",
      "Distancia 2:  4036.70547511661\n",
      "Euclidean_distance:  5353.2085699453655\n",
      "Coste 1:  20645816.113429584\n",
      "Coste 2:  79930.91400297038\n",
      "Coste 3:  4132.662190832851\n",
      "Coste 4:  4056.645992273918\n",
      "Soft:  16294991.092667092\n",
      "Inicio:  697\n",
      "Final:  1153\n",
      "Distancia 1:  3580.3459139961515\n",
      "Distancia 2:  3994.1726419403603\n",
      "Euclidean_distance:  5337.520895795244\n",
      "Coste 1:  inf\n",
      "Coste 2:  79794.74652683332\n",
      "Coste 3:  4115.445992279476\n",
      "Coste 4:  4062.7847069342447\n",
      "Soft:  15953415.093624836\n",
      "Inicio:  1253\n",
      "Final:  1614\n",
      "Distancia 1:  3682.9861116006728\n",
      "Distancia 2:  3891.7726587944167\n",
      "Euclidean_distance:  5023.284512967302\n",
      "Coste 1:  17893175.037571516\n",
      "Coste 2:  73255.699079317\n",
      "Coste 3:  3941.381964124271\n",
      "Coste 4:  3897.354789643571\n",
      "Soft:  15145894.427739754\n",
      "Inicio:  1253\n",
      "Final:  1755\n",
      "Distancia 1:  3560.018366448806\n",
      "Distancia 2:  4122.677991928121\n",
      "Euclidean_distance:  5625.741561125912\n",
      "Coste 1:  25329073.2346617\n",
      "Coste 2:  82715.48333506637\n",
      "Coste 3:  4174.0528980472045\n",
      "Coste 4:  4137.938702082189\n",
      "Soft:  16996473.818419147\n",
      "Inicio:  2170\n",
      "Final:  2528\n",
      "Distancia 1:  3627.1132408007193\n",
      "Distancia 2:  3823.5875177745\n",
      "Euclidean_distance:  5045.005825254152\n",
      "Coste 1:  inf\n",
      "Coste 2:  72488.20781622334\n",
      "Coste 3:  3861.779286277854\n",
      "Coste 4:  3887.10181131001\n",
      "Soft:  14619821.506080974\n",
      "Inicio:  2170\n",
      "Final:  2670\n",
      "Distancia 1:  3627.1132408007193\n",
      "Distancia 2:  4096.137563384143\n",
      "Euclidean_distance:  5655.463375168897\n",
      "Coste 1:  23884006.788624622\n",
      "Coste 2:  83928.49012599273\n",
      "Coste 3:  4137.214783981345\n",
      "Coste 4:  4110.32983576154\n",
      "Soft:  16778342.938158367\n",
      "Inicio:  2170\n",
      "Final:  2528\n",
      "Distancia 1:  3627.1132408007193\n",
      "Distancia 2:  3823.5875177745\n",
      "Euclidean_distance:  5045.005825254152\n",
      "Coste 1:  inf\n",
      "Coste 2:  72488.20781622334\n",
      "Coste 3:  3861.779286277854\n",
      "Coste 4:  3887.10181131001\n",
      "Soft:  14619821.506080974\n",
      "Inicio:  0\n",
      "Final:  431\n",
      "Distancia 1:  3622.4296066034585\n",
      "Distancia 2:  3907.704677558423\n",
      "Euclidean_distance:  5177.21085854343\n",
      "Coste 1:  inf\n",
      "Coste 2:  76210.1687804151\n",
      "Coste 3:  4188.806810331455\n",
      "Coste 4:  3959.494279808706\n",
      "Soft:  15270155.847011967\n",
      "Inicio:  0\n",
      "Final:  431\n",
      "Distancia 1:  3622.4296066034585\n",
      "Distancia 2:  3907.704677558423\n",
      "Euclidean_distance:  5177.21085854343\n",
      "Coste 1:  inf\n",
      "Coste 2:  76210.1687804151\n",
      "Coste 3:  4188.806810331455\n",
      "Coste 4:  3959.494279808706\n",
      "Soft:  15270155.847011967\n",
      "Inicio:  287\n",
      "Final:  697\n",
      "Distancia 1:  3611.004558605163\n",
      "Distancia 2:  3968.6731074812888\n",
      "Euclidean_distance:  5201.041027605738\n",
      "Coste 1:  inf\n",
      "Coste 2:  77984.08201525966\n",
      "Coste 3:  4005.694900408879\n",
      "Coste 4:  3990.4720724133317\n",
      "Soft:  15750366.233910438\n",
      "Inicio:  287\n",
      "Final:  697\n",
      "Distancia 1:  3611.004558605163\n",
      "Distancia 2:  3968.6731074812888\n",
      "Euclidean_distance:  5201.041027605738\n",
      "Coste 1:  inf\n",
      "Coste 2:  77984.08201525966\n",
      "Coste 3:  4005.694900408879\n",
      "Coste 4:  3990.4720724133317\n",
      "Soft:  15750366.233910438\n",
      "Inicio:  697\n",
      "Final:  1153\n",
      "Distancia 1:  3580.3459139961515\n",
      "Distancia 2:  3994.1726419403603\n",
      "Euclidean_distance:  5337.520895795244\n",
      "Coste 1:  inf\n",
      "Coste 2:  79794.74652683332\n",
      "Coste 3:  4115.445992279476\n",
      "Coste 4:  4062.7847069342447\n",
      "Soft:  15953415.093624836\n",
      "Inicio:  1153\n",
      "Final:  1614\n",
      "Distancia 1:  3568.0801595238017\n",
      "Distancia 2:  4070.0764779489323\n",
      "Euclidean_distance:  5284.007995454653\n",
      "Coste 1:  inf\n",
      "Coste 2:  81119.0291519392\n",
      "Coste 3:  4141.3112268141895\n",
      "Coste 4:  4114.820068621966\n",
      "Soft:  16565522.53616283\n",
      "Inicio:  1801\n",
      "Final:  2170\n",
      "Distancia 1:  3602.413749865835\n",
      "Distancia 2:  3844.9237099282786\n",
      "Euclidean_distance:  5086.720730343451\n",
      "Coste 1:  18769272.958250303\n",
      "Coste 2:  74402.50133261396\n",
      "Coste 3:  3863.972199550851\n",
      "Coste 4:  3891.3662885652398\n",
      "Soft:  14783437.922308639\n",
      "Inicio:  1801\n",
      "Final:  2192\n",
      "Distancia 1:  3602.413749865835\n",
      "Distancia 2:  3919.8913920200544\n",
      "Euclidean_distance:  5163.874042170415\n",
      "Coste 1:  19688128.593071096\n",
      "Coste 2:  75940.90724771231\n",
      "Coste 3:  3946.63033026687\n",
      "Coste 4:  3967.582632576564\n",
      "Soft:  15365548.112372935\n",
      "Inicio:  1801\n",
      "Final:  2287\n",
      "Distancia 1:  3602.413749865835\n",
      "Distancia 2:  4122.397661834382\n",
      "Euclidean_distance:  5577.391462638422\n",
      "Coste 1:  23953641.29660073\n",
      "Coste 2:  82988.6406029734\n",
      "Coste 3:  4161.993186696231\n",
      "Coste 4:  4136.189756497723\n",
      "Soft:  16994162.071226206\n",
      "Inicio:  1801\n",
      "Final:  2213\n",
      "Distancia 1:  3602.413749865835\n",
      "Distancia 2:  3953.7580799353036\n",
      "Euclidean_distance:  5193.066474688356\n",
      "Coste 1:  20240875.84764965\n",
      "Coste 2:  77160.6148977304\n",
      "Coste 3:  4027.0524098804362\n",
      "Coste 4:  3976.491744923202\n",
      "Soft:  15632202.541793726\n",
      "Inicio:  2192\n",
      "Final:  2670\n",
      "Distancia 1:  3627.1132408007193\n",
      "Distancia 2:  4062.0443517409362\n",
      "Euclidean_distance:  5353.985889115156\n",
      "Coste 1:  23072207.370996285\n",
      "Coste 2:  82598.39078429772\n",
      "Coste 3:  4106.620410690348\n",
      "Coste 4:  4075.3629972315066\n",
      "Soft:  16500204.315510461\n",
      "Inicio:  431\n",
      "Final:  838\n",
      "Distancia 1:  3627.843811235522\n",
      "Distancia 2:  3927.1965589310566\n",
      "Euclidean_distance:  5187.379006458734\n",
      "Coste 1:  inf\n",
      "Coste 2:  76771.75100245798\n",
      "Coste 3:  4014.9362127630607\n",
      "Coste 4:  3936.471774575617\n",
      "Soft:  15422872.73950251\n",
      "Inicio:  1001\n",
      "Final:  1469\n",
      "Distancia 1:  3565.6784293895494\n",
      "Distancia 2:  3994.548729476223\n",
      "Euclidean_distance:  5329.192245501948\n",
      "Coste 1:  24064567.22365347\n",
      "Coste 2:  79856.48312824602\n",
      "Coste 3:  4079.502406898515\n",
      "Coste 4:  4049.723428093069\n",
      "Soft:  15956419.45556608\n",
      "Inicio:  1001\n",
      "Final:  1436\n",
      "Distancia 1:  3565.6784293895494\n",
      "Distancia 2:  3922.921904421033\n",
      "Euclidean_distance:  5120.580517271236\n",
      "Coste 1:  22338087.48542658\n",
      "Coste 2:  76601.5911945276\n",
      "Coste 3:  4391.792680978457\n",
      "Coste 4:  3950.823681657563\n",
      "Soft:  15389316.171592321\n",
      "Inicio:  2287\n",
      "Final:  2670\n",
      "Distancia 1:  3627.1132408007193\n",
      "Distancia 2:  3858.863515733709\n",
      "Euclidean_distance:  5037.926986660139\n",
      "Coste 1:  19416118.303165827\n",
      "Coste 2:  75094.54802618676\n",
      "Coste 3:  3873.588350656856\n",
      "Coste 4:  3880.0617929004793\n",
      "Soft:  14890827.633060718\n",
      "Inicio:  0\n",
      "Final:  431\n",
      "Distancia 1:  3622.4296066034585\n",
      "Distancia 2:  3907.704677558423\n",
      "Euclidean_distance:  5177.21085854343\n",
      "Coste 1:  inf\n",
      "Coste 2:  76210.1687804151\n",
      "Coste 3:  4188.806810331455\n",
      "Coste 4:  3959.494279808706\n",
      "Soft:  15270155.847011967\n",
      "Inicio:  0\n",
      "Final:  431\n",
      "Distancia 1:  3622.4296066034585\n",
      "Distancia 2:  3907.704677558423\n",
      "Euclidean_distance:  5177.21085854343\n",
      "Coste 1:  inf\n",
      "Coste 2:  76210.1687804151\n",
      "Coste 3:  4188.806810331455\n",
      "Coste 4:  3959.494279808706\n",
      "Soft:  15270155.847011967\n",
      "Inicio:  431\n",
      "Final:  838\n",
      "Distancia 1:  3627.843811235522\n",
      "Distancia 2:  3927.1965589310566\n",
      "Euclidean_distance:  5187.379006458734\n",
      "Coste 1:  inf\n",
      "Coste 2:  76771.75100245798\n",
      "Coste 3:  4014.9362127630607\n",
      "Coste 4:  3936.471774575617\n",
      "Soft:  15422872.73950251\n",
      "Inicio:  838\n",
      "Final:  1253\n",
      "Distancia 1:  3583.5578367072017\n",
      "Distancia 2:  3853.6718570062226\n",
      "Euclidean_distance:  5258.496168561241\n",
      "Coste 1:  inf\n",
      "Coste 2:  74294.25970541609\n",
      "Coste 3:  3950.9599997776895\n",
      "Coste 4:  3874.1606853195535\n",
      "Soft:  14850786.60682694\n",
      "Inicio:  1436\n",
      "Final:  1801\n",
      "Distancia 1:  3560.018366448806\n",
      "Distancia 2:  3837.891671227678\n",
      "Euclidean_distance:  5071.786845194079\n",
      "Coste 1:  19470586.982196443\n",
      "Coste 2:  72865.17427462654\n",
      "Coste 3:  3856.8711491358126\n",
      "Coste 4:  3869.5842426793733\n",
      "Soft:  14729412.480078183\n",
      "Inicio:  1755\n",
      "Final:  2170\n",
      "Distancia 1:  3602.413749865835\n",
      "Distancia 2:  3898.9157879377403\n",
      "Euclidean_distance:  5112.0766234652865\n",
      "Coste 1:  19906157.275118377\n",
      "Coste 2:  76457.08815417456\n",
      "Coste 3:  3939.697614703016\n",
      "Coste 4:  3905.716462185652\n",
      "Soft:  15201543.908570167\n",
      "Inicio:  1755\n",
      "Final:  2192\n",
      "Distancia 1:  3602.413749865835\n",
      "Distancia 2:  3972.8647738746977\n",
      "Euclidean_distance:  5159.8699004730415\n",
      "Coste 1:  20703319.57973508\n",
      "Coste 2:  78559.13335357001\n",
      "Coste 3:  4614.749614825315\n",
      "Coste 4:  3988.960906102228\n",
      "Soft:  15783654.098634463\n",
      "Inicio:  1755\n",
      "Final:  2213\n",
      "Distancia 1:  3602.413749865835\n",
      "Distancia 2:  4006.2836820319194\n",
      "Euclidean_distance:  5324.87574608621\n",
      "Coste 1:  22048781.8806391\n",
      "Coste 2:  79911.1212611992\n",
      "Coste 3:  4124.809015036231\n",
      "Coste 4:  4016.086525112555\n",
      "Soft:  16050308.528055254\n",
      "Inicio:  2213\n",
      "Final:  2670\n",
      "Distancia 1:  3627.1132408007193\n",
      "Distancia 2:  3982.856194342402\n",
      "Euclidean_distance:  5283.066262149838\n",
      "Coste 1:  21663045.492463104\n",
      "Coste 2:  80094.3985810229\n",
      "Coste 3:  4127.156755133874\n",
      "Coste 4:  3996.0634002100496\n",
      "Soft:  15863143.464810906\n"
     ]
    }
   ],
   "source": [
    "from tslearn.metrics import dtw_subsequence_path\n",
    "from dtaidistance import dtw_ndim\n",
    "from pydtw import dtw2d\n",
    "from tslearn.metrics import dtw_path_from_metric\n",
    "from tslearn.metrics import dtw, dtw_path\n",
    "from tslearn.metrics import soft_dtw\n",
    "\n",
    "\n",
    "def classify(array_angulos4,array_angulos_totales):\n",
    "    lon_ej1=len(array_angulos4)\n",
    "    error=lon_ej1*0.2\n",
    "    seq_ej1=[]\n",
    "    rate_error=20\n",
    "\n",
    "    for a in supuestos_inicios4:\n",
    "        for b in supuestos_inicios4:\n",
    "            diferencia=b-a\n",
    "            if a < b and diferencia < lon_ej1+error and diferencia > lon_ej1-error:\n",
    "                print(\"Inicio: \",a)\n",
    "                print(\"Final: \",b)\n",
    "\n",
    "                serie1=np.array(array_angulos4)\n",
    "                serie2=np.array(array_angulos_totales[a:b+1])\n",
    "\n",
    "                path, dist = dtw_subsequence_path(serie1, serie2)\n",
    "                print(\"Distancia 1: \",dist)\n",
    "\n",
    "                distance = dtw_ndim.distance(serie1,serie2)\n",
    "                print(\"Distancia 2: \",distance)\n",
    "\n",
    "                euclidean_distance = dtw_ndim.ub_euclidean(serie1,serie2)\n",
    "                print(\"Euclidean_distance: \",euclidean_distance)\n",
    "\n",
    "                cost_matrix, cost, alignmend_a, alignmend_b = dtw2d(serie1,serie2)\n",
    "                print('Coste 1: ',cost)\n",
    "\n",
    "                optimal_path, cost = dtw_path_from_metric(serie1, serie2)\n",
    "                print(\"Coste 2: \",cost)\n",
    "\n",
    "                cost = dtw(serie1, serie2, global_constraint=\"sakoe_chiba\", sakoe_chiba_radius=0.5)\n",
    "                print(\"Coste 3: \",cost)\n",
    "\n",
    "                cost = dtw(serie1, serie2, global_constraint=\"itakura\", itakura_max_slope=2.)\n",
    "                print(\"Coste 4: \",cost)\n",
    "\n",
    "                soft_dtw_score = soft_dtw(serie1, serie2, gamma=1.5)\n",
    "                print(\"Soft: \",soft_dtw_score)\n",
    "                \n",
    "classify(array_angulos4,array_angulos_totales)            "
   ]
  },
  {
   "cell_type": "markdown",
   "id": "a9502b8b",
   "metadata": {},
   "source": [
    "<div class=\"alert alert-block alert-danger\">\n",
    "\n",
    "<b> PROBLEMAS </b>\n",
    "- La primera coincidencia encuentra más o menos la secuencia, es decir, ni siqueiera encuentra una secuencia fiable.\n",
    "- Localiza DEMASIADAS secuencias.\n",
    "- La distancia DTW es similar entre todas, de hecho, la secuencia correcta tiene una distancia DTW mayor que otras secuencias incorrectas.\n",
    "    \n",
    "    \n",
    "En principio podría pensarse que esto se puede deber a que el inicio y el final del Ejercicio 4 puede asemejarse bastante a otras partes o movimientos de otros ejercicios, pero tras probar con todos y cada uno de los ejercicios se ha demostrado que los resultados son muy parecidos\n",
    "    \n",
    "</div>"
   ]
  },
  {
   "cell_type": "markdown",
   "id": "294c6e9b",
   "metadata": {},
   "source": [
    "## Solución 3: Buscar una secuencia intermedia "
   ]
  },
  {
   "cell_type": "markdown",
   "id": "06123a3d",
   "metadata": {},
   "source": [
    "Para esta posible solución se va a obtener una secuencia intermedia del Ejercicio 1. Esta secuencia se obtiene a mano tras analizar la longitud de la secuencia respectiva a al ejercicio mencionado. "
   ]
  },
  {
   "cell_type": "code",
   "execution_count": 66,
   "id": "ed16a997",
   "metadata": {},
   "outputs": [],
   "source": [
    "middel_ej1 = array_angulos1[387:542]"
   ]
  },
  {
   "cell_type": "code",
   "execution_count": 67,
   "id": "99269d9e",
   "metadata": {},
   "outputs": [
    {
     "name": "stdout",
     "output_type": "stream",
     "text": [
      "El Ejercicio 1 comienza en el frame = 2520\n",
      "El Ejercicio 1 finaliza en el frame = 2574\n"
     ]
    }
   ],
   "source": [
    "from tslearn.metrics import dtw_subsequence_path\n",
    "\n",
    "path, dist = dtw_subsequence_path(middel_ej1, array_angulos_totales)\n",
    "#print(path)\n",
    "#print(dist)\n",
    "\n",
    "path=np.array(path)\n",
    "a_ast = path[0, 1]\n",
    "b_ast = path[-1, 1]\n",
    "\n",
    "print(\"El Ejercicio 1 comienza en el frame =\",a_ast)\n",
    "print(\"El Ejercicio 1 finaliza en el frame =\",b_ast)\n",
    "#print(\"La subsecuencia que debería encontrar es: \",array_angulos1)\n",
    "#array_angulos_total[a_ast:b_ast+1]"
   ]
  },
  {
   "cell_type": "markdown",
   "id": "4aa2d8d4",
   "metadata": {},
   "source": [
    "<div class=\"alert alert-block alert-danger\">\n",
    "    Nuevamente, se puede observar que no encuentra correctamente el ejercicio.\n",
    "</div>"
   ]
  },
  {
   "cell_type": "markdown",
   "id": "d69fc5d5",
   "metadata": {},
   "source": [
    "Una posible opción seria proceder como en el caso anterior. Buscar todas las posibles secuencias y después clasificarlas. \n",
    "\n",
    "Como se ha comprobado que la forma de clasificarlas no es idónea para este estudio, este apartado simplemente se deja planteado"
   ]
  },
  {
   "cell_type": "code",
   "execution_count": 58,
   "id": "abf316d1",
   "metadata": {},
   "outputs": [
    {
     "name": "stdout",
     "output_type": "stream",
     "text": [
      "\n",
      "Matriz de distancias o matriz de costes locales con sqrt(x[i] - y[j])^2:\n",
      "  [[239.8002441  222.44576493 238.121359   ... 137.03028567 233.33104238\n",
      "  139.83000002]\n",
      " [249.53563278 146.51855963 244.41735526 ... 146.07652176 244.76971027\n",
      "  149.29979946]\n",
      " [205.47466906 235.07217244 205.14447666 ... 157.55064019 199.72730947\n",
      "  164.91090677]\n",
      " ...\n",
      " [194.98593599  42.62383054 188.89073083 ... 199.23474985 191.36985163\n",
      "  209.79279671]\n",
      " [206.12860504 267.30499585 207.12010949 ... 196.61849588 202.41559284\n",
      "  205.20614482]\n",
      " [243.32230263 221.51221214 241.55175408 ... 137.54519525 236.83244581\n",
      "  139.69336705]]\n",
      "\n",
      " Número de caminos óptimos:  6\n"
     ]
    }
   ],
   "source": [
    "C=calcule_matrix(np.array(middel_ej1), np.array(array_angulos_totales))\n",
    "print(\"\\nMatriz de distancias o matriz de costes locales con sqrt(x[i] - y[j])^2:\\n \",C) \n",
    "\n",
    "cost_func = C[-1, :]\n",
    "\n",
    "sz=90\n",
    "potential_matches = find_peaks(-cost_func, distance=sz * 4.75, height=-50)[0]\n",
    "\n",
    "paths = [metrics.subsequence_path(C, match) for match in potential_matches]\n",
    "print(\"\\n Número de caminos óptimos: \",len(paths))\n",
    "\n",
    "supuestos_finales=[]\n",
    "supuestos_inicios=[]\n",
    "for p in paths:\n",
    "    p=np.array(p)\n",
    "    a_ast = p[0, 1]\n",
    "    b_ast = p[-1, 1]\n",
    "    supuestos_inicios.append(b_ast)\n",
    "    supuestos_finales.append(b_ast)\n",
    "#supuestos_finales"
   ]
  },
  {
   "cell_type": "markdown",
   "id": "a567f867",
   "metadata": {},
   "source": [
    "<div class=\"alert alert-block alert-danger\">\n",
    "\n",
    "Se podría pensar que como los ejercicios intermedios tienden a ser más distintos entre ellos, por ejemplo, los ejercicios casi siempre empieza y termina en un estado de reposo, analizando las secuencias intermedias se iban a obtener mejores resultados, pero la realidad ha sido la misma que en el caso anterior.\n",
    "\n",
    "- Sigue sacando un montón de posibles rutas de deformación.\n",
    "- Los valores de peso y distancia son demasiado parecidos para poder acotar las secuencias.\n",
    "- Al acotar con valores demasiado ambiciosos acaba eliminando la secuencia correcta.\n",
    "    \n",
    "</div>"
   ]
  },
  {
   "cell_type": "markdown",
   "id": "e3332127",
   "metadata": {},
   "source": [
    "<div class=\"alert alert-block alert-warning\">\n",
    "<b> CONCLUSIÓN </b>\n",
    "Ninguna de las técnicas mostradas en este cuaderno es válida para la búsqueda de secuencias compuestas por posiciones de esqueleto\n",
    "</div>\n"
   ]
  }
 ],
 "metadata": {
  "kernelspec": {
   "display_name": "Python 3",
   "language": "python",
   "name": "python3"
  },
  "language_info": {
   "codemirror_mode": {
    "name": "ipython",
    "version": 3
   },
   "file_extension": ".py",
   "mimetype": "text/x-python",
   "name": "python",
   "nbconvert_exporter": "python",
   "pygments_lexer": "ipython3",
   "version": "3.8.8"
  }
 },
 "nbformat": 4,
 "nbformat_minor": 5
}
