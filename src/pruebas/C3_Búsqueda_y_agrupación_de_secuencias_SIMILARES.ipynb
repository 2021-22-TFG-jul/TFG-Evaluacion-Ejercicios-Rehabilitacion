{
 "cells": [
  {
   "cell_type": "markdown",
   "id": "9e8b9e7f",
   "metadata": {},
   "source": [
    "# Búsqueda de secuencias multidimensionales\n",
    "\n",
    "### Autora: Lucía Núñez Calvo\n",
    "\n",
    "#### Fecha: 22 de Marzo de 2022\n",
    "\n",
    "En este cuaderno se van a mostrar varios ejemplos de como con la librería \"Tslearn\" se encuentran ya no sólo una secuencia igual dentro de una de mayor tamaño si no también secuencias similares multidimensionales.\n",
    "Por otra parte, se mostrará una posible implementación del agrupamiento de todas las secuencias parecidas a un patrón de referencia dentro de una secuencia de mayor tamaño"
   ]
  },
  {
   "cell_type": "code",
   "execution_count": 1,
   "id": "7fc2029b",
   "metadata": {},
   "outputs": [],
   "source": [
    "import random\n",
    "import numpy as np\n",
    "from tslearn.metrics import dtw_subsequence_path"
   ]
  },
  {
   "cell_type": "code",
   "execution_count": 18,
   "id": "e1e63f2d",
   "metadata": {},
   "outputs": [
    {
     "name": "stdout",
     "output_type": "stream",
     "text": [
      "- Ruta:  [(0, 8), (1, 9), (2, 10), (3, 11)]\n",
      "\n",
      "- Distancia:  0.9572878355019743\n",
      "\n",
      "- El patrón de referencia es: [[134.56, 454.56], [457.76, 56.67], [3.45, 345.4], [987.7, 45.66]]\n",
      "\n",
      "- La subsecuencia más parecida y la que debería encontrar es: [[134.76, 454.45], [457.81, 56.23], [3.04, 345.44], [987.27, 45.1]]\n",
      "\n",
      "- Tamaño de la secuencia larga 20\n",
      "\n",
      "- Posición en la que empieza la subsecuencia del array de mayor tamaño:  8\n",
      "\n",
      "- Posición en la que acaba la subsecuencia del array de mayor tamaño:  11\n",
      "\n",
      "-Subsecuencia encontrada:  [[134.76 454.45]\n",
      " [457.81  56.23]\n",
      " [  3.04 345.44]\n",
      " [987.27  45.1 ]]\n"
     ]
    }
   ],
   "source": [
    "#Patrón de referencia\n",
    "pattern_2D=[[134.56, 454.56], [457.76, 56.67], [3.45, 345.4], [987.7, 45.66]]\n",
    "\n",
    "#Subsecuencia más parecida (Cambiamos solo los decimales)\n",
    "subsequence_1_2D = [[134.76, 454.45], [457.81, 56.23], [3.04, 345.44], [987.27, 45.1]]\n",
    "\n",
    "#Otras secuencias relativamente parecidas\n",
    "sequence_1_2D = [[145.43, 453.12], [458.45, 52.43], [3.36, 347.56], [985.65, 44.10]]\n",
    "sequence_2_2D = [[137.55, 454.23], [450.67, 56.34], [2.75, 346.34], [988.45, 46.51]]\n",
    "\n",
    "#Secuencias sin parecidos\n",
    "sequence_3_2D = [[543.67, 5.43], [345.89, 156.17], [334.54, 556.02], [3.25, 345.61]]\n",
    "sequence_4_2D = [[77.09, 54.67], [99.64, 656.71], [356.75, 56.34], [77.23, 65.18]]\n",
    "\n",
    "large_sequence_2D = np.concatenate((sequence_1_2D,sequence_3_2D,subsequence_1_2D,sequence_4_2D,sequence_2_2D)\n",
    "                                    ,axis=0)\n",
    "\n",
    "path, dist = dtw_subsequence_path(pattern_2D, large_sequence_2D)\n",
    "print(\"- Ruta: \",path)\n",
    "print(\"\\n- Distancia: \",dist)\n",
    "\n",
    "path=np.array(path)\n",
    "a_ast = path[0, 1]\n",
    "b_ast = path[-1, 1]\n",
    "\n",
    "print(\"\\n- El patrón de referencia es: [[134.56, 454.56], [457.76, 56.67], [3.45, 345.4], [987.7, 45.66]]\")\n",
    "print(\"\\n- La subsecuencia más parecida y la que debería encontrar es: [[134.76, 454.45], [457.81, 56.23], [3.04, 345.44], [987.27, 45.1]]\")\n",
    "print(\"\\n- Tamaño de la secuencia larga\", len(large_sequence_2D))\n",
    "print(\"\\n- Posición en la que empieza la subsecuencia del array de mayor tamaño: \", a_ast)\n",
    "print(\"\\n- Posición en la que acaba la subsecuencia del array de mayor tamaño: \", b_ast)\n",
    "\n",
    "print(\"\\n-Subsecuencia encontrada: \",large_sequence_2D[a_ast:b_ast+1])"
   ]
  },
  {
   "cell_type": "markdown",
   "id": "37af7cd5",
   "metadata": {},
   "source": [
    "<div class=\"alert alert-block alert-success\">\n",
    "    Se puede ver como devuelve la secuencia más parecida al patrón de referencia\n",
    "</div>"
   ]
  },
  {
   "cell_type": "markdown",
   "id": "e688f30d",
   "metadata": {},
   "source": [
    "# Búsqueda y agrupamiento de varias series similares "
   ]
  },
  {
   "cell_type": "markdown",
   "id": "a72e6569",
   "metadata": {},
   "source": [
    "Vamos a crear una serie de datos unidimensionales para probar el almacenamiento de secuencias similares"
   ]
  },
  {
   "cell_type": "code",
   "execution_count": 19,
   "id": "791f0724",
   "metadata": {},
   "outputs": [
    {
     "name": "stdout",
     "output_type": "stream",
     "text": [
      "- Ruta:  [(0, 1518), (1, 1519), (2, 1520), (3, 1521), (4, 1522), (5, 1523), (6, 1524), (7, 1525), (8, 1526)]\n",
      "\n",
      "- Distancia:  1.0192644406629983\n",
      "\n",
      "- El patrón de referencia es: [134.56, 454.56, 457.76, 56.67, 3.45, 345.4, 987.7, 45.66, 5.76]\n",
      "\n",
      "- La subsecuencia más parecida y la que debería encontrar es: [134.76, 454.45, 457.81, 56.23, 3.04, 345.44, 987.27, 45.1, 5.41]\n",
      "\n",
      "- Tamaño de la secuencia larga 2027\n",
      "\n",
      "- Posición en la que empieza la subsecuencia:  1518\n",
      "\n",
      "- Posición en la que acaba la subsecuencia:  1526\n",
      "\n",
      "-Subsecuencia encontrada:  [134.76 454.45 457.81  56.23   3.04 345.44 987.27  45.1    5.41]\n"
     ]
    }
   ],
   "source": [
    "import numpy as np\n",
    "import random\n",
    "from tslearn.metrics import dtw_subsequence_path\n",
    "\n",
    "#Patrón de referencia\n",
    "pattern=[134.56, 454.56, 457.76, 56.67, 3.45, 345.4, 987.7, 45.66, 5.76]\n",
    "\n",
    "#Subsecuencia más parecida (Cambiamos solo los decimales)\n",
    "subsequence_1 = [134.76, 454.45, 457.81, 56.23, 3.04, 345.44, 987.27, 45.1, 5.41]\n",
    "\n",
    "#Subsecuancia cambiando los decimales y dos valores enteros\n",
    "subsequence_2 = [134.46, 454.48, 450.84, 56.33, 3.07, 345.42, 998.23, 45.32, 5.51]\n",
    "\n",
    "#Subsecuancia cambiando los decimales y tres valores enteros\n",
    "subsequence_3 = [134.62, 420.53, 451.62, 56.34, 3.09, 345.27, 977.75, 45.42, 5.55]\n",
    "\n",
    "def initialize(n):\n",
    "    sequence = np.zeros(n)\n",
    "    \n",
    "    for i in range(n):\n",
    "        sequence[i] = round(random.uniform(1.55, 999.95),2)\n",
    "        \n",
    "    return sequence\n",
    "\n",
    "sequence_1 = initialize(500)\n",
    "sequence_2 = initialize(500)\n",
    "sequence_3 = initialize(500)\n",
    "sequence_4 = initialize(500)\n",
    "\n",
    "large_sequence = np.concatenate((sequence_1,\n",
    "                                 subsequence_3,\n",
    "                                 sequence_2,\n",
    "                                 subsequence_2,\n",
    "                                 sequence_3,\n",
    "                                 subsequence_1,\n",
    "                                 sequence_4), axis=None)\n",
    "\n",
    "path, dist = dtw_subsequence_path(pattern, large_sequence)\n",
    "print(\"- Ruta: \",path)\n",
    "print(\"\\n- Distancia: \",dist)\n",
    "\n",
    "path=np.array(path)\n",
    "a_ast = path[0, 1]\n",
    "b_ast = path[-1, 1]\n",
    "\n",
    "print(\"\\n- El patrón de referencia es: [134.56, 454.56, 457.76, 56.67, 3.45, 345.4, 987.7, 45.66, 5.76]\")\n",
    "print(\"\\n- La subsecuencia más parecida y la que debería encontrar es: [134.76, 454.45, 457.81, 56.23, 3.04, 345.44, 987.27, 45.1, 5.41]\")\n",
    "print(\"\\n- Tamaño de la secuencia larga\", len(large_sequence))\n",
    "print(\"\\n- Posición en la que empieza la subsecuencia: \", a_ast)\n",
    "print(\"\\n- Posición en la que acaba la subsecuencia: \", b_ast)\n",
    "print(\"\\n-Subsecuencia encontrada: \",large_sequence[a_ast:b_ast+1])"
   ]
  },
  {
   "cell_type": "markdown",
   "id": "a61f04ad",
   "metadata": {},
   "source": [
    "Como se puede comprobar, al igual que en el caso anterior encuentra la secuencia parecida a la perfección.\n",
    "Ahora se van a calcular las matrices de costes acumulados y locales "
   ]
  },
  {
   "cell_type": "code",
   "execution_count": 22,
   "id": "38144c54",
   "metadata": {},
   "outputs": [
    {
     "name": "stdout",
     "output_type": "stream",
     "text": [
      "\n",
      "Matriz de distancias o matriz de costes locales con sqrt(x[i] - y[j])^2:\n",
      "  [[652.31 860.84 376.78 ... 360.12 678.86 408.39]\n",
      " [332.31 540.84  56.78 ...  40.12 358.86  88.39]\n",
      " [329.11 537.64  53.58 ...  36.92 355.66  85.19]\n",
      " ...\n",
      " [200.83   7.7  476.36 ... 493.02 174.28 444.75]\n",
      " [741.21 949.74 465.68 ... 449.02 767.76 497.29]\n",
      " [781.11 989.64 505.58 ... 488.92 807.66 537.19]]\n",
      "\n",
      "Matriz de costes acumulados:\n",
      "  [[ 652.31  860.84  376.78 ...  360.12  678.86  408.39]\n",
      " [ 984.62 1193.15  433.56 ...   69.76  428.62  496.78]\n",
      " [1313.73 1522.26  487.14 ...   66.56  422.22  507.41]\n",
      " ...\n",
      " [3469.65 3276.52 2092.   ... 1394.44 1224.98 1669.73]\n",
      " [4210.86 4226.26 2557.68 ... 1843.46 1992.74 1722.27]\n",
      " [4991.97 5200.5  3063.26 ... 2332.38 2651.12 2259.46]]\n"
     ]
    }
   ],
   "source": [
    "def calcule_matrix(X,Y):\n",
    "    # Matriz de distancias \n",
    "    C=np.zeros((len(X),len(Y)))\n",
    "\n",
    "    for i in range(len(X)):\n",
    "        for j in range(len(Y)):\n",
    "            C[i][j] = np.sqrt(pow(abs((X[i]-Y[j])),2)) #Distancia euclidiana \n",
    "            #C[i][j] = abs((X[i]-Y[j])) #Distancia manhattan\n",
    "            \n",
    "    # Matriz de costes acumulados        \n",
    "    D=np.zeros((len(X),len(Y)))\n",
    "    D[:,0]=np.cumsum(C[:,0]) #inicialización de la primera columna\n",
    "    D[0,:]=C[0,:] #Inicialización de la primera fila \n",
    "\n",
    "    for i in range(1,len(X)):\n",
    "        for j in range(1,len(Y)):\n",
    "            D[i][j] = C[i][j]+min(D[i-1][j],D[i][j-1],D[i-1][j-1])\n",
    "    return C,D\n",
    "\n",
    "C,D=calcule_matrix(pattern,large_sequence)\n",
    "print(\"\\nMatriz de distancias o matriz de costes locales con sqrt(x[i] - y[j])^2:\\n \",C) \n",
    "print(\"\\nMatriz de costes acumulados:\\n \",D) "
   ]
  },
  {
   "cell_type": "markdown",
   "id": "ae8d2a76",
   "metadata": {},
   "source": [
    "Una vez se tienen calculadas ambas matrices, se usará la matriz de costes locales para obtener el coste total que vendrá determinado por el último valor de dicha matriz. Lo siguiente será localizar las posibles rutas dentro de la matriz de costes "
   ]
  },
  {
   "cell_type": "code",
   "execution_count": 28,
   "id": "8a9edbc3",
   "metadata": {},
   "outputs": [
    {
     "name": "stdout",
     "output_type": "stream",
     "text": [
      "Rutas óptimas:  [[(0, 0), (1, 0), (2, 0), (3, 0), (4, 0), (5, 0), (6, 0), (6, 1), (7, 2), (7, 3), (7, 4), (7, 5), (7, 6), (7, 7), (8, 7)], [(0, 19), (1, 20), (1, 21), (1, 22), (1, 23), (1, 24), (1, 25), (2, 25), (2, 26), (3, 27), (3, 28), (4, 28), (5, 29), (5, 30), (6, 31), (6, 32), (7, 33), (8, 33)], [(0, 42), (1, 42), (2, 42), (3, 42), (4, 42), (5, 42), (6, 43), (6, 44), (6, 45), (7, 46), (7, 47), (8, 47)], [(0, 62), (1, 63), (2, 63), (3, 64), (4, 64), (5, 65), (6, 66), (7, 67), (7, 68), (7, 69), (8, 69)], [(0, 139), (1, 139), (2, 139), (3, 139), (4, 139), (5, 139), (6, 140), (7, 141), (8, 141)], [(0, 155), (1, 155), (2, 155), (3, 155), (4, 155), (5, 156), (5, 157), (5, 158), (6, 159), (6, 160), (7, 161), (8, 161)], [(0, 190), (1, 190), (2, 190), (3, 190), (4, 190), (5, 191), (6, 192), (6, 193), (6, 194), (7, 195), (7, 196), (7, 197), (7, 198), (8, 199)], [(0, 207), (1, 207), (2, 207), (3, 208), (4, 208), (5, 208), (6, 209), (7, 210), (7, 211), (7, 212), (8, 212)], [(0, 258), (1, 258), (2, 258), (3, 258), (4, 258), (5, 258), (6, 259), (6, 260), (7, 261), (8, 261)], [(0, 292), (1, 292), (2, 292), (3, 292), (4, 292), (5, 293), (5, 294), (5, 295), (6, 296), (6, 297), (7, 298), (7, 299), (7, 300), (7, 301), (8, 301)], [(0, 313), (1, 314), (1, 315), (1, 316), (2, 316), (3, 317), (4, 317), (5, 318), (5, 319), (5, 320), (6, 320), (7, 321), (8, 321)], [(0, 336), (1, 336), (2, 336), (3, 337), (4, 337), (5, 338), (5, 339), (6, 340), (6, 341), (7, 342), (7, 343), (7, 344), (7, 345), (8, 345)], [(0, 406), (1, 406), (2, 406), (3, 406), (3, 407), (4, 407), (5, 408), (6, 408), (7, 409), (7, 410), (7, 411), (8, 411)], [(0, 415), (1, 415), (2, 415), (3, 415), (4, 415), (5, 415), (5, 416), (5, 417), (6, 418), (7, 419), (8, 419)], [(0, 429), (1, 429), (2, 429), (3, 430), (4, 430), (5, 431), (5, 432), (5, 433), (5, 434), (5, 435), (5, 436), (5, 437), (5, 438), (6, 439), (7, 440), (8, 440)], [(0, 453), (1, 453), (2, 453), (3, 453), (4, 453), (5, 453), (5, 454), (6, 455), (7, 456), (7, 457), (7, 458), (8, 459)], [(0, 500), (1, 501), (1, 502), (2, 502), (3, 503), (4, 504), (5, 505), (6, 506), (7, 507), (8, 508)], [(0, 544), (1, 544), (2, 544), (3, 544), (4, 544), (5, 545), (5, 546), (5, 547), (5, 548), (5, 549), (5, 550), (5, 551), (6, 552), (7, 553), (8, 553)], [(0, 557), (1, 558), (2, 558), (3, 559), (4, 559), (5, 560), (5, 561), (5, 562), (5, 563), (5, 564), (5, 565), (6, 566), (6, 567), (6, 568), (7, 569), (8, 569)], [(0, 647), (1, 647), (2, 647), (3, 647), (4, 647), (5, 647), (6, 648), (7, 649), (8, 649)], [(0, 665), (1, 665), (2, 665), (3, 665), (4, 665), (5, 665), (6, 666), (6, 667), (7, 668), (8, 669)], [(0, 694), (1, 694), (2, 694), (3, 694), (4, 694), (5, 694), (6, 695), (7, 696), (7, 697), (8, 697)], [(0, 734), (1, 734), (1, 735), (1, 736), (1, 737), (1, 738), (2, 738), (3, 739), (4, 739), (5, 739), (6, 740), (7, 741), (7, 742), (8, 742)], [(0, 753), (1, 753), (2, 753), (3, 753), (4, 753), (5, 753), (5, 754), (6, 755), (7, 756), (7, 757), (8, 757)], [(0, 790), (1, 790), (2, 790), (3, 790), (4, 790), (5, 790), (5, 791), (5, 792), (5, 793), (5, 794), (5, 795), (5, 796), (5, 797), (6, 798), (6, 799), (6, 800), (7, 801), (7, 802), (7, 803), (7, 804), (7, 805), (7, 806), (8, 806)], [(0, 818), (1, 818), (1, 819), (2, 819), (3, 820), (3, 821), (4, 821), (5, 822), (6, 822), (7, 823), (7, 824), (8, 824)], [(0, 831), (1, 831), (2, 831), (3, 831), (4, 831), (5, 831), (6, 832), (7, 833), (8, 833)], [(0, 843), (1, 843), (2, 843), (3, 843), (4, 843), (5, 843), (5, 844), (6, 845), (7, 846), (8, 846)], [(0, 843), (1, 843), (1, 844), (2, 845), (3, 846), (4, 846), (5, 847), (5, 848), (5, 849), (5, 850), (5, 851), (5, 852), (6, 853), (6, 854), (7, 855), (7, 856), (8, 856)], [(0, 872), (1, 872), (2, 872), (3, 872), (4, 872), (5, 873), (5, 874), (5, 875), (5, 876), (5, 877), (5, 878), (5, 879), (5, 880), (6, 881), (7, 882), (7, 883), (7, 884), (8, 884)], [(0, 902), (1, 902), (2, 902), (3, 902), (4, 902), (5, 902), (5, 903), (6, 904), (7, 905), (8, 905)], [(0, 941), (1, 942), (1, 943), (1, 944), (1, 945), (2, 945), (3, 946), (4, 946), (5, 946), (5, 947), (5, 948), (6, 948), (7, 949), (7, 950), (8, 950)], [(0, 993), (1, 993), (2, 993), (3, 993), (4, 993), (5, 994), (6, 994), (7, 995), (7, 996), (8, 996)], [(0, 1009), (1, 1010), (2, 1011), (3, 1012), (4, 1013), (5, 1014), (6, 1015), (7, 1016), (8, 1017)], [(0, 1029), (1, 1029), (2, 1029), (3, 1029), (3, 1030), (4, 1030), (5, 1030), (6, 1031), (6, 1032), (7, 1033), (7, 1034), (8, 1034)], [(0, 1059), (1, 1059), (2, 1059), (3, 1059), (4, 1059), (5, 1059), (5, 1060), (5, 1061), (5, 1062), (5, 1063), (6, 1064), (7, 1065), (7, 1066), (8, 1066)], [(0, 1086), (1, 1087), (2, 1087), (3, 1088), (4, 1088), (5, 1089), (5, 1090), (6, 1091), (6, 1092), (6, 1093), (7, 1094), (8, 1094)], [(0, 1128), (1, 1128), (2, 1128), (3, 1128), (4, 1128), (5, 1128), (5, 1129), (6, 1130), (7, 1131), (7, 1132), (7, 1133), (8, 1133)], [(0, 1170), (1, 1170), (2, 1170), (3, 1170), (4, 1170), (5, 1170), (5, 1171), (5, 1172), (5, 1173), (5, 1174), (6, 1175), (7, 1176), (8, 1176)], [(0, 1203), (1, 1204), (1, 1205), (2, 1205), (3, 1206), (4, 1206), (5, 1207), (5, 1208), (6, 1209), (7, 1210), (8, 1211)], [(0, 1233), (1, 1233), (2, 1233), (3, 1233), (4, 1233), (5, 1234), (5, 1235), (6, 1236), (7, 1237), (7, 1238), (7, 1239), (8, 1239)], [(0, 1241), (1, 1241), (2, 1241), (3, 1241), (4, 1241), (5, 1241), (5, 1242), (5, 1243), (5, 1244), (5, 1245), (5, 1246), (6, 1247), (7, 1248), (7, 1249), (7, 1250), (8, 1250)], [(0, 1287), (1, 1287), (2, 1288), (3, 1289), (4, 1289), (5, 1290), (6, 1291), (7, 1292), (8, 1292)], [(0, 1304), (1, 1304), (2, 1304), (3, 1304), (3, 1305), (4, 1305), (5, 1306), (5, 1307), (6, 1308), (7, 1309), (8, 1309)], [(0, 1324), (1, 1324), (1, 1325), (2, 1326), (3, 1327), (4, 1327), (5, 1328), (6, 1328), (7, 1329), (7, 1330), (8, 1330)], [(0, 1344), (1, 1344), (2, 1344), (3, 1344), (4, 1344), (5, 1344), (6, 1345), (7, 1346), (8, 1346)], [(0, 1346), (1, 1347), (1, 1348), (1, 1349), (2, 1350), (3, 1351), (3, 1352), (3, 1353), (3, 1354), (4, 1354), (5, 1355), (5, 1356), (5, 1357), (5, 1358), (6, 1359), (6, 1360), (7, 1361), (8, 1361)], [(0, 1370), (1, 1370), (2, 1370), (3, 1370), (4, 1370), (5, 1370), (6, 1371), (6, 1372), (6, 1373), (7, 1374), (8, 1374)], [(0, 1381), (1, 1381), (2, 1381), (3, 1381), (4, 1381), (5, 1381), (5, 1382), (5, 1383), (6, 1384), (7, 1385), (8, 1385)], [(0, 1426), (1, 1427), (1, 1428), (1, 1429), (1, 1430), (1, 1431), (1, 1432), (1, 1433), (2, 1433), (3, 1434), (4, 1434), (5, 1435), (5, 1436), (5, 1437), (6, 1438), (7, 1439), (7, 1440), (7, 1441), (8, 1441)], [(0, 1458), (1, 1458), (2, 1458), (3, 1459), (4, 1459), (5, 1460), (6, 1461), (6, 1462), (7, 1463), (7, 1464), (7, 1465), (8, 1465)], [(0, 1482), (1, 1482), (2, 1482), (3, 1482), (3, 1483), (4, 1483), (5, 1484), (6, 1485), (6, 1486), (7, 1487), (7, 1488), (8, 1488)], [(0, 1518), (1, 1519), (2, 1520), (3, 1521), (4, 1522), (5, 1523), (6, 1524), (7, 1525), (8, 1526)], [(0, 1561), (1, 1561), (2, 1561), (3, 1561), (4, 1561), (5, 1561), (6, 1562), (7, 1563), (8, 1563)], [(0, 1600), (1, 1600), (2, 1600), (3, 1601), (4, 1601), (5, 1602), (5, 1603), (6, 1604), (7, 1605), (8, 1605)], [(0, 1603), (1, 1604), (2, 1604), (3, 1605), (4, 1605), (5, 1606), (5, 1607), (5, 1608), (5, 1609), (5, 1610), (5, 1611), (5, 1612), (5, 1613), (5, 1614), (5, 1615), (5, 1616), (5, 1617), (5, 1618), (6, 1619), (7, 1620), (7, 1621), (8, 1621)], [(0, 1639), (1, 1639), (2, 1639), (3, 1639), (4, 1639), (5, 1639), (6, 1640), (7, 1641), (8, 1641)], [(0, 1641), (1, 1642), (2, 1642), (3, 1643), (4, 1643), (5, 1644), (6, 1645), (6, 1646), (7, 1647), (7, 1648), (7, 1649), (8, 1649)], [(0, 1697), (1, 1698), (1, 1699), (2, 1699), (3, 1700), (4, 1700), (5, 1701), (5, 1702), (5, 1703), (5, 1704), (5, 1705), (6, 1705), (7, 1706), (8, 1706)], [(0, 1708), (1, 1709), (1, 1710), (1, 1711), (1, 1712), (1, 1713), (2, 1713), (3, 1714), (4, 1714), (5, 1714), (6, 1715), (7, 1716), (8, 1716)], [(0, 1730), (1, 1730), (2, 1730), (3, 1730), (4, 1730), (5, 1730), (6, 1731), (7, 1732), (8, 1732)], [(0, 1801), (1, 1801), (2, 1801), (3, 1801), (4, 1801), (5, 1801), (5, 1802), (5, 1803), (5, 1804), (5, 1805), (6, 1806), (6, 1807), (6, 1808), (7, 1809), (7, 1810), (8, 1810)], [(0, 1832), (1, 1832), (2, 1832), (3, 1832), (4, 1832), (5, 1832), (5, 1833), (6, 1834), (7, 1835), (7, 1836), (7, 1837), (7, 1838), (7, 1839), (7, 1840), (7, 1841), (7, 1842), (8, 1842)], [(0, 1873), (1, 1873), (2, 1873), (3, 1873), (4, 1873), (5, 1873), (6, 1874), (6, 1875), (7, 1876), (8, 1876)], [(0, 1912), (1, 1912), (2, 1912), (3, 1912), (4, 1912), (5, 1912), (6, 1913), (7, 1914), (8, 1914)], [(0, 1925), (1, 1925), (2, 1925), (3, 1925), (4, 1925), (5, 1925), (5, 1926), (5, 1927), (6, 1928), (7, 1929), (7, 1930), (8, 1930)], [(0, 1943), (1, 1943), (2, 1943), (3, 1944), (4, 1944), (5, 1945), (6, 1946), (6, 1947), (7, 1948), (7, 1949), (7, 1950), (8, 1950)], [(0, 1952), (1, 1952), (1, 1953), (1, 1954), (1, 1955), (1, 1956), (2, 1956), (3, 1957), (4, 1957), (5, 1957), (5, 1958), (5, 1959), (6, 1960), (6, 1961), (7, 1962), (8, 1962)], [(0, 1974), (1, 1974), (2, 1974), (3, 1974), (4, 1974), (5, 1974), (6, 1975), (6, 1976), (7, 1977), (8, 1977)], [(0, 2006), (1, 2006), (2, 2006), (3, 2007), (4, 2007), (5, 2008), (5, 2009), (5, 2010), (6, 2011), (7, 2012), (7, 2013), (7, 2014), (8, 2014)]]\n",
      "\n",
      " Número de rutas:  70\n"
     ]
    }
   ],
   "source": [
    "from scipy.signal import find_peaks\n",
    "\n",
    "from tslearn import metrics\n",
    "from tslearn.generators import random_walks\n",
    "from tslearn.preprocessing import TimeSeriesScalerMeanVariance\n",
    "\n",
    "#Calculamos el coste de la función\n",
    "cost_func = C[-1, :]\n",
    "\n",
    "#Identificamos los posibles caminos\n",
    "sz=10\n",
    "potential_matches = find_peaks(-cost_func, distance=sz * 0.75, height=-50)[0]\n",
    "\n",
    "#Calcula las rutas óptimas a partir de cada uno de los mínimos identificados\n",
    "paths = [metrics.subsequence_path(C, match) for match in potential_matches]\n",
    "print(\"Rutas óptimas: \",paths)\n",
    "print(\"\\n Número de rutas: \",len(paths))"
   ]
  },
  {
   "cell_type": "markdown",
   "id": "d8e1e8e5",
   "metadata": {},
   "source": [
    "Como se puede observar tenemos 70 posibles rutas pero sólamente tres secuencias parecidas al patrón por lo que tendremos que filtrar las posibles secuencias. Las restricciones para encontrar la nueva secuencia son las siguientes:\n",
    "- La subsecuencia a encontrar dentro de la secuencia de mayor tamaño debe tener la misma longitud que el patrón de referencia\n",
    "- Opción 1: Que todos los valores de la subsecuencia estén contenidos dentro de una tasa de error respecto al patrón de referencia. \n",
    "- Opción 2: Sacar la distancia DTW entre el patrón de referencia y la supuesta subsecuencia y si la distancia no supera un valor máximo, será una secuencia candidata. OPCIÓN ESCOGIDA\n",
    "    - Los datos se podrían almacenar en una matriz de la siguiente forma: \n",
    "    - [secuencia encontrada] [distancia] [punto de inicio] [punto de fin] \n",
    "    - No los almacenaremos ya que no usaremos estos datos \n",
    "    - Las rutas óptimas se guardarán en otro vector\n",
    "    "
   ]
  },
  {
   "cell_type": "code",
   "execution_count": 38,
   "id": "970b15b1",
   "metadata": {},
   "outputs": [
    {
     "name": "stdout",
     "output_type": "stream",
     "text": [
      "\n",
      "Subsecuencia  1 [134.62 420.53 451.62  56.34   3.09 345.27 977.75  45.42   5.55]\n",
      "Diferencia entre la subsecuencia y el patrón:  [-0.06 34.03  6.14  0.33  0.36  0.13  9.95  0.24  0.21]\n",
      "Posición en la que empieza la subsecuencia:  500\n",
      "Posición en la que acaba la subsecuencia:  508\n",
      "\n",
      "Subsecuencia  2 [134.46 454.48 450.84  56.33   3.07 345.42 998.23  45.32   5.51]\n",
      "Diferencia entre la subsecuencia y el patrón:  [  0.1    0.08   6.92   0.34   0.38  -0.02 -10.53   0.34   0.25]\n",
      "Posición en la que empieza la subsecuencia:  1009\n",
      "Posición en la que acaba la subsecuencia:  1017\n",
      "\n",
      "Subsecuencia  3 [134.76 454.45 457.81  56.23   3.04 345.44 987.27  45.1    5.41]\n",
      "Diferencia entre la subsecuencia y el patrón:  [-0.2   0.11 -0.05  0.44  0.41 -0.04  0.43  0.56  0.35]\n",
      "Posición en la que empieza la subsecuencia:  1518\n",
      "Posición en la que acaba la subsecuencia:  1526\n",
      "\n",
      "Rutas encontradas:  [array([[  0, 500],\n",
      "       [  1, 501],\n",
      "       [  1, 502],\n",
      "       [  2, 502],\n",
      "       [  3, 503],\n",
      "       [  4, 504],\n",
      "       [  5, 505],\n",
      "       [  6, 506],\n",
      "       [  7, 507],\n",
      "       [  8, 508]]), array([[   0, 1009],\n",
      "       [   1, 1010],\n",
      "       [   2, 1011],\n",
      "       [   3, 1012],\n",
      "       [   4, 1013],\n",
      "       [   5, 1014],\n",
      "       [   6, 1015],\n",
      "       [   7, 1016],\n",
      "       [   8, 1017]]), array([[   0, 1518],\n",
      "       [   1, 1519],\n",
      "       [   2, 1520],\n",
      "       [   3, 1521],\n",
      "       [   4, 1522],\n",
      "       [   5, 1523],\n",
      "       [   6, 1524],\n",
      "       [   7, 1525],\n",
      "       [   8, 1526]])]\n"
     ]
    }
   ],
   "source": [
    "rate_error=40\n",
    "number_sequences=1\n",
    "new_paths=[]\n",
    "\n",
    "for p in paths:\n",
    "    p=np.array(p)\n",
    "    a_ast = p[0, 1]\n",
    "    b_ast = p[-1, 1]\n",
    "    sub_sequence=large_sequence[a_ast:b_ast+1]\n",
    "    if len(large_sequence[a_ast:b_ast+1]) == len(pattern):\n",
    "        path, dist = dtw_subsequence_path(sub_sequence, pattern)\n",
    "        \n",
    "        if dist < rate_error:\n",
    "            print(\"\\nSubsecuencia \",number_sequences, large_sequence[a_ast:b_ast+1])\n",
    "            print(\"Diferencia entre la subsecuencia y el patrón: \",pattern - large_sequence[a_ast:b_ast+1])\n",
    "            print(\"Posición en la que empieza la subsecuencia: \",a_ast)\n",
    "            print(\"Posición en la que acaba la subsecuencia: \",b_ast) \n",
    "            new_paths.append(p)\n",
    "            number_sequences=number_sequences+1\n",
    "\n",
    "print(\"\\nRutas encontradas: \",new_paths)"
   ]
  },
  {
   "cell_type": "markdown",
   "id": "5b51862d",
   "metadata": {},
   "source": [
    "<div class=\"alert alert-block alert-warning\">\n",
    "    <b>Conclusión: </b>Como se puede observar en los anteriores ejemplos, la librería de  <b>tslearn</b> permite tanto, trabajar con series multidimensionales como unidimensionales. Por otra parte si combinamos la librería <b>scipy</b> con la librería anter, conseguiremos localizar todas las secuencias parecidas al patrón de referencia y no únicamente la más parecida. \n",
    "\n",
    "    \n",
    "Este aspecto será interesante para la búsqueda de posiciones del esqueleto ya que puede que dos ejercicios sean muy similares y se tengan que poder clasificar de algún modo.    \n",
    "</div>"
   ]
  },
  {
   "cell_type": "code",
   "execution_count": null,
   "id": "99c1e5bd",
   "metadata": {},
   "outputs": [],
   "source": []
  }
 ],
 "metadata": {
  "kernelspec": {
   "display_name": "Python 3",
   "language": "python",
   "name": "python3"
  },
  "language_info": {
   "codemirror_mode": {
    "name": "ipython",
    "version": 3
   },
   "file_extension": ".py",
   "mimetype": "text/x-python",
   "name": "python",
   "nbconvert_exporter": "python",
   "pygments_lexer": "ipython3",
   "version": "3.8.8"
  }
 },
 "nbformat": 4,
 "nbformat_minor": 5
}
