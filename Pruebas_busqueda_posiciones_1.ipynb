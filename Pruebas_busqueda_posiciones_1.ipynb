{
 "cells": [
  {
   "cell_type": "markdown",
   "id": "45d53c46",
   "metadata": {},
   "source": [
    "# Pruebas de la búsqueda de secuencias con todas las posiciones y ángulos de los esqueletos"
   ]
  },
  {
   "cell_type": "markdown",
   "id": "9d236a42",
   "metadata": {},
   "source": [
    "En este cuaderno se van a mostrar una serie de pruebas de como el algoritmo encuentra la secuencia correspondiente a un ejercicio dentro de una secuencia de mayor tamaño obtenida a partir de un video que realiza varios ejercicios seguidos.\n",
    "\n",
    "Esto se realizará una vez se hayan obtenido los ángulos de todos los frames, tanto de los ejercicios individuales como del vídeo que realiza éstos ejercicios de manera ininterrumpida. Para ello se han planteado varias soluciones:\n",
    "- Solución 1: Se trabajará con arrays unidimensionales,\n",
    "- Solución 2: Se buscarán secuencias de inicio y de final,\n",
    "- Solución 3: \""
   ]
  },
  {
   "cell_type": "markdown",
   "id": "e22130f3",
   "metadata": {},
   "source": [
    "### Planteamiento del problema"
   ]
  },
  {
   "cell_type": "markdown",
   "id": "d1e691d2",
   "metadata": {},
   "source": [
    "Con las posiciones localizadas en las que comienza y finalizan los ejercicios dentro de la secuencia larga se procederá de la siguiente manera. Sabemos que el vídeo en el que se realizan todos los ejercicios tiene \\\"x\\\" frames y sabemos en que segundo del vídeo se empieza y acaba un ejercicio (esto lo observamos al reproducir el vídeo, no es algo que haya obtenido del programa). Con esta información localizaremos en que puntos empiezan y acaban cada uno de los ejercicios y los compararemos con los resultados obtenidos en el programa"
   ]
  },
  {
   "cell_type": "markdown",
   "id": "327eee56",
   "metadata": {},
   "source": [
    "Según se ha observado en el vídeo los ejercicios comienzan en los siguientes instantes de tiempo:\n",
    "- Ejercicio 1: 0 - 0:32 \n",
    "- Ejercicio 2: 0:32 - 0:51 \n",
    "- Ejercicio 3: 0:51 - 1:12\n",
    "- Ejercicio 4: 1:12 - 1:37\n",
    "\n",
    "Por lo tanto lo que se tendrá que hacer es dividir el número de frames obtenidos entre el tiempo del vídeo y de esta manera se podrá hacer una aproximación de los frames que ha obtenido en cada segundo.\n",
    "- El número de frames obtenidos en el vídeo largo han sido <b> 2919 frames </b>\n",
    "- Como la duración del vídeo es de 1:37 min tenemos una duración de <b> 97 segundos </b>\n",
    "- Por lo tanto <b> en cada segundo se han obtenido 30 frames </b>, esto quiere decir:\n",
    "    - Ejericio 1 comprede desde el frame 0 hasta el frame 960\n",
    "    - Ejericio 2 comprede desde el frame 960 hasta el frame 1530\n",
    "    - Ejericio 3 comprede desde el frame 1530 hasta el frame 2160\n",
    "    - Ejericio 4 comprede desde el frame 2160 hasta el frame 2919\""
   ]
  },
  {
   "cell_type": "code",
   "execution_count": 3,
   "id": "4e7fc419",
   "metadata": {},
   "outputs": [],
   "source": [
    "# imports\n",
    "import detectron2\n",
    "from detectron2.utils.logger import setup_logger\n",
    "setup_logger()\n",
    "\n",
    "import math\n",
    "import os\n",
    "import pandas as pd\n",
    "import pickle as pk\n",
    "import numpy as np\n",
    "import cv2\n",
    "from matplotlib import pyplot as plt\n",
    "%matplotlib inline\n",
    "\n",
    "# import de utilities de detectron\n",
    "from detectron2 import model_zoo\n",
    "from detectron2.engine import DefaultPredictor\n",
    "from detectron2.config import get_cfg\n",
    "from detectron2.utils.visualizer import Visualizer\n",
    "from detectron2.data import MetadataCatalog\n",
    "\n",
    "#modelo\n",
    "cfg = get_cfg()\n",
    "cfg.merge_from_file(model_zoo.get_config_file(\"COCO-Keypoints/keypoint_rcnn_R_50_FPN_3x.yaml\"))\n",
    "cfg.MODEL.ROI_HEADS.SCORE_THRESH_TEST = 0.99  # set threshold for this model\n",
    "cfg.MODEL.WEIGHTS = model_zoo.get_checkpoint_url(\"COCO-Keypoints/keypoint_rcnn_R_50_FPN_3x.yaml\")\n",
    "predictor = DefaultPredictor(cfg)\n",
    "\n",
    "from PosicionVF import Posicion #Esta clase nos permitirá sacar los ángulos de cada esqueleto"
   ]
  },
  {
   "cell_type": "markdown",
   "id": "e8f9a038",
   "metadata": {},
   "source": [
    "Para mostrar los ejemplos, se va a empezar cargando todos los valores de las posiciones de los ejercicios individuales y de los del video que contiene todos los movimientos.\n",
    "\n",
    "Los ángulos se han tenido que almacenar de la siguiente forma: [ángulo ,0]. Esto se debe a que si no por cada esqueleto generaría una matriz con valores multidimensionales y unidimensionales, lo que más tarde implicaría un problema en el cálculo de las distancias"
   ]
  },
  {
   "cell_type": "code",
   "execution_count": 4,
   "id": "fa1dd4e7",
   "metadata": {},
   "outputs": [],
   "source": [
    "def obtenerPosiciones(directorio):\n",
    "    contenido=os.listdir(directorio)\n",
    "    \n",
    "    array_puntos=[]\n",
    "\n",
    "    for imagen in contenido:\n",
    "        imagen2=directorio+imagen\n",
    "        imagen3=cv2.imread(imagen2)\n",
    "\n",
    "        out = predictor(imagen3)\n",
    "        type(out)\n",
    "        j = out.get(\"instances\")\n",
    "        pk = j.pred_keypoints.cpu()\n",
    "\n",
    "        if len(pk)>0:\n",
    "            x = pk[0][:,0].cpu().numpy()\n",
    "            y = pk[0][:,1].cpu().numpy()\n",
    "\n",
    "            obj1=Posicion(x,y)\n",
    "            array_puntos.append([obj1.nariz, obj1.hombroI, obj1.hombroD, obj1.cuello, [obj1.angCuelloSupI,0] ,\n",
    "                                [obj1.angCuelloSupD,0], obj1.codoI, obj1.codoD, obj1.manoI, obj1.manoD,\n",
    "                                [obj1.angCodoI,0], [obj1.angCodoD,0], [obj1.angHombroI,0], [obj1.angHombroD,0],\n",
    "                                 obj1.caderaI, obj1.caderaD, obj1.cadera, obj1.rodillaI, obj1.rodillaD ,\n",
    "                                [obj1.angCaderaI,0], [obj1.angCaderaD,0], [obj1.angCaderaTorsoI,0],\n",
    "                                [obj1.angCaderaTorsoD,0], obj1.tobilloI, obj1.tobilloD ,[obj1.angRodillaI,0] ,\n",
    "                                [obj1.angRodillaD,0] ])\n",
    "\n",
    "    return array_puntos"
   ]
  },
  {
   "cell_type": "code",
   "execution_count": 7,
   "id": "8e82691b",
   "metadata": {},
   "outputs": [],
   "source": [
    "directorio='/home/lnc1002/frames_ejercicio1/' \n",
    "array_puntos1=obtenerPosiciones(directorio)\n",
    "directorio='/home/lnc1002/frames_ejercicio2/' \n",
    "array_puntos2=obtenerPosiciones(directorio)\n",
    "directorio='/home/lnc1002/frames_ejercicio3/' \n",
    "array_puntos3=obtenerPosiciones(directorio)\n",
    "directorio='/home/lnc1002/frames_ejercicio4/' \n",
    "array_puntos4=obtenerPosiciones(directorio)\n",
    "directorio='/home/lnc1002/frames_ejercicios_totales/' \n",
    "array_puntos_totales=obtenerPosiciones(directorio)"
   ]
  },
  {
   "cell_type": "markdown",
   "id": "6be97a4a",
   "metadata": {},
   "source": [
    "## Solución 1: Trabajar con arrays unidimensionales"
   ]
  },
  {
   "cell_type": "markdown",
   "id": "3e9f16af",
   "metadata": {},
   "source": [
    "Lo siguiente que vamos a hacer es convertir los arrays multidimensionales en arrays unidimensionales."
   ]
  },
  {
   "cell_type": "code",
   "execution_count": 9,
   "id": "54de85af",
   "metadata": {},
   "outputs": [
    {
     "name": "stdout",
     "output_type": "stream",
     "text": [
      "Ejercicio 1:  52326\n",
      "Ejercicio 2:  33696\n",
      "Ejercicio 3:  33804\n",
      "Ejercicio 4:  23706\n",
      "Ejercicio completo:  156438\n",
      "Longitud de los ejercicios por separado:  143532\n"
     ]
    }
   ],
   "source": [
    "array_puntos1_3=np.array(array_puntos1).flatten()\n",
    "array_puntos2_3=np.array(array_puntos2).flatten()\n",
    "array_puntos3_3=np.array(array_puntos3).flatten()\n",
    "array_puntos4_3=np.array(array_puntos4).flatten()\n",
    "array_puntos_total_3=np.array(array_puntos_totales).flatten()\n",
    "\n",
    "print(\"Ejercicio 1: \",len(array_puntos1_3))\n",
    "print(\"Ejercicio 2: \",len(array_puntos2_3))\n",
    "print(\"Ejercicio 3: \",len(array_puntos3_3))\n",
    "print(\"Ejercicio 4: \",len(array_puntos4_3))\n",
    "print(\"Ejercicio completo: \",len(array_puntos_total_3))\n",
    "\n",
    "print(\"Longitud de los ejercicios por separado: \",len(array_puntos1_3)+len(array_puntos2_3)+len(array_puntos3_3)+len(array_puntos4_3))"
   ]
  },
  {
   "cell_type": "markdown",
   "id": "2050e29e",
   "metadata": {},
   "source": [
    "<div class=\"alert alert-block alert-warning\">\n",
    "    <b>Nota: </b>Como se puede observar la longitud del vídeo que contiene todos los ejercicios no es igual a la suma de los diferentes ejercicios, es por esa razón que puede haber frames sin adjudicar a ningún ejercicio\n",
    "</div>"
   ]
  },
  {
   "cell_type": "markdown",
   "id": "2ac82fd4",
   "metadata": {},
   "source": [
    "Una vez que tenemos todos los valores, un aspecto MUY IMPORTANTE es eliminar aquellos valores 'nan'. En caso de no ser eliminados, el algoritmo interpreta que este es el camino más óptimo y detecta ese frame como inicio y final del ejercicio de referencia"
   ]
  },
  {
   "cell_type": "code",
   "execution_count": 10,
   "id": "cee1ca77",
   "metadata": {},
   "outputs": [],
   "source": [
    "array_puntos_total_3 = array_puntos_total_3[~np.isnan(array_puntos_total_3)]"
   ]
  },
  {
   "cell_type": "markdown",
   "id": "668d3556",
   "metadata": {},
   "source": [
    "Una vez eliminados los valores habrá que tener en cuenta lo siguiene. En el vídeo de ejercicios completos no aparecen sergún el orden de ejercicios individuales, es decir, los ejercicios se han realizado de la siguiente manera:\n",
    "- Primer ejercicio del vídeo completo  -> Ejercicio 1\n",
    "- Segundo ejercicio del vídeo completo -> Ejercicio 4\n",
    "- Tercer ejercicio del vídeo completo  -> Ejercicio 2\n",
    "- Cuarto ejercicio del vídeo completo  -> Ejercicio 3\n",
    "\n",
    "Por lo que, teniendo en cuenta los valores almacenados de cada ejercicio:\n",
    "- Ejercicio 1: 0-52.326\n",
    "- Ejercicio 2: 76.032-109.728\n",
    "- Ejercicio 3: 109.728-143.532\n",
    "- Ejercicio 4: 52.326-76.032   \n",
    "\n",
    "Estos valores son bastante relativos porque ya hemos comentado que entre vídeos los ejercicios no duran lo mismo ni empieza uno nada más terminar el siguiente."
   ]
  },
  {
   "cell_type": "code",
   "execution_count": 11,
   "id": "daf10f88",
   "metadata": {},
   "outputs": [
    {
     "name": "stdout",
     "output_type": "stream",
     "text": [
      "El Ejercicio 1 comienza en el frame = 162\n",
      "El Ejercicio 1 finaliza en el frame = 52487\n"
     ]
    }
   ],
   "source": [
    "from tslearn.metrics import dtw_subsequence_path\n",
    "\n",
    "path, dist = dtw_subsequence_path(array_puntos1_3, array_puntos_total_3)\n",
    "\n",
    "path=np.array(path)\n",
    "a_ast = path[0, 1]\n",
    "b_ast = path[-1, 1]\n",
    "\n",
    "print(\"El Ejercicio 1 comienza en el frame =\",a_ast)\n",
    "print(\"El Ejercicio 1 finaliza en el frame =\",b_ast)"
   ]
  },
  {
   "cell_type": "markdown",
   "id": "6f48cbf2",
   "metadata": {},
   "source": [
    "<div class=\"alert alert-block alert-success\">\n",
    "    Es increible, encuentra la secuencia prácticamente a la perfección.\n",
    "</div>"
   ]
  },
  {
   "cell_type": "code",
   "execution_count": 12,
   "id": "807cce3a",
   "metadata": {},
   "outputs": [
    {
     "name": "stdout",
     "output_type": "stream",
     "text": [
      "El Ejercicio 2 comienza en el frame = 18522\n",
      "El Ejercicio 2 finaliza en el frame = 52217\n"
     ]
    }
   ],
   "source": [
    "path, dist = dtw_subsequence_path(array_puntos2_3, array_puntos_total_3)\n",
    "\n",
    "path=np.array(path)\n",
    "a_ast = path[0, 1]\n",
    "b_ast = path[-1, 1]\n",
    "\n",
    "print(\"El Ejercicio 2 comienza en el frame =\",a_ast)\n",
    "print(\"El Ejercicio 2 finaliza en el frame =\",b_ast)"
   ]
  },
  {
   "cell_type": "markdown",
   "id": "06b3dd46",
   "metadata": {},
   "source": [
    "<div class=\"alert alert-block alert-danger\">\n",
    "    El resultado obtenido está demasiado lejos del valor esperado.\n",
    "</div>"
   ]
  },
  {
   "cell_type": "code",
   "execution_count": 13,
   "id": "8562d5e4",
   "metadata": {},
   "outputs": [
    {
     "name": "stdout",
     "output_type": "stream",
     "text": [
      "El Ejercicio 3 comienza en el frame = 49626\n",
      "El Ejercicio 3 finaliza en el frame = 83265\n"
     ]
    }
   ],
   "source": [
    "path, dist = dtw_subsequence_path(array_puntos3_3, array_puntos_total_3)\n",
    "\n",
    "path=np.array(path)\n",
    "a_ast = path[0, 1]\n",
    "b_ast = path[-1, 1]\n",
    "\n",
    "print(\"El Ejercicio 3 comienza en el frame =\",a_ast)\n",
    "print(\"El Ejercicio 3 finaliza en el frame =\",b_ast)"
   ]
  },
  {
   "cell_type": "markdown",
   "id": "a6f91b37",
   "metadata": {},
   "source": [
    "<div class=\"alert alert-block alert-danger\">\n",
    "    El resultado obtenido está demasiado lejos del valor esperado.\n",
    "</div>"
   ]
  },
  {
   "cell_type": "code",
   "execution_count": 15,
   "id": "96bc4288",
   "metadata": {},
   "outputs": [
    {
     "name": "stdout",
     "output_type": "stream",
     "text": [
      "El Ejercicio 4 comienza en el frame = 14148\n",
      "El Ejercicio 4 finaliza en el frame = 37853\n"
     ]
    }
   ],
   "source": [
    "path, dist = dtw_subsequence_path(array_puntos4_3, array_puntos_total_3)\n",
    "\n",
    "path=np.array(path)\n",
    "a_ast = path[0, 1]\n",
    "b_ast = path[-1, 1]\n",
    "\n",
    "print(\"El Ejercicio 4 comienza en el frame =\",a_ast)\n",
    "print(\"El Ejercicio 4 finaliza en el frame =\",b_ast)"
   ]
  },
  {
   "cell_type": "markdown",
   "id": "203e6fd8",
   "metadata": {},
   "source": [
    "<div class=\"alert alert-block alert-danger\">\n",
    "    El resultado obtenido está demasiado lejos del valor esperado.\n",
    "</div>"
   ]
  },
  {
   "cell_type": "markdown",
   "id": "165da4a8",
   "metadata": {},
   "source": [
    "<div class=\"alert alert-block alert-danger\">\n",
    "    Como hemos podido observar sólo encuentra bien la primera secuencia pero el resto está bastante lejos de encontrarlas. No podemos estimar el resto a dependencias de la primera porque por los datos observados no se sabe si la ha encontrado por su buena semejanza o simplemente por pura coincidencia.\n",
    "</div>"
   ]
  },
  {
   "cell_type": "markdown",
   "id": "edec0dcc",
   "metadata": {},
   "source": [
    "### Recortamos los Frames"
   ]
  },
  {
   "cell_type": "code",
   "execution_count": 19,
   "id": "44122373",
   "metadata": {},
   "outputs": [
    {
     "name": "stdout",
     "output_type": "stream",
     "text": [
      "Nuevo número total de frames para el Ejercicio 1:  323\n",
      "Nuevo número total de frames para el Ejercicio 2:  208\n",
      "Nuevo número total de frames para el Ejercicio 3:  208\n",
      "Nuevo número total de frames para el Ejercicio 4:  146\n",
      "Nuevo número total de frames para los Ejercicios totales:  965\n"
     ]
    }
   ],
   "source": [
    "def cutFrames(array_puntos_largo):\n",
    "    array_puntos=[]\n",
    "    guardar=0\n",
    "    for ang in array_puntos_largo:\n",
    "        guardar=guardar+1\n",
    "        if guardar==3:\n",
    "            array_puntos.append(ang)\n",
    "            guardar=0\n",
    "    return array_puntos\n",
    "\n",
    "array_puntos1_2=cutFrames(array_puntos1)\n",
    "print(\"Nuevo número total de frames para el Ejercicio 1: \", len(array_puntos1_2))    \n",
    "\n",
    "array_puntos2_2=cutFrames(array_puntos2)\n",
    "print(\"Nuevo número total de frames para el Ejercicio 2: \", len(array_puntos2_2)) \n",
    "\n",
    "array_puntos3_2=cutFrames(array_puntos3)\n",
    "print(\"Nuevo número total de frames para el Ejercicio 3: \", len(array_puntos3_2)) \n",
    "\n",
    "array_puntos4_2=cutFrames(array_puntos4)\n",
    "print(\"Nuevo número total de frames para el Ejercicio 4: \", len(array_puntos4_2)) \n",
    "\n",
    "array_puntos_total_2=cutFrames(array_puntos_totales) \n",
    "print(\"Nuevo número total de frames para los Ejercicios totales: \", len(array_puntos_total_2)) "
   ]
  },
  {
   "cell_type": "markdown",
   "id": "f794ffad",
   "metadata": {},
   "source": [
    "Con estos valores repetimos el experimento anterior"
   ]
  },
  {
   "cell_type": "code",
   "execution_count": 20,
   "id": "f1c82d6f",
   "metadata": {},
   "outputs": [
    {
     "name": "stdout",
     "output_type": "stream",
     "text": [
      "Ejercicio 1:  17442\n",
      "Ejercicio 2:  11232\n",
      "Ejercicio 3:  11232\n",
      "Ejercicio 4:  7884\n",
      "Ejercicio completo:  52110\n",
      "Longitud de los ejercicios por separado:  47790\n"
     ]
    }
   ],
   "source": [
    "array_puntos1_3=np.array(array_puntos1_2).flatten()\n",
    "array_puntos2_3=np.array(array_puntos2_2).flatten()\n",
    "array_puntos3_3=np.array(array_puntos3_2).flatten()\n",
    "array_puntos4_3=np.array(array_puntos4_2).flatten()\n",
    "array_puntos_total_3=np.array(array_puntos_total_2).flatten()\n",
    "\n",
    "print(\"Ejercicio 1: \",len(array_puntos1_3))\n",
    "print(\"Ejercicio 2: \",len(array_puntos2_3))\n",
    "print(\"Ejercicio 3: \",len(array_puntos3_3))\n",
    "print(\"Ejercicio 4: \",len(array_puntos4_3))\n",
    "print(\"Ejercicio completo: \",len(array_puntos_total_3))\n",
    "\n",
    "print(\"Longitud de los ejercicios por separado: \",len(array_puntos1_3)+len(array_puntos2_3)+len(array_puntos3_3)+len(array_puntos4_3))\n",
    "\n",
    "array_puntos_total_3 = array_puntos_total_3[~np.isnan(array_puntos_total_3)]"
   ]
  },
  {
   "cell_type": "markdown",
   "id": "f252979b",
   "metadata": {},
   "source": [
    "Teniendo en cuenta los valores almacenados de cada ejercicio:\n",
    "- Ejercicio 1: 0-17.442\n",
    "- Ejercicio 2: 25.326 -36.558\n",
    "- Ejercicio 3: 36.558-47.790\n",
    "- Ejercicio 4: 17.442-25.326 "
   ]
  },
  {
   "cell_type": "code",
   "execution_count": 21,
   "id": "61ba0a1d",
   "metadata": {},
   "outputs": [
    {
     "name": "stdout",
     "output_type": "stream",
     "text": [
      "El Ejercicio 1 comienza en el frame = 12366\n",
      "El Ejercicio 1 finaliza en el frame = 29807\n"
     ]
    }
   ],
   "source": [
    "path, dist = dtw_subsequence_path(array_puntos1_3, array_puntos_total_3)\n",
    "\n",
    "path=np.array(path)\n",
    "a_ast = path[0, 1]\n",
    "b_ast = path[-1, 1]\n",
    "\n",
    "print(\"El Ejercicio 1 comienza en el frame =\",a_ast)\n",
    "print(\"El Ejercicio 1 finaliza en el frame =\",b_ast)"
   ]
  },
  {
   "cell_type": "markdown",
   "id": "ba4b6dd2",
   "metadata": {},
   "source": [
    "<div class=\"alert alert-block alert-danger\">\n",
    "    El resultado obtenido está demasiado lejos del valor esperado.\n",
    "</div>"
   ]
  },
  {
   "cell_type": "code",
   "execution_count": 22,
   "id": "dfc351a5",
   "metadata": {},
   "outputs": [
    {
     "name": "stdout",
     "output_type": "stream",
     "text": [
      "El Ejercicio 2 comienza en el frame = 16632\n",
      "El Ejercicio 2 finaliza en el frame = 27863\n"
     ]
    }
   ],
   "source": [
    "path, dist = dtw_subsequence_path(array_puntos2_3, array_puntos_total_3)\n",
    "\n",
    "path=np.array(path)\n",
    "a_ast = path[0, 1]\n",
    "b_ast = path[-1, 1]\n",
    "\n",
    "print(\"El Ejercicio 2 comienza en el frame =\",a_ast)\n",
    "print(\"El Ejercicio 2 finaliza en el frame =\",b_ast)"
   ]
  },
  {
   "cell_type": "markdown",
   "id": "1adb2e72",
   "metadata": {},
   "source": [
    "<div class=\"alert alert-block alert-info\">\n",
    "    El resultado obtenido está lejos de ser el esperado pero podría llegar a ser aceptable\n",
    "</div>"
   ]
  },
  {
   "cell_type": "code",
   "execution_count": 23,
   "id": "3dd084c9",
   "metadata": {},
   "outputs": [
    {
     "name": "stdout",
     "output_type": "stream",
     "text": [
      "El Ejercicio 3 comienza en el frame = 35322\n",
      "El Ejercicio 3 finaliza en el frame = 46439\n"
     ]
    }
   ],
   "source": [
    "path, dist = dtw_subsequence_path(array_puntos3_3, array_puntos_total_3)\n",
    "\n",
    "path=np.array(path)\n",
    "a_ast = path[0, 1]\n",
    "b_ast = path[-1, 1]\n",
    "\n",
    "print(\"El Ejercicio 3 comienza en el frame =\",a_ast)\n",
    "print(\"El Ejercicio 3 finaliza en el frame =\",b_ast)"
   ]
  },
  {
   "cell_type": "markdown",
   "id": "897f6983",
   "metadata": {},
   "source": [
    "<div class=\"alert alert-block alert-success\">\n",
    "    Es increible, encuentra la secuencia prácticamente a la perfección.\n",
    "</div>"
   ]
  },
  {
   "cell_type": "code",
   "execution_count": 24,
   "id": "48c18970",
   "metadata": {},
   "outputs": [
    {
     "name": "stdout",
     "output_type": "stream",
     "text": [
      "El Ejercicio 4 comienza en el frame = 15174\n",
      "El Ejercicio 4 finaliza en el frame = 23057\n"
     ]
    }
   ],
   "source": [
    "path, dist = dtw_subsequence_path(array_puntos4_3, array_puntos_total_3)\n",
    "\n",
    "path=np.array(path)\n",
    "a_ast = path[0, 1]\n",
    "b_ast = path[-1, 1]\n",
    "\n",
    "print(\"El Ejercicio 4 comienza en el frame =\",a_ast)\n",
    "print(\"El Ejercicio 4 finaliza en el frame =\",b_ast)"
   ]
  },
  {
   "cell_type": "markdown",
   "id": "0c2e0caa",
   "metadata": {},
   "source": [
    "<div class=\"alert alert-block alert-info\">\n",
    "    El resultado obtenido está lejos de ser el esperado pero podría llegar a ser aceptable\n",
    "</div>"
   ]
  },
  {
   "cell_type": "markdown",
   "id": "d5902136",
   "metadata": {},
   "source": [
    "### Recortamos aún más los Frames "
   ]
  },
  {
   "cell_type": "code",
   "execution_count": 25,
   "id": "46b03226",
   "metadata": {},
   "outputs": [
    {
     "name": "stdout",
     "output_type": "stream",
     "text": [
      "Nuevo número total de frames para el Ejercicio 1:  161\n",
      "Nuevo número total de frames para el Ejercicio 2:  104\n",
      "Nuevo número total de frames para el Ejercicio 3:  104\n",
      "Nuevo número total de frames para el Ejercicio 4:  73\n",
      "Nuevo número total de frames para los Ejercicios totales:  482\n"
     ]
    }
   ],
   "source": [
    "def cutFrames(array_puntos_largo):\n",
    "    array_puntos=[]\n",
    "    guardar=0\n",
    "    for ang in array_puntos_largo:\n",
    "        guardar=guardar+1\n",
    "        if guardar==6:\n",
    "            array_puntos.append(ang)\n",
    "            guardar=0\n",
    "    return array_puntos\n",
    "\n",
    "array_puntos1_2=cutFrames(array_puntos1)\n",
    "print(\"Nuevo número total de frames para el Ejercicio 1: \", len(array_puntos1_2))    \n",
    "\n",
    "array_puntos2_2=cutFrames(array_puntos2)\n",
    "print(\"Nuevo número total de frames para el Ejercicio 2: \", len(array_puntos2_2)) \n",
    "\n",
    "array_puntos3_2=cutFrames(array_puntos3)\n",
    "print(\"Nuevo número total de frames para el Ejercicio 3: \", len(array_puntos3_2)) \n",
    "\n",
    "array_puntos4_2=cutFrames(array_puntos4)\n",
    "print(\"Nuevo número total de frames para el Ejercicio 4: \", len(array_puntos4_2)) \n",
    "\n",
    "array_puntos_total_2=cutFrames(array_puntos_totales) \n",
    "print(\"Nuevo número total de frames para los Ejercicios totales: \", len(array_puntos_total_2))"
   ]
  },
  {
   "cell_type": "markdown",
   "id": "e8d1cd50",
   "metadata": {},
   "source": [
    "Con estos valores repetimos el experimento anterior"
   ]
  },
  {
   "cell_type": "code",
   "execution_count": 26,
   "id": "598fe497",
   "metadata": {},
   "outputs": [
    {
     "name": "stdout",
     "output_type": "stream",
     "text": [
      "Ejercicio 1:  8694\n",
      "Ejercicio 2:  5616\n",
      "Ejercicio 3:  5616\n",
      "Ejercicio 4:  3942\n",
      "Ejercicio completo:  26028\n",
      "Longitud de los ejercicios por separado:  23868\n"
     ]
    }
   ],
   "source": [
    "array_puntos1_3=np.array(array_puntos1_2).flatten()\n",
    "array_puntos2_3=np.array(array_puntos2_2).flatten()\n",
    "array_puntos3_3=np.array(array_puntos3_2).flatten()\n",
    "array_puntos4_3=np.array(array_puntos4_2).flatten()\n",
    "array_puntos_total_3=np.array(array_puntos_total_2).flatten()\n",
    "\n",
    "print(\"Ejercicio 1: \",len(array_puntos1_3))\n",
    "print(\"Ejercicio 2: \",len(array_puntos2_3))\n",
    "print(\"Ejercicio 3: \",len(array_puntos3_3))\n",
    "print(\"Ejercicio 4: \",len(array_puntos4_3))\n",
    "print(\"Ejercicio completo: \",len(array_puntos_total_3))\n",
    "\n",
    "print(\"Longitud de los ejercicios por separado: \",len(array_puntos1_3)+len(array_puntos2_3)+len(array_puntos3_3)+len(array_puntos4_3))\n",
    "\n",
    "array_puntos_total_3 = array_puntos_total_3[~np.isnan(array_puntos_total_3)]"
   ]
  },
  {
   "cell_type": "markdown",
   "id": "ecd378cf",
   "metadata": {},
   "source": [
    "Teniendo en cuenta los valores almacenados de cada ejercicio:\n",
    "- Ejercicio 1: 0-8.694\n",
    "- Ejercicio 2: 12.636-18.252\n",
    "- Ejercicio 3: 18.252-23.868\n",
    "- Ejercicio 4: 8.694-12.636 "
   ]
  },
  {
   "cell_type": "code",
   "execution_count": 31,
   "id": "0324fe8c",
   "metadata": {},
   "outputs": [
    {
     "name": "stdout",
     "output_type": "stream",
     "text": [
      "El Ejercicio 1 comienza en el frame = 5076\n",
      "El Ejercicio 1 finaliza en el frame = 13769\n"
     ]
    }
   ],
   "source": [
    "path, dist = dtw_subsequence_path(array_puntos1_3, array_puntos_total_3)\n",
    "\n",
    "path=np.array(path)\n",
    "a_ast = path[0, 1]\n",
    "b_ast = path[-1, 1]\n",
    "\n",
    "print(\"El Ejercicio 1 comienza en el frame =\",a_ast)\n",
    "print(\"El Ejercicio 1 finaliza en el frame =\",b_ast)"
   ]
  },
  {
   "cell_type": "markdown",
   "id": "8fee2eb7",
   "metadata": {},
   "source": [
    "<div class=\"alert alert-block alert-info\">\n",
    "    El resultado obtenido está lejos de ser el esperado pero podría llegar a ser aceptable\n",
    "</div>"
   ]
  },
  {
   "cell_type": "code",
   "execution_count": 32,
   "id": "745e7c7b",
   "metadata": {},
   "outputs": [
    {
     "name": "stdout",
     "output_type": "stream",
     "text": [
      "El Ejercicio 2 comienza en el frame = 8316\n",
      "El Ejercicio 2 finaliza en el frame = 13931\n"
     ]
    }
   ],
   "source": [
    "path, dist = dtw_subsequence_path(array_puntos2_3, array_puntos_total_3)\n",
    "\n",
    "path=np.array(path)\n",
    "a_ast = path[0, 1]\n",
    "b_ast = path[-1, 1]\n",
    "\n",
    "print(\"El Ejercicio 2 comienza en el frame =\",a_ast)\n",
    "print(\"El Ejercicio 2 finaliza en el frame =\",b_ast)"
   ]
  },
  {
   "cell_type": "markdown",
   "id": "937dd4d2",
   "metadata": {},
   "source": [
    "<div class=\"alert alert-block alert-info\">\n",
    "    El resultado obtenido está ALGO lejos del valor esperado.\n",
    "</div>"
   ]
  },
  {
   "cell_type": "code",
   "execution_count": 33,
   "id": "fd2938d9",
   "metadata": {},
   "outputs": [
    {
     "name": "stdout",
     "output_type": "stream",
     "text": [
      "El Ejercicio 3 comienza en el frame = 16686\n",
      "El Ejercicio 3 finaliza en el frame = 22301\n"
     ]
    }
   ],
   "source": [
    "path, dist = dtw_subsequence_path(array_puntos3_3, array_puntos_total_3)\n",
    "\n",
    "path=np.array(path)\n",
    "a_ast = path[0, 1]\n",
    "b_ast = path[-1, 1]\n",
    "\n",
    "print(\"El Ejercicio 3 comienza en el frame =\",a_ast)\n",
    "print(\"El Ejercicio 3 finaliza en el frame =\",b_ast)"
   ]
  },
  {
   "cell_type": "markdown",
   "id": "74d3bf94",
   "metadata": {},
   "source": [
    "<div class=\"alert alert-block alert-success\">\n",
    "    Es increible, encuentra la secuencia prácticamente a la perfección.\n",
    "</div>"
   ]
  },
  {
   "cell_type": "code",
   "execution_count": 34,
   "id": "1147b648",
   "metadata": {},
   "outputs": [
    {
     "name": "stdout",
     "output_type": "stream",
     "text": [
      "El Ejercicio 4 comienza en el frame = 9936\n",
      "El Ejercicio 4 finaliza en el frame = 13877\n"
     ]
    }
   ],
   "source": [
    "path, dist = dtw_subsequence_path(array_puntos4_3, array_puntos_total_3)\n",
    "\n",
    "path=np.array(path)\n",
    "a_ast = path[0, 1]\n",
    "b_ast = path[-1, 1]\n",
    "\n",
    "print(\"El Ejercicio 4 comienza en el frame =\",a_ast)\n",
    "print(\"El Ejercicio 4 finaliza en el frame =\",b_ast)"
   ]
  },
  {
   "cell_type": "markdown",
   "id": "a8312161",
   "metadata": {},
   "source": [
    "<div class=\"alert alert-block alert-success\">\n",
    "    Es increible, encuentra la secuencia prácticamente a la perfección.\n",
    "</div>"
   ]
  },
  {
   "cell_type": "markdown",
   "id": "b02e31d9",
   "metadata": {},
   "source": [
    "<div class=\"alert alert-block alert-warning\">\n",
    "    <b>Conclusión: </b>Como se puede observar a menor número de frames, mejor encuentra algunas secuencias.\n",
    "    Hay que añadir que además el tiempo de ejecución es mucho mejor pero como se puede observar en los ejemplos, encuentra algunas bien y otras demasiado mal por lo que no es una herramienta del todo fiable\n",
    "</div>"
   ]
  },
  {
   "cell_type": "code",
   "execution_count": null,
   "id": "7debf0aa",
   "metadata": {},
   "outputs": [],
   "source": []
  }
 ],
 "metadata": {
  "kernelspec": {
   "display_name": "Python 3 (ipykernel)",
   "language": "python",
   "name": "python3"
  },
  "language_info": {
   "codemirror_mode": {
    "name": "ipython",
    "version": 3
   },
   "file_extension": ".py",
   "mimetype": "text/x-python",
   "name": "python",
   "nbconvert_exporter": "python",
   "pygments_lexer": "ipython3",
   "version": "3.7.11"
  }
 },
 "nbformat": 4,
 "nbformat_minor": 5
}
